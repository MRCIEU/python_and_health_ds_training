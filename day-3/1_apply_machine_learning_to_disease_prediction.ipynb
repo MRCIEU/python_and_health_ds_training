{
 "cells": [
  {
   "cell_type": "markdown",
   "id": "09b6a236-2f1d-430f-83ef-85c0da232026",
   "metadata": {},
   "source": [
    "# Identifying disease risk\n",
    "predicting the presence of a health condition based on patient data\n",
    "\n",
    "## Scikit Learn (https://scikit-learn.org/dev/index.html)\n",
    "Open-sourced Library for Machine Learning\n",
    "- Pro-processing\n",
    "- Machine Learning Models\n",
    "- Evaluation Metrics\n"
   ]
  },
  {
   "cell_type": "code",
   "execution_count": null,
   "id": "f89e1682-f6f8-4dc1-b68b-940de5ace6ab",
   "metadata": {},
   "outputs": [],
   "source": [
    "import pandas as pd\n",
    "import matplotlib.pyplot as plt\n",
    "from sklearn.model_selection import train_test_split\n",
    "from sklearn.preprocessing import StandardScaler\n",
    "from sklearn.linear_model import LogisticRegression\n",
    "from sklearn.metrics import classification_report, confusion_matrix, accuracy_score"
   ]
  },
  {
   "cell_type": "markdown",
   "id": "f3599cec-a414-4eeb-b965-e5dfcab79cba",
   "metadata": {},
   "source": [
    "## Mock disease dataset\n",
    "\n",
    "a mock dataset that contains patient data, such as age, bmi, blood pressure, etc.\n",
    "\n",
    "The data is available at: https://github.com/MRCIEU/python_and_health_ds_training/tree/main/day-3/data\n",
    "\n",
    "Save data to the following path:\n",
    "\n",
    "`./data/mock_disease_data.csv`"
   ]
  },
  {
   "cell_type": "code",
   "execution_count": null,
   "id": "ff7b8037-6d7b-423d-a05f-bc92421458e5",
   "metadata": {},
   "outputs": [],
   "source": [
    "# Load the dataset\n",
    "df = pd.read_csv(\"./data/mock_disease_data.csv\")\n",
    "df.info()"
   ]
  },
  {
   "cell_type": "code",
   "execution_count": null,
   "id": "94bf5045-b73d-4a91-a290-04d885169af6",
   "metadata": {},
   "outputs": [],
   "source": [
    "# Display the first few lines of the DataFrame\n",
    "df.head()"
   ]
  },
  {
   "cell_type": "markdown",
   "id": "d405f466-c853-4790-bc10-328bbc269a6d",
   "metadata": {},
   "source": [
    "## Exploratory Data Analysis (EDA)\n",
    "EDA is a process used in data science to analyse datasets and summarize their main characteristics. \n",
    "- understand data patterns\n",
    "- spot outliner/error\n",
    "- identify relationships between variables\n",
    "- prepare data for further analysis or modeling.\n",
    "\n",
    "## Common Approach for EDA\n",
    "- Descriptive Statistics\n",
    "- Handling Missing Values\n",
    "- Correlation Analysis: Measures how strongly two variables are related, often using a correlation matrix. This helps identify features with high correlation to the target variable or high correlation with each other.\n",
    "- Outlier Detection\n",
    "- Feature Engineering: Selecting features, scaling, etc."
   ]
  },
  {
   "cell_type": "code",
   "execution_count": null,
   "id": "885560c4-c7ef-4a27-b6be-51a940d71ec6",
   "metadata": {},
   "outputs": [],
   "source": [
    "# Display basic statistics\n",
    "eda_summary = df.describe()\n",
    "eda_summary"
   ]
  },
  {
   "cell_type": "code",
   "execution_count": null,
   "id": "151384f5-5c91-43b3-83a4-51e25832118e",
   "metadata": {},
   "outputs": [],
   "source": [
    "# Check for missing values\n",
    "missing_values = df.isnull().sum()\n",
    "missing_values"
   ]
  },
  {
   "cell_type": "markdown",
   "id": "28f6032a-bb8c-4487-91da-d7883c223e6d",
   "metadata": {},
   "source": [
    "## Missing Value\n",
    "- Remove\n",
    "- Impute missing values"
   ]
  },
  {
   "cell_type": "code",
   "execution_count": null,
   "id": "d9d9d98a-6086-48c4-a9ea-cb8e5e734037",
   "metadata": {},
   "outputs": [],
   "source": [
    "# Drop rows with any missing values\n",
    "df = df.dropna()\n",
    "df.info()"
   ]
  },
  {
   "cell_type": "code",
   "execution_count": null,
   "id": "7c621557-2bfe-4e3a-bb21-3f4e185c0e98",
   "metadata": {},
   "outputs": [],
   "source": [
    "# Display the correlations to understand relationships\n",
    "correlation_matrix = df.corr()\n",
    "correlation_matrix"
   ]
  },
  {
   "cell_type": "code",
   "execution_count": null,
   "id": "d935bd59-854b-410c-a5ab-24738c40f9bd",
   "metadata": {},
   "outputs": [],
   "source": [
    "# Plotting Correlation Matrix using matplotlib\n",
    "plt.figure(figsize=(8, 6))\n",
    "plt.matshow(correlation_matrix, fignum=1, cmap=\"coolwarm\")\n",
    "plt.colorbar()\n",
    "plt.title(\"Correlation Matrix\", pad=15)\n",
    "plt.xticks(range(len(correlation_matrix.columns)), correlation_matrix.columns, rotation=45)\n",
    "plt.yticks(range(len(correlation_matrix.columns)), correlation_matrix.columns)\n",
    "plt.show()"
   ]
  },
  {
   "cell_type": "markdown",
   "id": "397def44-c259-4121-86a3-27c62d80aaf8",
   "metadata": {},
   "source": [
    "## Selecting Features\n",
    "Selecting Features Based on Correlation with 'target'\n",
    "\n",
    "Keep the features that have a correlation larger than 0.2"
   ]
  },
  {
   "cell_type": "code",
   "execution_count": null,
   "id": "45a5d14b-71bc-425c-979f-ddd7997736d4",
   "metadata": {},
   "outputs": [],
   "source": [
    "selected_features = correlation_matrix['target'].drop('target').abs().sort_values(ascending=False)\n",
    "selected_features = selected_features[selected_features > 0.2]  # Threshold to select meaningful correlations\n",
    "selected_feature_names = selected_features.index.tolist()\n",
    "selected_feature_names"
   ]
  },
  {
   "cell_type": "markdown",
   "id": "fdccf065-bc03-48c0-b852-80c6941983c4",
   "metadata": {},
   "source": [
    "## Split Training and test set\n",
    "Splitting data into a training set and test set help build and evaluate a machine learning model.\n",
    "\n",
    "- Evaluate Model Performance: The test set acts as new data, giving a realistic view of how the model might perform in real-world situations.\n",
    "- Compare Different Models\n",
    "- Prevent Overfitting\n",
    "\n",
    "Scikit-Learn: \n",
    "\n",
    "```train_test_split(*arrays, test_size=None, train_size=None, random_state=None, shuffle=True, stratify=None)```\n",
    "\n",
    "https://scikit-learn.org/dev/modules/generated/sklearn.model_selection.train_test_split.html\n"
   ]
  },
  {
   "cell_type": "code",
   "execution_count": null,
   "id": "1e5322fd-8fb5-4000-b5c0-bf5c3a6a3f5d",
   "metadata": {},
   "outputs": [],
   "source": [
    "# Splitting the data into training and test sets\n",
    "X = df[selected_feature_names]\n",
    "y = df['target']\n",
    "X_train, X_test, y_train, y_test = train_test_split(X, y, test_size=0.2, random_state=42)\n",
    "print('Training Set Size:', len(X_train))\n",
    "print('Test Set Size:', len(X_test))"
   ]
  },
  {
   "cell_type": "markdown",
   "id": "883e30d9-380b-4c6b-8f87-5b61de596fb1",
   "metadata": {},
   "source": [
    "## Data Scaling\n",
    "Transforming data to a standard range or distribution\n",
    "\n",
    "Common Types of Scaling:\n",
    "- Standarlisation: https://scikit-learn.org/1.5/modules/generated/sklearn.preprocessing.StandardScaler.html#standardscaler\n",
    "- Normalisation: https://scikit-learn.org/1.5/modules/generated/sklearn.preprocessing.normalize.html\n",
    "\n",
    "Many algorithms are sensitive to the scale of the input features, such as\n",
    "- Linear regression and logistic regression\n",
    "- Support Vector Machines (SVMs)\n",
    "- k-Nearest Neighbors (KNN)"
   ]
  },
  {
   "cell_type": "code",
   "execution_count": null,
   "id": "b6b11349-ccc8-4d43-982c-46a65f90d5f8",
   "metadata": {},
   "outputs": [],
   "source": [
    "# Standardising the features (important for linear models)\n",
    "scaler = StandardScaler()\n",
    "X_train = scaler.fit_transform(X_train)\n",
    "X_test = scaler.transform(X_test)"
   ]
  },
  {
   "cell_type": "markdown",
   "id": "ebf50631-69cf-4e3c-bfb9-5bb796adc59b",
   "metadata": {},
   "source": [
    "## Training a model\n",
    "- Select a machine learning alorithms (e.g. Linear Classification)\n",
    "- Fit the data\n",
    "\n",
    "Scikit-Learn:\n",
    "\n",
    "```LogisticRegression(penalty='l2', *, dual=False, tol=0.0001, C=1.0, fit_intercept=True, intercept_scaling=1, class_weight=None, random_state=None, solver='lbfgs', max_iter=100, multi_class='deprecated', verbose=0, warm_start=False, n_jobs=None, l1_ratio=None)```\n",
    "\n",
    "https://scikit-learn.org/1.5/modules/generated/sklearn.linear_model.LogisticRegression.html#sklearn.linear_model.LogisticRegression\n",
    "\n",
    "Despite its name, it is implemented as a linear model for classification rather than regression in scikit-learn."
   ]
  },
  {
   "cell_type": "code",
   "execution_count": null,
   "id": "c7f87c4c-2260-43d7-ab37-72c6b2607b03",
   "metadata": {},
   "outputs": [],
   "source": [
    "# Applying Logistic Regression for Linear Classification\n",
    "model = LogisticRegression(random_state=42)\n",
    "model.fit(X_train, y_train)"
   ]
  },
  {
   "cell_type": "code",
   "execution_count": null,
   "id": "8a2e406c-d4d8-4566-8d39-d70ff8450a0a",
   "metadata": {},
   "outputs": [],
   "source": [
    "# Making predictions on the test set\n",
    "y_pred = model.predict(X_test)\n",
    "y_pred"
   ]
  },
  {
   "cell_type": "markdown",
   "id": "b7fcaca7-7352-4cf1-a69b-46b70fececf0",
   "metadata": {},
   "source": [
    "## Model Evaluation\n",
    "Assessing the performance of a machine learning model to ensure that it performs well not only on training data but also on unseen test data.\n",
    "\n",
    "### Classification Metrics\n",
    "  \n",
    "**Confusion Matrix**\n",
    "|                     | Predicted Positive | Predicted Negative |\n",
    "|---------------------|--------------------|--------------------|\n",
    "| **Actual Positive** | True Positive (TP) | False Negative (FN) |\n",
    "| **Actual Negative** | False Positive (FP) | True Negative (TN) |\n",
    "\n",
    "- **Accuracy**: The ratio of correctly predicted samples to the total samples.\n",
    "  \n",
    "  Accuracy = (True Positives + True Negatives) / Total Samples\n",
    "\n",
    "- **Precision**: Measures the accuracy of positive predictions. Useful when false positives are costly. (e.g. Medicine Prescriptions)\n",
    "\n",
    "  Precision = True Positives / (True Positives + False Positives)\n",
    "\n",
    "- **Recall (Sensitivity)**: Measures the ability of the model to find all positive samples. Useful when false negatives are costly. (e.g. Detecting Early-Stage of a Disease)\n",
    "\n",
    "  Recall = True Positives / (True Positives + False Negatives)\n",
    "\n",
    "- **F1 Score**: The harmonic mean of precision and recall, balancing the two.\n",
    "\n",
    "  F1 Score = 2 * (Precision * Recall) / (Precision + Recall)\n",
    "\n",
    "### Regression Metrics\n",
    "- Mean Absolute Error (MAE)\n",
    "- Mean Squared Error (MSE)\n",
    "- Root Mean Squared Error (RMSE)\n",
    "- R-square (R^2)\n",
    "\n",
    "### Scikit-learn: \n",
    "\n",
    "```classification_report(y_true, y_pred, *, labels=None, target_names=None, sample_weight=None, digits=2, output_dict=False, zero_division='warn')```\n",
    "\n",
    "https://scikit-learn.org/1.5/modules/generated/sklearn.metrics.classification_report.html"
   ]
  },
  {
   "cell_type": "code",
   "execution_count": null,
   "id": "1407a8cd-3dca-4453-a853-7cdc17e41854",
   "metadata": {},
   "outputs": [],
   "source": [
    "# Model Evaluation\n",
    "accuracy = accuracy_score(y_test, y_pred)\n",
    "conf_matrix = confusion_matrix(y_test, y_pred)\n",
    "class_report = classification_report(y_test, y_pred)"
   ]
  },
  {
   "cell_type": "code",
   "execution_count": null,
   "id": "c51ecee4-24de-4096-b281-40dfea804a4d",
   "metadata": {},
   "outputs": [],
   "source": [
    "# Displaying Evaluation Metrics\n",
    "print(\"Selected Features for Classification:\", selected_feature_names)\n",
    "print(\"\\nModel Accuracy: {:.3f}%\".format(accuracy*100))\n",
    "print(\"\\nConfusion Matrix:\\n\", conf_matrix)\n",
    "print(\"\\nClassification Report:\\n\", class_report)\n",
    "\n",
    "# Plotting Confusion Matrix\n",
    "plt.figure(figsize=(6, 5))\n",
    "plt.matshow(conf_matrix, fignum=1, cmap=\"Blues\")\n",
    "plt.colorbar()\n",
    "plt.title(\"Confusion Matrix\", pad=15)\n",
    "plt.xlabel(\"Predicted\")\n",
    "plt.ylabel(\"Actual\")\n",
    "plt.xticks([0, 1], [\"No Condition\", \"Condition\"])\n",
    "plt.yticks([0, 1], [\"No Condition\", \"Condition\"])\n",
    "plt.show()"
   ]
  }
 ],
 "metadata": {
  "kernelspec": {
   "display_name": "Python 3 (ipykernel)",
   "language": "python",
   "name": "python3"
  },
  "language_info": {
   "codemirror_mode": {
    "name": "ipython",
    "version": 3
   },
   "file_extension": ".py",
   "mimetype": "text/x-python",
   "name": "python",
   "nbconvert_exporter": "python",
   "pygments_lexer": "ipython3",
   "version": "3.12.7"
  }
 },
 "nbformat": 4,
 "nbformat_minor": 5
}
