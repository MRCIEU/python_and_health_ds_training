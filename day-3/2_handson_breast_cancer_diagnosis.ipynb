{
 "cells": [
  {
   "cell_type": "markdown",
   "id": "8f66753e-d14a-43f2-8f6b-56d83457eca8",
   "metadata": {},
   "source": [
    "# Breast Cancer Diagnosis\n",
    "\n",
    "Please use the Breast Cancer Diagnosis dataset provided for cancer prediciton\n",
    "\n",
    "Breast Cancer Wisconsin (Diagnostic): https://archive.ics.uci.edu/dataset/17/breast+cancer+wisconsin+diagnostic\n",
    "\n",
    "The dataset can be found at: https://github.com/MRCIEU/python_and_health_ds_training/tree/main/day-3/data"
   ]
  },
  {
   "cell_type": "code",
   "execution_count": null,
   "id": "901a998e-f2c6-4806-9a2d-efac1a42e278",
   "metadata": {},
   "outputs": [],
   "source": [
    "# import libraries\n",
    "\n",
    "import pandas as pd\n",
    "import matplotlib.pyplot as plt"
   ]
  },
  {
   "cell_type": "markdown",
   "id": "a08418ef-4e8b-4d02-bd07-e69966610d90",
   "metadata": {},
   "source": [
    "## Step 1: Read the data\n",
    "**Q1.1:** Read the dataset from your local file"
   ]
  },
  {
   "cell_type": "code",
   "execution_count": null,
   "id": "57808d0d-22d9-4dbf-a83f-146e425f9c06",
   "metadata": {},
   "outputs": [],
   "source": []
  },
  {
   "cell_type": "markdown",
   "id": "83423c94-9714-4769-925b-a973bd66b580",
   "metadata": {},
   "source": [
    "**Q1.2:** Print the information of the dataset using `info()`"
   ]
  },
  {
   "cell_type": "code",
   "execution_count": null,
   "id": "a5e066ad-d2f4-4d42-8069-9f74e18760f0",
   "metadata": {},
   "outputs": [],
   "source": []
  },
  {
   "cell_type": "markdown",
   "id": "09545de2-bd57-4bff-8893-f30b3d6088f9",
   "metadata": {},
   "source": [
    "## Step 2: Exploratory Data Analysis (EDA)\n",
    "\n",
    "**Q2.1:** Drop unnecessary columns (e.g. `id` and `Unnamed: 32`) and display the first few rows.\n",
    "\n",
    "hint: `df.drop()`"
   ]
  },
  {
   "cell_type": "code",
   "execution_count": null,
   "id": "9b418159-e555-4d17-b1b7-ee3d80bd7ed8",
   "metadata": {},
   "outputs": [],
   "source": [
    "# Dropping unnecessary columns\n",
    "\n",
    "\n",
    "# Display the first few rows\n"
   ]
  },
  {
   "cell_type": "markdown",
   "id": "4f4d4644-9dea-4bbc-b5c4-7138ee2c004f",
   "metadata": {},
   "source": [
    "**Q2.2:** Check for missing values in the dataset. Remove the missing value if available."
   ]
  },
  {
   "cell_type": "code",
   "execution_count": null,
   "id": "ae71f536-7c28-4b99-909e-9801932b19c9",
   "metadata": {},
   "outputs": [],
   "source": []
  },
  {
   "cell_type": "markdown",
   "id": "16e5e023-fb3d-4c6c-868f-5ce9751b7799",
   "metadata": {},
   "source": [
    "**Q2.3:** Show the distribution of each feature"
   ]
  },
  {
   "cell_type": "code",
   "execution_count": null,
   "id": "4b8bf6ae-2924-46fd-81c2-ea1e489145dd",
   "metadata": {},
   "outputs": [],
   "source": []
  },
  {
   "cell_type": "markdown",
   "id": "e9d58e6b-7f86-458b-a1ac-c55e035aba04",
   "metadata": {},
   "source": [
    "**Q2.4:** Plot the distribution of the target value (i.e. diagnosis).\n",
    "\n",
    "Hint: use `value_counts()` to count the number of each catgories"
   ]
  },
  {
   "cell_type": "code",
   "execution_count": null,
   "id": "2b10af86-11ce-4208-9307-3a8928338161",
   "metadata": {},
   "outputs": [],
   "source": []
  },
  {
   "cell_type": "markdown",
   "id": "54eb7c47-cc8a-4164-8115-6f3e437f0093",
   "metadata": {},
   "source": [
    "**Q2.5:** Visualize correlations between features and identify highly correlated pairs.\n",
    "\n",
    "Hint: map `B` and `M` to 0 and 1 using `df['diagnosis'] = df['diagnosis'].apply(lambda x: 1 if x == 'M' else 0)`"
   ]
  },
  {
   "cell_type": "code",
   "execution_count": null,
   "id": "d8cd46e5-0683-421b-a010-84e585ce3628",
   "metadata": {},
   "outputs": [],
   "source": [
    "df['diagnosis'] = df['diagnosis'].apply(lambda x: 1 if x == 'M' else 0)"
   ]
  },
  {
   "cell_type": "markdown",
   "id": "15d3f228-6af7-437b-aed2-04d3421f146c",
   "metadata": {},
   "source": [
    "## Step 3: Data Pre-processing\n",
    "\n",
    "**Q3.1 (Optional):** Select features based on the correlation matrix"
   ]
  },
  {
   "cell_type": "code",
   "execution_count": null,
   "id": "c2e95f3a-b486-4461-91ff-9b0988224cfa",
   "metadata": {},
   "outputs": [],
   "source": []
  },
  {
   "cell_type": "markdown",
   "id": "a6941c53-5ff4-46a0-861a-e5721f4138ff",
   "metadata": {},
   "source": [
    "**Q3.2:** Seperate features (`X`) and targets (`y`)\n",
    "\n",
    "Optional: Standardise features "
   ]
  },
  {
   "cell_type": "code",
   "execution_count": null,
   "id": "4a6c5f30-5dab-407f-8a57-8b722c0fb428",
   "metadata": {},
   "outputs": [],
   "source": []
  },
  {
   "cell_type": "markdown",
   "id": "f713e034-70c0-4c52-8246-23fe65cc8fc3",
   "metadata": {},
   "source": [
    "**Q3.3:** Split the dataset into training and test set"
   ]
  },
  {
   "cell_type": "code",
   "execution_count": null,
   "id": "105dbcc5-71aa-40d7-9728-5ef894a55239",
   "metadata": {},
   "outputs": [],
   "source": [
    "from sklearn.model_selection import train_test_split"
   ]
  },
  {
   "cell_type": "markdown",
   "id": "93a52044-996d-4b24-94b7-b28136ffd6b0",
   "metadata": {},
   "source": [
    "## Step 4: Using two different Machine Learning algorithms to predict cancer\n",
    "\n",
    "Please select and apply two different models for prediciton\n",
    "\n",
    "https://scikit-learn.org/stable/supervised_learning.html\n",
    "\n",
    "**Q4.1** Algorithm 1"
   ]
  },
  {
   "cell_type": "code",
   "execution_count": null,
   "id": "11243ed9-d664-4690-871f-abd00301bdea",
   "metadata": {},
   "outputs": [],
   "source": []
  },
  {
   "cell_type": "markdown",
   "id": "0a78ded4-1998-437c-baeb-b616fe897f5e",
   "metadata": {},
   "source": [
    "**Q4.2** Algorithm 2"
   ]
  },
  {
   "cell_type": "code",
   "execution_count": null,
   "id": "0b8689c9-b3c6-4fbe-8b40-8296c5f5605f",
   "metadata": {},
   "outputs": [],
   "source": []
  },
  {
   "cell_type": "markdown",
   "id": "da6226ae-1e42-4fb0-a9d7-e65eb69a4151",
   "metadata": {},
   "source": [
    "**Q4.3:** Make predictions with the models"
   ]
  },
  {
   "cell_type": "code",
   "execution_count": null,
   "id": "461cfff6-ddc8-422a-bbe2-9b6fd0feac9c",
   "metadata": {},
   "outputs": [],
   "source": [
    "# Make predictions"
   ]
  },
  {
   "cell_type": "markdown",
   "id": "42e6f2be-4eed-4356-9e5e-1eaf61d65918",
   "metadata": {},
   "source": [
    "## Step 5: Evaluate the models\n",
    "\n",
    "Compare the performance of two models using accuracy, precision, recall, and F1 Score\n",
    "\n",
    "**Q5.1:** Create a function for calculate the model performance. \n",
    "\n",
    "Hint: The function takes `y_pred` and `y_true` as input and return `accuracy`, `precision`, `recall`, and `f1`.\n",
    "\n",
    "```from sklearn.metrics import accuracy_score, precision_score, recall_score, f1_score```\n",
    "\n",
    "https://scikit-learn.org/1.5/modules/model_evaluation.html"
   ]
  },
  {
   "cell_type": "code",
   "execution_count": null,
   "id": "e244ac72-9540-4391-bff5-31d86c185736",
   "metadata": {},
   "outputs": [],
   "source": [
    "from sklearn.metrics import accuracy_score, precision_score, recall_score, f1_score\n",
    "\n",
    "# Define a function to print evaluation metrics\n",
    "def print_evaluation_metrics(y_true, y_pred):\n",
    "    \n",
    "    return accuracy, precision , recall, f1"
   ]
  },
  {
   "cell_type": "markdown",
   "id": "bcc57782-5282-4837-b602-284ae75e747b",
   "metadata": {},
   "source": [
    "**Q5.2:** Evaluate the models"
   ]
  },
  {
   "cell_type": "code",
   "execution_count": null,
   "id": "e417bfc9-cf5f-4c71-b3ea-9798b5c724fd",
   "metadata": {},
   "outputs": [],
   "source": [
    "print(\"Model 1:\")\n",
    "print_evaluation_metrics()\n",
    "print(\"\\nModel 2:\")\n",
    "print_evaluation_metrics()"
   ]
  },
  {
   "cell_type": "markdown",
   "id": "eb3718da-a35b-4bb4-a2b7-66594e771163",
   "metadata": {},
   "source": [
    "**Q5.3:** Compare the models’ performance using their confusion matrices"
   ]
  },
  {
   "cell_type": "code",
   "execution_count": null,
   "id": "4c80e6dd-de84-49d2-b0f1-3376af6a7255",
   "metadata": {},
   "outputs": [],
   "source": [
    "from sklearn.metrics import confusion_matrix\n"
   ]
  },
  {
   "cell_type": "markdown",
   "id": "e91f69f3-a081-48e5-9c38-1216c6db4fec",
   "metadata": {},
   "source": [
    "## Step 6: Visualise the Results\n",
    "\n",
    "### ROC (Receiver Operating Characteristic) Curve\n",
    "- evaluate the performance of a binary classification model by examining its ability to distinguish between two classes (e.g., \"positive\" and \"negative\")\n",
    "- the larger the area under the curve (AUROC), the better the performance\n",
    "- Diagonal line: represents a no-skill classifier (random guessing).\n",
    "\n",
    "\n",
    "**Q6.1:** Plot ROC curves for both models\n",
    "\n",
    "Hint: use `predic_proba()` to get the probability of the prediction instead of the class"
   ]
  },
  {
   "cell_type": "code",
   "execution_count": null,
   "id": "f921cee4-391c-4df2-afc5-391a5d536ced",
   "metadata": {},
   "outputs": [],
   "source": [
    "from sklearn.metrics import roc_curve, auc\n",
    "\n",
    "# Generate ROC curve values\n",
    "logistic_fpr, logistic_tpr, _ = roc_curve(y_test, logistic_model.predict_proba(X_test)[:, 1])\n",
    "rf_fpr, rf_tpr, _ = roc_curve(y_test, rf_model.predict_proba(X_test)[:, 1])\n",
    "\n",
    "# Calculate AUC\n",
    "logistic_auc = auc(logistic_fpr, logistic_tpr)\n",
    "rf_auc = auc(rf_fpr, rf_tpr)\n",
    "\n",
    "# Plot ROC curves\n",
    "plt.figure(figsize=(8, 6))\n",
    "plt.plot(logistic_fpr, logistic_tpr, label=f\"Logistic Regression (AUC = {logistic_auc:.3f})\")\n",
    "plt.plot(rf_fpr, rf_tpr, label=f\"Random Forest (AUC = {rf_auc:.3f})\")\n",
    "plt.plot([0, 1], [0, 1], 'k--')  # Diagonal line\n",
    "plt.xlabel(\"False Positive Rate\")\n",
    "plt.ylabel(\"True Positive Rate\")\n",
    "plt.title(\"ROC Curves for Model Comparison\")\n",
    "plt.legend()\n",
    "plt.show()"
   ]
  }
 ],
 "metadata": {
  "kernelspec": {
   "display_name": "Python 3 (ipykernel)",
   "language": "python",
   "name": "python3"
  },
  "language_info": {
   "codemirror_mode": {
    "name": "ipython",
    "version": 3
   },
   "file_extension": ".py",
   "mimetype": "text/x-python",
   "name": "python",
   "nbconvert_exporter": "python",
   "pygments_lexer": "ipython3",
   "version": "3.12.7"
  }
 },
 "nbformat": 4,
 "nbformat_minor": 5
}
