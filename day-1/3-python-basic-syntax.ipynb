{
 "cells": [
  {
   "cell_type": "markdown",
   "id": "286010d3-aa96-431c-b955-b04e1cb76028",
   "metadata": {
    "editable": true,
    "jp-MarkdownHeadingCollapsed": true,
    "slideshow": {
     "slide_type": ""
    },
    "tags": []
   },
   "source": [
    "# Basic python syntax\n",
    "\n",
    "We will discuss the following:\n",
    "\n",
    "- basic data types in python\n",
    "  - numericals, boolean\n",
    "  - strings\n",
    "- control flows\n",
    "  - if else\n",
    "  - for and while loops\n",
    "  - break, continue and pass"
   ]
  },
  {
   "cell_type": "markdown",
   "id": "dbfbed1a-7c99-40a6-9a62-e36d74027bf9",
   "metadata": {},
   "source": [
    "# Basics of the basics"
   ]
  },
  {
   "cell_type": "markdown",
   "id": "aa2ea632-c81d-42b3-ab37-d37a3aed0730",
   "metadata": {},
   "source": [
    "this is **bold**\n",
    "\n",
    "this is *italics*"
   ]
  },
  {
   "cell_type": "code",
   "execution_count": 3,
   "id": "d0f34f92-dba8-4b56-8887-114a96375e6f",
   "metadata": {
    "editable": true,
    "execution": {
     "iopub.execute_input": "2024-11-04T10:48:43.758851Z",
     "iopub.status.busy": "2024-11-04T10:48:43.758016Z",
     "iopub.status.idle": "2024-11-04T10:48:43.793006Z",
     "shell.execute_reply": "2024-11-04T10:48:43.775023Z",
     "shell.execute_reply.started": "2024-11-04T10:48:43.758834Z"
    },
    "slideshow": {
     "slide_type": ""
    },
    "tags": []
   },
   "outputs": [
    {
     "name": "stdout",
     "output_type": "stream",
     "text": [
      "hello world!\n"
     ]
    }
   ],
   "source": [
    "# The following prints hello world\n",
    "print(\"hello world!\")"
   ]
  },
  {
   "cell_type": "code",
   "execution_count": 5,
   "id": "dc3adef9-4bed-4dd3-a640-9bed3ac7a585",
   "metadata": {
    "execution": {
     "iopub.execute_input": "2024-11-04T10:51:03.336314Z",
     "iopub.status.busy": "2024-11-04T10:51:03.335855Z",
     "iopub.status.idle": "2024-11-04T10:51:03.340408Z",
     "shell.execute_reply": "2024-11-04T10:51:03.339113Z",
     "shell.execute_reply.started": "2024-11-04T10:51:03.336283Z"
    }
   },
   "outputs": [],
   "source": [
    "# This is a variable\n",
    "# and how you assign a value to the variable\n",
    "a = 1"
   ]
  },
  {
   "cell_type": "code",
   "execution_count": 6,
   "id": "e68a8a3c-495c-4f5a-9ae4-e0a9579bf075",
   "metadata": {
    "execution": {
     "iopub.execute_input": "2024-11-04T10:51:08.188550Z",
     "iopub.status.busy": "2024-11-04T10:51:08.187832Z",
     "iopub.status.idle": "2024-11-04T10:51:08.206982Z",
     "shell.execute_reply": "2024-11-04T10:51:08.205309Z",
     "shell.execute_reply.started": "2024-11-04T10:51:08.188514Z"
    }
   },
   "outputs": [
    {
     "data": {
      "text/plain": [
       "1"
      ]
     },
     "execution_count": 6,
     "metadata": {},
     "output_type": "execute_result"
    }
   ],
   "source": [
    "a"
   ]
  },
  {
   "cell_type": "markdown",
   "id": "902f94ba-2479-4c95-bfce-bcae2d97df75",
   "metadata": {},
   "source": [
    "```r\n",
    "a <- 1\n",
    "TRUE FALSE\n",
    "```"
   ]
  },
  {
   "cell_type": "markdown",
   "id": "4450ec52-7761-482a-9afc-4c5f99ac441e",
   "metadata": {
    "execution": {
     "iopub.execute_input": "2024-11-04T10:53:14.003917Z",
     "iopub.status.busy": "2024-11-04T10:53:14.003376Z",
     "iopub.status.idle": "2024-11-04T10:53:14.016729Z",
     "shell.execute_reply": "2024-11-04T10:53:14.015714Z",
     "shell.execute_reply.started": "2024-11-04T10:53:14.003881Z"
    }
   },
   "source": [
    "```py\n",
    "True False\n",
    "```"
   ]
  },
  {
   "cell_type": "markdown",
   "id": "b0934043-45dd-4353-80a5-dd5f4d5cea43",
   "metadata": {
    "execution": {
     "iopub.execute_input": "2024-11-04T10:53:14.003917Z",
     "iopub.status.busy": "2024-11-04T10:53:14.003376Z",
     "iopub.status.idle": "2024-11-04T10:53:14.016729Z",
     "shell.execute_reply": "2024-11-04T10:53:14.015714Z",
     "shell.execute_reply.started": "2024-11-04T10:53:14.003881Z"
    }
   },
   "source": [
    "```javascript\n",
    "true false\n",
    "```"
   ]
  },
  {
   "cell_type": "code",
   "execution_count": 7,
   "id": "b33fdc43-d849-4a54-94fe-4e1d6b97bd7b",
   "metadata": {
    "editable": true,
    "execution": {
     "iopub.execute_input": "2024-11-04T10:52:29.149566Z",
     "iopub.status.busy": "2024-11-04T10:52:29.149377Z",
     "iopub.status.idle": "2024-11-04T10:52:29.161513Z",
     "shell.execute_reply": "2024-11-04T10:52:29.160361Z",
     "shell.execute_reply.started": "2024-11-04T10:52:29.149552Z"
    },
    "slideshow": {
     "slide_type": ""
    },
    "tags": []
   },
   "outputs": [
    {
     "data": {
      "text/plain": [
       "False"
      ]
     },
     "execution_count": 7,
     "metadata": {},
     "output_type": "execute_result"
    }
   ],
   "source": [
    "# == is the equality comparator\n",
    "a == 2"
   ]
  },
  {
   "cell_type": "markdown",
   "id": "9dcc49c5-02b2-43a2-b3cb-31394fb5a14e",
   "metadata": {},
   "source": [
    "```py\n",
    "print a\n",
    "```\n"
   ]
  },
  {
   "cell_type": "code",
   "execution_count": 9,
   "id": "3880c2a3-d1ae-4e46-80a9-5ca4ebccd4dc",
   "metadata": {
    "execution": {
     "iopub.execute_input": "2024-11-04T10:53:46.806508Z",
     "iopub.status.busy": "2024-11-04T10:53:46.804863Z",
     "iopub.status.idle": "2024-11-04T10:53:46.816772Z",
     "shell.execute_reply": "2024-11-04T10:53:46.815099Z",
     "shell.execute_reply.started": "2024-11-04T10:53:46.806446Z"
    }
   },
   "outputs": [
    {
     "name": "stdout",
     "output_type": "stream",
     "text": [
      "1\n"
     ]
    }
   ],
   "source": [
    "# This is the print function\n",
    "print(a)"
   ]
  },
  {
   "cell_type": "code",
   "execution_count": 10,
   "id": "2ba38ed5-d6ee-4635-8184-152425729155",
   "metadata": {
    "execution": {
     "iopub.execute_input": "2024-11-04T10:54:54.145582Z",
     "iopub.status.busy": "2024-11-04T10:54:54.144644Z",
     "iopub.status.idle": "2024-11-04T10:54:54.163366Z",
     "shell.execute_reply": "2024-11-04T10:54:54.158408Z",
     "shell.execute_reply.started": "2024-11-04T10:54:54.145565Z"
    }
   },
   "outputs": [
    {
     "name": "stdout",
     "output_type": "stream",
     "text": [
      "Help on built-in function print in module builtins:\n",
      "\n",
      "print(*args, sep=' ', end='\\n', file=None, flush=False)\n",
      "    Prints the values to a stream, or to sys.stdout by default.\n",
      "\n",
      "    sep\n",
      "      string inserted between values, default a space.\n",
      "    end\n",
      "      string appended after the last value, default a newline.\n",
      "    file\n",
      "      a file-like object (stream); defaults to the current sys.stdout.\n",
      "    flush\n",
      "      whether to forcibly flush the stream.\n",
      "\n"
     ]
    }
   ],
   "source": [
    "# Get help regarding a function\n",
    "help(print)"
   ]
  },
  {
   "cell_type": "code",
   "execution_count": 12,
   "id": "52115568-f122-4b63-a0a3-3f9d26a0d493",
   "metadata": {
    "execution": {
     "iopub.execute_input": "2024-11-04T10:56:03.478978Z",
     "iopub.status.busy": "2024-11-04T10:56:03.478778Z",
     "iopub.status.idle": "2024-11-04T10:56:03.481603Z",
     "shell.execute_reply": "2024-11-04T10:56:03.481127Z",
     "shell.execute_reply.started": "2024-11-04T10:56:03.478966Z"
    }
   },
   "outputs": [
    {
     "name": "stdout",
     "output_type": "stream",
     "text": [
      "1\n"
     ]
    }
   ],
   "source": [
    "print(a)"
   ]
  },
  {
   "cell_type": "code",
   "execution_count": 13,
   "id": "212ed9ad-db78-4302-bbaa-df6855ef029a",
   "metadata": {
    "editable": true,
    "execution": {
     "iopub.execute_input": "2024-11-04T10:56:09.656893Z",
     "iopub.status.busy": "2024-11-04T10:56:09.656533Z",
     "iopub.status.idle": "2024-11-04T10:56:09.672910Z",
     "shell.execute_reply": "2024-11-04T10:56:09.669716Z",
     "shell.execute_reply.started": "2024-11-04T10:56:09.656870Z"
    },
    "slideshow": {
     "slide_type": ""
    },
    "tags": []
   },
   "outputs": [
    {
     "data": {
      "text/plain": [
       "int"
      ]
     },
     "execution_count": 13,
     "metadata": {},
     "output_type": "execute_result"
    }
   ],
   "source": [
    "# check the data type of a variable\n",
    "type(a)"
   ]
  },
  {
   "cell_type": "code",
   "execution_count": 14,
   "id": "5fda26c8-e94b-44ff-bb25-e2aefa17fe7b",
   "metadata": {
    "execution": {
     "iopub.execute_input": "2024-11-04T10:57:21.111617Z",
     "iopub.status.busy": "2024-11-04T10:57:21.110629Z",
     "iopub.status.idle": "2024-11-04T10:57:21.120929Z",
     "shell.execute_reply": "2024-11-04T10:57:21.119925Z",
     "shell.execute_reply.started": "2024-11-04T10:57:21.111555Z"
    }
   },
   "outputs": [
    {
     "data": {
      "text/plain": [
       "3"
      ]
     },
     "execution_count": 14,
     "metadata": {},
     "output_type": "execute_result"
    }
   ],
   "source": [
    "# 0, 1, 2, 3, 4\n",
    "[1, 2, 3, 4, 5][2]"
   ]
  },
  {
   "cell_type": "code",
   "execution_count": 15,
   "id": "3fb92982-a9dd-4309-b358-a863432143bd",
   "metadata": {
    "execution": {
     "iopub.execute_input": "2024-11-04T10:58:29.676511Z",
     "iopub.status.busy": "2024-11-04T10:58:29.676319Z",
     "iopub.status.idle": "2024-11-04T10:58:29.679019Z",
     "shell.execute_reply": "2024-11-04T10:58:29.678476Z",
     "shell.execute_reply.started": "2024-11-04T10:58:29.676496Z"
    }
   },
   "outputs": [
    {
     "name": "stdout",
     "output_type": "stream",
     "text": [
      "p\n",
      "y\n"
     ]
    }
   ],
   "source": [
    "# python uses zero-based index\n",
    "print(\"python\"[0])\n",
    "print(\"python\"[1])"
   ]
  },
  {
   "cell_type": "code",
   "execution_count": 16,
   "id": "06b517ee-eec6-4f9c-824e-1d2f1f796faf",
   "metadata": {
    "execution": {
     "iopub.execute_input": "2024-11-04T10:59:55.934518Z",
     "iopub.status.busy": "2024-11-04T10:59:55.933774Z",
     "iopub.status.idle": "2024-11-04T10:59:56.072370Z",
     "shell.execute_reply": "2024-11-04T10:59:56.071893Z",
     "shell.execute_reply.started": "2024-11-04T10:59:55.934482Z"
    }
   },
   "outputs": [
    {
     "ename": "NameError",
     "evalue": "name 'log' is not defined",
     "output_type": "error",
     "traceback": [
      "\u001b[0;31m---------------------------------------------------------------------------\u001b[0m",
      "\u001b[0;31mNameError\u001b[0m                                 Traceback (most recent call last)",
      "Cell \u001b[0;32mIn[16], line 1\u001b[0m\n\u001b[0;32m----> 1\u001b[0m \u001b[43mlog\u001b[49m(\u001b[38;5;241m1\u001b[39m, \u001b[38;5;241m10\u001b[39m)\n",
      "\u001b[0;31mNameError\u001b[0m: name 'log' is not defined"
     ]
    }
   ],
   "source": [
    "log(1, 10)"
   ]
  },
  {
   "cell_type": "code",
   "execution_count": 17,
   "id": "9a6a6cd6-df17-4811-9560-ea56e8ec3e40",
   "metadata": {
    "execution": {
     "iopub.execute_input": "2024-11-04T11:00:05.539571Z",
     "iopub.status.busy": "2024-11-04T11:00:05.538924Z",
     "iopub.status.idle": "2024-11-04T11:00:05.570073Z",
     "shell.execute_reply": "2024-11-04T11:00:05.562904Z",
     "shell.execute_reply.started": "2024-11-04T11:00:05.539551Z"
    }
   },
   "outputs": [
    {
     "data": {
      "text/plain": [
       "0.0"
      ]
     },
     "execution_count": 17,
     "metadata": {},
     "output_type": "execute_result"
    }
   ],
   "source": [
    "# import function from a library\n",
    "from math import log\n",
    "\n",
    "log(1, 10)"
   ]
  },
  {
   "cell_type": "code",
   "execution_count": 18,
   "id": "e8297964-c704-4c30-a4e2-7ad84a990441",
   "metadata": {
    "execution": {
     "iopub.execute_input": "2024-11-04T11:00:39.582305Z",
     "iopub.status.busy": "2024-11-04T11:00:39.581697Z",
     "iopub.status.idle": "2024-11-04T11:00:39.618742Z",
     "shell.execute_reply": "2024-11-04T11:00:39.603441Z",
     "shell.execute_reply.started": "2024-11-04T11:00:39.582285Z"
    }
   },
   "outputs": [
    {
     "data": {
      "text/plain": [
       "4"
      ]
     },
     "execution_count": 18,
     "metadata": {},
     "output_type": "execute_result"
    }
   ],
   "source": [
    "# import a library and use a function\n",
    "import math\n",
    "\n",
    "math.ceil(3.14)"
   ]
  },
  {
   "cell_type": "markdown",
   "id": "d71f21ec-dd89-4c17-b35d-5451c0f0366d",
   "metadata": {
    "editable": true,
    "slideshow": {
     "slide_type": ""
    },
    "tags": []
   },
   "source": [
    "# Basic data types in python\n",
    "\n",
    "The following are some of the commonly used [basic data types](https://docs.python.org/3/library/stdtypes.html) in python:\n",
    "\n",
    "- numberic types\n",
    "    - `int`: integer\n",
    "    - `float`: float\n",
    "- `bool`: boolean\n",
    "- `None`: null / none type\n",
    "- `str`: string\n",
    "- container types (part 2)\n",
    "  - `list`, `tuple`, `range`\n",
    "  - `set`\n",
    "  -  `dict`"
   ]
  },
  {
   "cell_type": "markdown",
   "id": "b94527a2-3f7e-426e-9413-2eb81e463f09",
   "metadata": {},
   "source": [
    "## numerics"
   ]
  },
  {
   "cell_type": "code",
   "execution_count": 19,
   "id": "3ae067d3-74ea-4b2d-99ba-2f88cdeae9e5",
   "metadata": {
    "editable": true,
    "execution": {
     "iopub.execute_input": "2024-11-04T11:03:57.483671Z",
     "iopub.status.busy": "2024-11-04T11:03:57.482747Z",
     "iopub.status.idle": "2024-11-04T11:03:57.492861Z",
     "shell.execute_reply": "2024-11-04T11:03:57.491935Z",
     "shell.execute_reply.started": "2024-11-04T11:03:57.483615Z"
    },
    "slideshow": {
     "slide_type": ""
    },
    "tags": []
   },
   "outputs": [
    {
     "data": {
      "text/plain": [
       "int"
      ]
     },
     "execution_count": 19,
     "metadata": {},
     "output_type": "execute_result"
    }
   ],
   "source": [
    "type(42)"
   ]
  },
  {
   "cell_type": "code",
   "execution_count": 20,
   "id": "594696ac-cbf3-40e1-87f5-b2881ccdd315",
   "metadata": {
    "execution": {
     "iopub.execute_input": "2024-11-04T11:04:11.931900Z",
     "iopub.status.busy": "2024-11-04T11:04:11.931095Z",
     "iopub.status.idle": "2024-11-04T11:04:11.941387Z",
     "shell.execute_reply": "2024-11-04T11:04:11.939824Z",
     "shell.execute_reply.started": "2024-11-04T11:04:11.931865Z"
    }
   },
   "outputs": [
    {
     "data": {
      "text/plain": [
       "float"
      ]
     },
     "execution_count": 20,
     "metadata": {},
     "output_type": "execute_result"
    }
   ],
   "source": [
    "type(3.14)"
   ]
  },
  {
   "cell_type": "code",
   "execution_count": 21,
   "id": "5afc0fec-1b4a-4687-bcd3-92ff35f08a1d",
   "metadata": {
    "execution": {
     "iopub.execute_input": "2024-11-04T11:04:44.808681Z",
     "iopub.status.busy": "2024-11-04T11:04:44.803351Z",
     "iopub.status.idle": "2024-11-04T11:04:44.837929Z",
     "shell.execute_reply": "2024-11-04T11:04:44.823758Z",
     "shell.execute_reply.started": "2024-11-04T11:04:44.808661Z"
    }
   },
   "outputs": [
    {
     "data": {
      "text/plain": [
       "42.0"
      ]
     },
     "execution_count": 21,
     "metadata": {},
     "output_type": "execute_result"
    }
   ],
   "source": [
    "# convert int to float\n",
    "float(42)"
   ]
  },
  {
   "cell_type": "code",
   "execution_count": 22,
   "id": "62461e5f-67d7-4ca3-b48d-f25578350b08",
   "metadata": {
    "execution": {
     "iopub.execute_input": "2024-11-04T11:04:54.247822Z",
     "iopub.status.busy": "2024-11-04T11:04:54.246963Z",
     "iopub.status.idle": "2024-11-04T11:04:54.253283Z",
     "shell.execute_reply": "2024-11-04T11:04:54.252677Z",
     "shell.execute_reply.started": "2024-11-04T11:04:54.247791Z"
    }
   },
   "outputs": [
    {
     "data": {
      "text/plain": [
       "42"
      ]
     },
     "execution_count": 22,
     "metadata": {},
     "output_type": "execute_result"
    }
   ],
   "source": [
    "int(42.0)"
   ]
  },
  {
   "cell_type": "code",
   "execution_count": 23,
   "id": "7699bcf3-bcd9-45f5-92b6-b5b0b506b0e7",
   "metadata": {
    "execution": {
     "iopub.execute_input": "2024-11-04T11:05:05.882685Z",
     "iopub.status.busy": "2024-11-04T11:05:05.881340Z",
     "iopub.status.idle": "2024-11-04T11:05:05.909235Z",
     "shell.execute_reply": "2024-11-04T11:05:05.905899Z",
     "shell.execute_reply.started": "2024-11-04T11:05:05.882665Z"
    }
   },
   "outputs": [
    {
     "data": {
      "text/plain": [
       "3"
      ]
     },
     "execution_count": 23,
     "metadata": {},
     "output_type": "execute_result"
    }
   ],
   "source": [
    "int(3.14)"
   ]
  },
  {
   "cell_type": "code",
   "execution_count": 24,
   "id": "4a699f09-1534-4ee6-a65f-670c6efd1e81",
   "metadata": {
    "editable": true,
    "execution": {
     "iopub.execute_input": "2024-11-04T11:06:18.649858Z",
     "iopub.status.busy": "2024-11-04T11:06:18.649129Z",
     "iopub.status.idle": "2024-11-04T11:06:18.657447Z",
     "shell.execute_reply": "2024-11-04T11:06:18.656126Z",
     "shell.execute_reply.started": "2024-11-04T11:06:18.649820Z"
    },
    "slideshow": {
     "slide_type": ""
    },
    "tags": []
   },
   "outputs": [
    {
     "data": {
      "text/plain": [
       "1000000"
      ]
     },
     "execution_count": 24,
     "metadata": {},
     "output_type": "execute_result"
    }
   ],
   "source": [
    "# use separator in numerics\n",
    "1_000_000"
   ]
  },
  {
   "cell_type": "code",
   "execution_count": 25,
   "id": "4ef20846-de92-49c4-8888-483543b98e6a",
   "metadata": {
    "editable": true,
    "execution": {
     "iopub.execute_input": "2024-11-04T11:06:40.485294Z",
     "iopub.status.busy": "2024-11-04T11:06:40.484471Z",
     "iopub.status.idle": "2024-11-04T11:06:40.501839Z",
     "shell.execute_reply": "2024-11-04T11:06:40.493325Z",
     "shell.execute_reply.started": "2024-11-04T11:06:40.485243Z"
    },
    "slideshow": {
     "slide_type": ""
    },
    "tags": []
   },
   "outputs": [
    {
     "data": {
      "text/plain": [
       "1000003.141592653"
      ]
     },
     "execution_count": 25,
     "metadata": {},
     "output_type": "execute_result"
    }
   ],
   "source": [
    "# use separator in numerics\n",
    "1_000_003.141_592_653"
   ]
  },
  {
   "cell_type": "code",
   "execution_count": 30,
   "id": "1806997a-37b7-479e-9e00-b11af5c586bf",
   "metadata": {
    "execution": {
     "iopub.execute_input": "2024-11-04T11:07:54.147592Z",
     "iopub.status.busy": "2024-11-04T11:07:54.147066Z",
     "iopub.status.idle": "2024-11-04T11:07:54.156995Z",
     "shell.execute_reply": "2024-11-04T11:07:54.154018Z",
     "shell.execute_reply.started": "2024-11-04T11:07:54.147581Z"
    }
   },
   "outputs": [
    {
     "data": {
      "text/plain": [
       "3.0"
      ]
     },
     "execution_count": 30,
     "metadata": {},
     "output_type": "execute_result"
    }
   ],
   "source": [
    "float(1 + 2)"
   ]
  },
  {
   "cell_type": "code",
   "execution_count": 27,
   "id": "c860f112-9473-4eb9-bbe6-edeeb7356cdc",
   "metadata": {
    "execution": {
     "iopub.execute_input": "2024-11-04T11:07:01.504700Z",
     "iopub.status.busy": "2024-11-04T11:07:01.504220Z",
     "iopub.status.idle": "2024-11-04T11:07:01.512618Z",
     "shell.execute_reply": "2024-11-04T11:07:01.511169Z",
     "shell.execute_reply.started": "2024-11-04T11:07:01.504672Z"
    }
   },
   "outputs": [
    {
     "data": {
      "text/plain": [
       "-1"
      ]
     },
     "execution_count": 27,
     "metadata": {},
     "output_type": "execute_result"
    }
   ],
   "source": [
    "1 - 2"
   ]
  },
  {
   "cell_type": "code",
   "execution_count": 28,
   "id": "21494fdd-fb12-4b10-ac24-2d682f6fc5aa",
   "metadata": {
    "execution": {
     "iopub.execute_input": "2024-11-04T11:07:04.484915Z",
     "iopub.status.busy": "2024-11-04T11:07:04.484405Z",
     "iopub.status.idle": "2024-11-04T11:07:04.492997Z",
     "shell.execute_reply": "2024-11-04T11:07:04.490281Z",
     "shell.execute_reply.started": "2024-11-04T11:07:04.484890Z"
    }
   },
   "outputs": [
    {
     "data": {
      "text/plain": [
       "2"
      ]
     },
     "execution_count": 28,
     "metadata": {},
     "output_type": "execute_result"
    }
   ],
   "source": [
    "1 * 2"
   ]
  },
  {
   "cell_type": "code",
   "execution_count": 29,
   "id": "f56509c7-a77a-4c57-a308-b1de52a747af",
   "metadata": {
    "editable": true,
    "execution": {
     "iopub.execute_input": "2024-11-04T11:07:07.168378Z",
     "iopub.status.busy": "2024-11-04T11:07:07.167089Z",
     "iopub.status.idle": "2024-11-04T11:07:07.183871Z",
     "shell.execute_reply": "2024-11-04T11:07:07.182942Z",
     "shell.execute_reply.started": "2024-11-04T11:07:07.168210Z"
    },
    "slideshow": {
     "slide_type": ""
    },
    "tags": []
   },
   "outputs": [
    {
     "data": {
      "text/plain": [
       "0.5"
      ]
     },
     "execution_count": 29,
     "metadata": {},
     "output_type": "execute_result"
    }
   ],
   "source": [
    "1 / 2"
   ]
  },
  {
   "cell_type": "code",
   "execution_count": 33,
   "id": "3bd5d837-dfa1-4b39-9b6b-ab10fd73d9a9",
   "metadata": {
    "execution": {
     "iopub.execute_input": "2024-11-04T11:09:13.460630Z",
     "iopub.status.busy": "2024-11-04T11:09:13.460189Z",
     "iopub.status.idle": "2024-11-04T11:09:13.465632Z",
     "shell.execute_reply": "2024-11-04T11:09:13.464602Z",
     "shell.execute_reply.started": "2024-11-04T11:09:13.460613Z"
    }
   },
   "outputs": [
    {
     "data": {
      "text/plain": [
       "True"
      ]
     },
     "execution_count": 33,
     "metadata": {},
     "output_type": "execute_result"
    }
   ],
   "source": [
    "isinstance(42, int)"
   ]
  },
  {
   "cell_type": "markdown",
   "id": "7fa2fc46-6629-475e-a046-1ebec61b85d4",
   "metadata": {},
   "source": [
    "## boolean\n",
    "\n",
    "`True` and `False`"
   ]
  },
  {
   "cell_type": "code",
   "execution_count": 34,
   "id": "0fbd5699-da8d-4070-b1c6-e1c84bf06302",
   "metadata": {
    "execution": {
     "iopub.execute_input": "2024-11-04T11:09:41.166500Z",
     "iopub.status.busy": "2024-11-04T11:09:41.164777Z",
     "iopub.status.idle": "2024-11-04T11:09:41.191766Z",
     "shell.execute_reply": "2024-11-04T11:09:41.183725Z",
     "shell.execute_reply.started": "2024-11-04T11:09:41.166481Z"
    }
   },
   "outputs": [
    {
     "data": {
      "text/plain": [
       "True"
      ]
     },
     "execution_count": 34,
     "metadata": {},
     "output_type": "execute_result"
    }
   ],
   "source": [
    "a = False\n",
    "a is False"
   ]
  },
  {
   "cell_type": "code",
   "execution_count": 35,
   "id": "24f50187-1bc9-4bdc-b06f-60f638063fa8",
   "metadata": {
    "execution": {
     "iopub.execute_input": "2024-11-04T11:09:54.573389Z",
     "iopub.status.busy": "2024-11-04T11:09:54.572703Z",
     "iopub.status.idle": "2024-11-04T11:09:54.592644Z",
     "shell.execute_reply": "2024-11-04T11:09:54.581443Z",
     "shell.execute_reply.started": "2024-11-04T11:09:54.573357Z"
    }
   },
   "outputs": [
    {
     "data": {
      "text/plain": [
       "True"
      ]
     },
     "execution_count": 35,
     "metadata": {},
     "output_type": "execute_result"
    }
   ],
   "source": [
    "True or False"
   ]
  },
  {
   "cell_type": "code",
   "execution_count": 36,
   "id": "5155e2dc-dd57-475c-b7ec-74c5919d28c0",
   "metadata": {
    "execution": {
     "iopub.execute_input": "2024-11-04T11:09:59.262916Z",
     "iopub.status.busy": "2024-11-04T11:09:59.262537Z",
     "iopub.status.idle": "2024-11-04T11:09:59.285175Z",
     "shell.execute_reply": "2024-11-04T11:09:59.280241Z",
     "shell.execute_reply.started": "2024-11-04T11:09:59.262873Z"
    }
   },
   "outputs": [
    {
     "data": {
      "text/plain": [
       "False"
      ]
     },
     "execution_count": 36,
     "metadata": {},
     "output_type": "execute_result"
    }
   ],
   "source": [
    "True and False"
   ]
  },
  {
   "cell_type": "code",
   "execution_count": 37,
   "id": "9b34e5c8-49a4-42ea-b58c-9eb9b5ff4831",
   "metadata": {
    "editable": true,
    "execution": {
     "iopub.execute_input": "2024-11-04T11:10:16.534283Z",
     "iopub.status.busy": "2024-11-04T11:10:16.533616Z",
     "iopub.status.idle": "2024-11-04T11:10:16.542980Z",
     "shell.execute_reply": "2024-11-04T11:10:16.540984Z",
     "shell.execute_reply.started": "2024-11-04T11:10:16.534247Z"
    },
    "slideshow": {
     "slide_type": ""
    },
    "tags": []
   },
   "outputs": [
    {
     "data": {
      "text/plain": [
       "False"
      ]
     },
     "execution_count": 37,
     "metadata": {},
     "output_type": "execute_result"
    }
   ],
   "source": [
    "not True"
   ]
  },
  {
   "cell_type": "code",
   "execution_count": 38,
   "id": "ef6c59af-c943-4683-8118-357c607dd49f",
   "metadata": {
    "execution": {
     "iopub.execute_input": "2024-11-04T11:10:22.672336Z",
     "iopub.status.busy": "2024-11-04T11:10:22.671405Z",
     "iopub.status.idle": "2024-11-04T11:10:22.681145Z",
     "shell.execute_reply": "2024-11-04T11:10:22.678919Z",
     "shell.execute_reply.started": "2024-11-04T11:10:22.672305Z"
    }
   },
   "outputs": [
    {
     "data": {
      "text/plain": [
       "False"
      ]
     },
     "execution_count": 38,
     "metadata": {},
     "output_type": "execute_result"
    }
   ],
   "source": [
    "not True"
   ]
  },
  {
   "cell_type": "code",
   "execution_count": 39,
   "id": "b20a89b9-ca31-4979-9fbd-581781a8787b",
   "metadata": {
    "execution": {
     "iopub.execute_input": "2024-11-04T11:10:56.650444Z",
     "iopub.status.busy": "2024-11-04T11:10:56.650090Z",
     "iopub.status.idle": "2024-11-04T11:10:56.657789Z",
     "shell.execute_reply": "2024-11-04T11:10:56.656389Z",
     "shell.execute_reply.started": "2024-11-04T11:10:56.650420Z"
    }
   },
   "outputs": [
    {
     "data": {
      "text/plain": [
       "1"
      ]
     },
     "execution_count": 39,
     "metadata": {},
     "output_type": "execute_result"
    }
   ],
   "source": [
    "int(True)"
   ]
  },
  {
   "cell_type": "code",
   "execution_count": 40,
   "id": "5efde6e9-7c9a-4019-9711-bd6839da1f77",
   "metadata": {
    "execution": {
     "iopub.execute_input": "2024-11-04T11:11:03.790234Z",
     "iopub.status.busy": "2024-11-04T11:11:03.789725Z",
     "iopub.status.idle": "2024-11-04T11:11:03.796551Z",
     "shell.execute_reply": "2024-11-04T11:11:03.795994Z",
     "shell.execute_reply.started": "2024-11-04T11:11:03.790210Z"
    }
   },
   "outputs": [
    {
     "data": {
      "text/plain": [
       "0"
      ]
     },
     "execution_count": 40,
     "metadata": {},
     "output_type": "execute_result"
    }
   ],
   "source": [
    "int(False)"
   ]
  },
  {
   "cell_type": "code",
   "execution_count": 41,
   "id": "62b06306-b2dc-4a6d-9342-90ef25adaa54",
   "metadata": {
    "execution": {
     "iopub.execute_input": "2024-11-04T11:11:36.096974Z",
     "iopub.status.busy": "2024-11-04T11:11:36.095742Z",
     "iopub.status.idle": "2024-11-04T11:11:36.108113Z",
     "shell.execute_reply": "2024-11-04T11:11:36.107212Z",
     "shell.execute_reply.started": "2024-11-04T11:11:36.096919Z"
    }
   },
   "outputs": [
    {
     "data": {
      "text/plain": [
       "1"
      ]
     },
     "execution_count": 41,
     "metadata": {},
     "output_type": "execute_result"
    }
   ],
   "source": [
    "sum(\n",
    "    [\n",
    "        True, \n",
    "        False, \n",
    "        False\n",
    "    ]\n",
    ")"
   ]
  },
  {
   "cell_type": "markdown",
   "id": "eae687cf-87a4-4743-b157-b6da8658498d",
   "metadata": {
    "editable": true,
    "slideshow": {
     "slide_type": ""
    },
    "tags": []
   },
   "source": [
    "## strings"
   ]
  },
  {
   "cell_type": "markdown",
   "id": "0c32bc19-2199-42ab-8e5a-12ac2e1cd085",
   "metadata": {
    "editable": true,
    "slideshow": {
     "slide_type": ""
    },
    "tags": []
   },
   "source": [
    "In python, a string is wrapped by either single quotes (e.g. `'foobar'`)\n",
    "or double quotes (`\"foobar\"`)."
   ]
  },
  {
   "cell_type": "code",
   "execution_count": 44,
   "id": "5a6f69fb-efc3-46b4-af41-cad4956e11d5",
   "metadata": {
    "execution": {
     "iopub.execute_input": "2024-11-04T11:12:38.964737Z",
     "iopub.status.busy": "2024-11-04T11:12:38.963655Z",
     "iopub.status.idle": "2024-11-04T11:12:38.974491Z",
     "shell.execute_reply": "2024-11-04T11:12:38.973084Z",
     "shell.execute_reply.started": "2024-11-04T11:12:38.964679Z"
    }
   },
   "outputs": [
    {
     "data": {
      "text/plain": [
       "True"
      ]
     },
     "execution_count": 44,
     "metadata": {},
     "output_type": "execute_result"
    }
   ],
   "source": [
    "\"foobar\" == 'foobar'"
   ]
  },
  {
   "cell_type": "code",
   "execution_count": 46,
   "id": "ee6800de-33da-46f2-879f-43aa5361849c",
   "metadata": {
    "execution": {
     "iopub.execute_input": "2024-11-04T11:13:11.298834Z",
     "iopub.status.busy": "2024-11-04T11:13:11.298148Z",
     "iopub.status.idle": "2024-11-04T11:13:11.321625Z",
     "shell.execute_reply": "2024-11-04T11:13:11.315711Z",
     "shell.execute_reply.started": "2024-11-04T11:13:11.298803Z"
    }
   },
   "outputs": [
    {
     "data": {
      "text/plain": [
       "'foobar'"
      ]
     },
     "execution_count": 46,
     "metadata": {},
     "output_type": "execute_result"
    }
   ],
   "source": [
    "\"foobar\""
   ]
  },
  {
   "cell_type": "markdown",
   "id": "f390cd3c-e0a2-458a-b000-adb3205e7130",
   "metadata": {},
   "source": [
    "### string basics"
   ]
  },
  {
   "cell_type": "code",
   "execution_count": 47,
   "id": "bda65c20-2dc3-4482-8164-727a3445ce3b",
   "metadata": {
    "execution": {
     "iopub.execute_input": "2024-11-04T11:13:18.293187Z",
     "iopub.status.busy": "2024-11-04T11:13:18.292765Z",
     "iopub.status.idle": "2024-11-04T11:13:18.321704Z",
     "shell.execute_reply": "2024-11-04T11:13:18.315844Z",
     "shell.execute_reply.started": "2024-11-04T11:13:18.293166Z"
    }
   },
   "outputs": [
    {
     "data": {
      "text/plain": [
       "True"
      ]
     },
     "execution_count": 47,
     "metadata": {},
     "output_type": "execute_result"
    }
   ],
   "source": [
    "isinstance(\"foo\", str)"
   ]
  },
  {
   "cell_type": "code",
   "execution_count": 49,
   "id": "94119181-e411-4f1a-aff0-017831a348ad",
   "metadata": {
    "execution": {
     "iopub.execute_input": "2024-11-04T11:13:30.539587Z",
     "iopub.status.busy": "2024-11-04T11:13:30.539412Z",
     "iopub.status.idle": "2024-11-04T11:13:30.542337Z",
     "shell.execute_reply": "2024-11-04T11:13:30.541986Z",
     "shell.execute_reply.started": "2024-11-04T11:13:30.539576Z"
    }
   },
   "outputs": [
    {
     "data": {
      "text/plain": [
       "'1.0'"
      ]
     },
     "execution_count": 49,
     "metadata": {},
     "output_type": "execute_result"
    }
   ],
   "source": [
    "str(1.0)"
   ]
  },
  {
   "cell_type": "code",
   "execution_count": 50,
   "id": "8253fe97-c899-49ff-a5d2-1c05c76bde1a",
   "metadata": {
    "execution": {
     "iopub.execute_input": "2024-11-04T11:13:39.189012Z",
     "iopub.status.busy": "2024-11-04T11:13:39.187798Z",
     "iopub.status.idle": "2024-11-04T11:13:39.235975Z",
     "shell.execute_reply": "2024-11-04T11:13:39.235240Z",
     "shell.execute_reply.started": "2024-11-04T11:13:39.188950Z"
    }
   },
   "outputs": [
    {
     "data": {
      "text/plain": [
       "'True'"
      ]
     },
     "execution_count": 50,
     "metadata": {},
     "output_type": "execute_result"
    }
   ],
   "source": [
    "str(True)"
   ]
  },
  {
   "cell_type": "markdown",
   "id": "382e8db8-b645-4e87-a0ec-1ef19b536fdd",
   "metadata": {},
   "source": [
    "[1:4] [1..4]\n",
    "```r\n",
    "\"foobar\"[[1:4]] == \"foob\"\n",
    "```"
   ]
  },
  {
   "cell_type": "code",
   "execution_count": 97,
   "id": "1de9a1b9-c853-4d8c-982f-da48d6c39dd4",
   "metadata": {
    "execution": {
     "iopub.execute_input": "2024-11-04T11:40:05.061281Z",
     "iopub.status.busy": "2024-11-04T11:40:05.060885Z",
     "iopub.status.idle": "2024-11-04T11:40:05.095490Z",
     "shell.execute_reply": "2024-11-04T11:40:05.086482Z",
     "shell.execute_reply.started": "2024-11-04T11:40:05.061260Z"
    }
   },
   "outputs": [
    {
     "data": {
      "text/plain": [
       "'foo'"
      ]
     },
     "execution_count": 97,
     "metadata": {},
     "output_type": "execute_result"
    }
   ],
   "source": [
    "# indexing in python\n",
    "# [0:3] [0 .. 3)\n",
    "\"foobar\"[0:3]"
   ]
  },
  {
   "cell_type": "code",
   "execution_count": 53,
   "id": "5272d09d-efe2-4683-81c6-accc5cb713f2",
   "metadata": {
    "editable": true,
    "execution": {
     "iopub.execute_input": "2024-11-04T11:15:10.556865Z",
     "iopub.status.busy": "2024-11-04T11:15:10.556552Z",
     "iopub.status.idle": "2024-11-04T11:15:10.572095Z",
     "shell.execute_reply": "2024-11-04T11:15:10.567720Z",
     "shell.execute_reply.started": "2024-11-04T11:15:10.556854Z"
    },
    "slideshow": {
     "slide_type": ""
    },
    "tags": []
   },
   "outputs": [
    {
     "name": "stdout",
     "output_type": "stream",
     "text": [
      "foo\n"
     ]
    },
    {
     "data": {
      "text/plain": [
       "'foo'"
      ]
     },
     "execution_count": 53,
     "metadata": {},
     "output_type": "execute_result"
    }
   ],
   "source": [
    "# substring\n",
    "a = \"foobar\"[:3]\n",
    "len(a)\n",
    "print(a)\n",
    "a"
   ]
  },
  {
   "cell_type": "code",
   "execution_count": 55,
   "id": "8135eb1e-ba0a-45b5-8c4e-13e44bab2b00",
   "metadata": {
    "execution": {
     "iopub.execute_input": "2024-11-04T11:15:50.546702Z",
     "iopub.status.busy": "2024-11-04T11:15:50.546548Z",
     "iopub.status.idle": "2024-11-04T11:15:50.578102Z",
     "shell.execute_reply": "2024-11-04T11:15:50.573031Z",
     "shell.execute_reply.started": "2024-11-04T11:15:50.546693Z"
    }
   },
   "outputs": [
    {
     "data": {
      "text/plain": [
       "False"
      ]
     },
     "execution_count": 55,
     "metadata": {},
     "output_type": "execute_result"
    }
   ],
   "source": [
    "# substring membership\n",
    "\"apple\" in \"foobar\""
   ]
  },
  {
   "cell_type": "code",
   "execution_count": 57,
   "id": "a3c0a4b6-5c75-4c3f-855c-fa2c93a4ea4e",
   "metadata": {
    "execution": {
     "iopub.execute_input": "2024-11-04T11:16:49.998055Z",
     "iopub.status.busy": "2024-11-04T11:16:49.996985Z",
     "iopub.status.idle": "2024-11-04T11:16:50.006304Z",
     "shell.execute_reply": "2024-11-04T11:16:50.005241Z",
     "shell.execute_reply.started": "2024-11-04T11:16:49.997981Z"
    }
   },
   "outputs": [
    {
     "data": {
      "text/plain": [
       "'\\nA quick fox\\njumps over the lazy dog\\n'"
      ]
     },
     "execution_count": 57,
     "metadata": {},
     "output_type": "execute_result"
    }
   ],
   "source": [
    "# multi-line string\n",
    "multi_line_str = \"\"\"\n",
    "A quick fox\n",
    "jumps over the lazy dog\n",
    "\"\"\"\n",
    "multi_line_str"
   ]
  },
  {
   "cell_type": "code",
   "execution_count": 59,
   "id": "7f309741-af8b-45b6-b37e-6a748278e0d8",
   "metadata": {
    "execution": {
     "iopub.execute_input": "2024-11-04T11:18:19.272445Z",
     "iopub.status.busy": "2024-11-04T11:18:19.271709Z",
     "iopub.status.idle": "2024-11-04T11:18:19.279210Z",
     "shell.execute_reply": "2024-11-04T11:18:19.278495Z",
     "shell.execute_reply.started": "2024-11-04T11:18:19.272411Z"
    }
   },
   "outputs": [
    {
     "name": "stdout",
     "output_type": "stream",
     "text": [
      "\n",
      "A quick fox\n",
      "jumps over the lazy dog\n",
      "\n"
     ]
    }
   ],
   "source": [
    "print(multi_line_str)"
   ]
  },
  {
   "cell_type": "code",
   "execution_count": 60,
   "id": "4ecece1a-bcb4-4509-a184-b2bed38373a0",
   "metadata": {
    "execution": {
     "iopub.execute_input": "2024-11-04T11:18:34.080350Z",
     "iopub.status.busy": "2024-11-04T11:18:34.079315Z",
     "iopub.status.idle": "2024-11-04T11:18:34.097467Z",
     "shell.execute_reply": "2024-11-04T11:18:34.092542Z",
     "shell.execute_reply.started": "2024-11-04T11:18:34.080295Z"
    }
   },
   "outputs": [
    {
     "name": "stdout",
     "output_type": "stream",
     "text": [
      "A quick fox\n",
      "jumps over the lazy dog\n"
     ]
    }
   ],
   "source": [
    "# multi-line string\n",
    "b = \"\"\"A quick fox\n",
    "jumps over the lazy dog\"\"\"\n",
    "print(b)"
   ]
  },
  {
   "cell_type": "code",
   "execution_count": 61,
   "id": "690b8fc5-104b-4d1a-9a28-d5cc267a798e",
   "metadata": {
    "execution": {
     "iopub.execute_input": "2024-11-04T11:19:03.487069Z",
     "iopub.status.busy": "2024-11-04T11:19:03.486413Z",
     "iopub.status.idle": "2024-11-04T11:19:03.493235Z",
     "shell.execute_reply": "2024-11-04T11:19:03.492666Z",
     "shell.execute_reply.started": "2024-11-04T11:19:03.487031Z"
    }
   },
   "outputs": [
    {
     "data": {
      "text/plain": [
       "'hello\\nworld'"
      ]
     },
     "execution_count": 61,
     "metadata": {},
     "output_type": "execute_result"
    }
   ],
   "source": [
    "# \"\\n\" is the character for line breaks\n",
    "\"hello\\nworld\""
   ]
  },
  {
   "cell_type": "code",
   "execution_count": 62,
   "id": "16ae21af-7060-43ee-ae89-15152b1cc4d0",
   "metadata": {
    "execution": {
     "iopub.execute_input": "2024-11-04T11:19:05.225662Z",
     "iopub.status.busy": "2024-11-04T11:19:05.225096Z",
     "iopub.status.idle": "2024-11-04T11:19:05.235337Z",
     "shell.execute_reply": "2024-11-04T11:19:05.234188Z",
     "shell.execute_reply.started": "2024-11-04T11:19:05.225637Z"
    }
   },
   "outputs": [
    {
     "name": "stdout",
     "output_type": "stream",
     "text": [
      "hello\n",
      "world\n"
     ]
    }
   ],
   "source": [
    "print(\"hello\\\\nworld\")"
   ]
  },
  {
   "cell_type": "code",
   "execution_count": 63,
   "id": "2058d6c4-6fc9-482b-a0db-eadaf4b60ceb",
   "metadata": {
    "execution": {
     "iopub.execute_input": "2024-11-04T11:19:48.033287Z",
     "iopub.status.busy": "2024-11-04T11:19:48.033038Z",
     "iopub.status.idle": "2024-11-04T11:19:48.036256Z",
     "shell.execute_reply": "2024-11-04T11:19:48.035707Z",
     "shell.execute_reply.started": "2024-11-04T11:19:48.033269Z"
    }
   },
   "outputs": [
    {
     "name": "stdout",
     "output_type": "stream",
     "text": [
      "hello\\nworld\n"
     ]
    }
   ],
   "source": [
    "# what happens if you need to keep the special characters when printing?\n",
    "\n",
    "# This is called \"escaping\" a character, \n",
    "# by adding a \"\\\" in front of the char to escape\n",
    "print(\"hello\\\\nworld\")"
   ]
  },
  {
   "cell_type": "code",
   "execution_count": 65,
   "id": "1dc1662e-1ccd-4e2a-ab88-7d82a44f2fd2",
   "metadata": {
    "execution": {
     "iopub.execute_input": "2024-11-04T11:20:42.397483Z",
     "iopub.status.busy": "2024-11-04T11:20:42.396806Z",
     "iopub.status.idle": "2024-11-04T11:20:42.402289Z",
     "shell.execute_reply": "2024-11-04T11:20:42.401464Z",
     "shell.execute_reply.started": "2024-11-04T11:20:42.397443Z"
    }
   },
   "outputs": [
    {
     "name": "stdout",
     "output_type": "stream",
     "text": [
      "James' car \n"
     ]
    }
   ],
   "source": [
    "print('James\\' car ')"
   ]
  },
  {
   "cell_type": "code",
   "execution_count": 66,
   "id": "f2ed9c1a-40fd-4bd8-8485-f07876c1fc54",
   "metadata": {
    "execution": {
     "iopub.execute_input": "2024-11-04T11:21:09.969955Z",
     "iopub.status.busy": "2024-11-04T11:21:09.969573Z",
     "iopub.status.idle": "2024-11-04T11:21:09.973912Z",
     "shell.execute_reply": "2024-11-04T11:21:09.972757Z",
     "shell.execute_reply.started": "2024-11-04T11:21:09.969931Z"
    }
   },
   "outputs": [
    {
     "name": "stdout",
     "output_type": "stream",
     "text": [
      "They're fine.\n"
     ]
    }
   ],
   "source": [
    "# Mixing quotes\n",
    "print(\"They're fine.\")"
   ]
  },
  {
   "cell_type": "code",
   "execution_count": 67,
   "id": "6e614bde-39ff-4c58-bcb2-2d087ed11fc8",
   "metadata": {
    "editable": true,
    "execution": {
     "iopub.execute_input": "2024-11-04T11:21:14.469836Z",
     "iopub.status.busy": "2024-11-04T11:21:14.469035Z",
     "iopub.status.idle": "2024-11-04T11:21:14.476195Z",
     "shell.execute_reply": "2024-11-04T11:21:14.474945Z",
     "shell.execute_reply.started": "2024-11-04T11:21:14.469797Z"
    },
    "slideshow": {
     "slide_type": ""
    },
    "tags": []
   },
   "outputs": [
    {
     "name": "stdout",
     "output_type": "stream",
     "text": [
      "They're fine.\n"
     ]
    }
   ],
   "source": [
    "# Escaping quotes\n",
    "print('They\\'re fine.')"
   ]
  },
  {
   "cell_type": "code",
   "execution_count": 69,
   "id": "e6cd8fca-d660-4be3-be5e-d8d068ddb5e7",
   "metadata": {
    "editable": true,
    "execution": {
     "iopub.execute_input": "2024-11-04T11:21:45.979360Z",
     "iopub.status.busy": "2024-11-04T11:21:45.977983Z",
     "iopub.status.idle": "2024-11-04T11:21:45.988645Z",
     "shell.execute_reply": "2024-11-04T11:21:45.986495Z",
     "shell.execute_reply.started": "2024-11-04T11:21:45.979312Z"
    },
    "slideshow": {
     "slide_type": ""
    },
    "tags": []
   },
   "outputs": [
    {
     "name": "stdout",
     "output_type": "stream",
     "text": [
      "hello,\n",
      "world!\n"
     ]
    }
   ],
   "source": [
    "# concatenation\n",
    "a = \"hello\" + \",\" + \"\\n\" + \"world!\"\n",
    "print(a)"
   ]
  },
  {
   "cell_type": "code",
   "execution_count": 70,
   "id": "3d51e1ee-1c8b-49c2-bca0-d78d308c0865",
   "metadata": {
    "editable": true,
    "execution": {
     "iopub.execute_input": "2024-11-04T11:22:14.101732Z",
     "iopub.status.busy": "2024-11-04T11:22:14.101030Z",
     "iopub.status.idle": "2024-11-04T11:22:14.108395Z",
     "shell.execute_reply": "2024-11-04T11:22:14.107474Z",
     "shell.execute_reply.started": "2024-11-04T11:22:14.101698Z"
    },
    "slideshow": {
     "slide_type": ""
    },
    "tags": []
   },
   "outputs": [
    {
     "name": "stdout",
     "output_type": "stream",
     "text": [
      "hello\n",
      "hello\n",
      "hello\n",
      "hello\n",
      "\n"
     ]
    }
   ],
   "source": [
    "# multiplication\n",
    "print(\n",
    "    \"hello\\n\" * 4\n",
    ")"
   ]
  },
  {
   "cell_type": "code",
   "execution_count": 72,
   "id": "9ce93270-1fd2-4aea-8574-2c755d1fa239",
   "metadata": {
    "execution": {
     "iopub.execute_input": "2024-11-04T11:23:28.468851Z",
     "iopub.status.busy": "2024-11-04T11:23:28.462334Z",
     "iopub.status.idle": "2024-11-04T11:23:28.472614Z",
     "shell.execute_reply": "2024-11-04T11:23:28.471973Z",
     "shell.execute_reply.started": "2024-11-04T11:23:28.468821Z"
    }
   },
   "outputs": [
    {
     "data": {
      "text/plain": [
       "'A quick fox\\njumps over the lazy dog'"
      ]
     },
     "execution_count": 72,
     "metadata": {},
     "output_type": "execute_result"
    }
   ],
   "source": [
    "# strip leading and trailing whitespace from strings\n",
    "multi_line_str = \"\"\"\n",
    "A quick fox\n",
    "jumps over the lazy dog\n",
    "\"\"\"\n",
    "multi_line_str.strip()"
   ]
  },
  {
   "cell_type": "code",
   "execution_count": 75,
   "id": "2782391b-f729-4ab3-970a-192ee54d1b12",
   "metadata": {
    "execution": {
     "iopub.execute_input": "2024-11-04T11:25:27.996300Z",
     "iopub.status.busy": "2024-11-04T11:25:27.995575Z",
     "iopub.status.idle": "2024-11-04T11:25:28.001286Z",
     "shell.execute_reply": "2024-11-04T11:25:28.000319Z",
     "shell.execute_reply.started": "2024-11-04T11:25:27.996257Z"
    }
   },
   "outputs": [
    {
     "name": "stdout",
     "output_type": "stream",
     "text": [
      "a\n",
      "b\n",
      "c\n",
      "d\n"
     ]
    }
   ],
   "source": [
    "# join strings\n",
    "foo = \"\\n\".join([\"a\", \"b\", \"c\", \"d\"])\n",
    "print(foo)"
   ]
  },
  {
   "cell_type": "code",
   "execution_count": 76,
   "id": "58773638-a4bb-4191-999d-2ca1b0ab204d",
   "metadata": {
    "execution": {
     "iopub.execute_input": "2024-11-04T11:25:36.501091Z",
     "iopub.status.busy": "2024-11-04T11:25:36.500403Z",
     "iopub.status.idle": "2024-11-04T11:25:36.504958Z",
     "shell.execute_reply": "2024-11-04T11:25:36.504520Z",
     "shell.execute_reply.started": "2024-11-04T11:25:36.501073Z"
    }
   },
   "outputs": [
    {
     "data": {
      "text/plain": [
       "['a', 'b', 'c', 'd']"
      ]
     },
     "execution_count": 76,
     "metadata": {},
     "output_type": "execute_result"
    }
   ],
   "source": [
    "foo.split(\"\\n\")"
   ]
  },
  {
   "cell_type": "code",
   "execution_count": 78,
   "id": "7d3ba9ea-b8aa-4d02-9515-f10d9d7e45b1",
   "metadata": {
    "execution": {
     "iopub.execute_input": "2024-11-04T11:27:16.273545Z",
     "iopub.status.busy": "2024-11-04T11:27:16.273350Z",
     "iopub.status.idle": "2024-11-04T11:27:16.306881Z",
     "shell.execute_reply": "2024-11-04T11:27:16.296937Z",
     "shell.execute_reply.started": "2024-11-04T11:27:16.273534Z"
    }
   },
   "outputs": [
    {
     "data": {
      "text/plain": [
       "'The price of a T-shirt is 42'"
      ]
     },
     "execution_count": 78,
     "metadata": {},
     "output_type": "execute_result"
    }
   ],
   "source": [
    "price = 42\n",
    "a = \"The price of a T-shirt is \"\n",
    "# ---\n",
    "a + str(price)"
   ]
  },
  {
   "cell_type": "markdown",
   "id": "3dfc0895-da9c-46a2-9ccb-29675517b086",
   "metadata": {},
   "source": [
    "### Formatting strings\n",
    "\n",
    "There are a couple of methods in python to format strings:\n",
    "- the `%` operator and the `.format` method\n",
    "- the f-strings"
   ]
  },
  {
   "cell_type": "code",
   "execution_count": 81,
   "id": "b648805b-cd43-445b-88b9-0147fe34c6dc",
   "metadata": {
    "execution": {
     "iopub.execute_input": "2024-11-04T11:28:54.431018Z",
     "iopub.status.busy": "2024-11-04T11:28:54.430081Z",
     "iopub.status.idle": "2024-11-04T11:28:54.452090Z",
     "shell.execute_reply": "2024-11-04T11:28:54.449840Z",
     "shell.execute_reply.started": "2024-11-04T11:28:54.431003Z"
    }
   },
   "outputs": [
    {
     "data": {
      "text/plain": [
       "'£42 is the price of the T-shirt'"
      ]
     },
     "execution_count": 81,
     "metadata": {},
     "output_type": "execute_result"
    }
   ],
   "source": [
    "# the variable placeholder is represented by the %s symbol in the string\n",
    "a = 42\n",
    "\"£%s is the price of the T-shirt\" % a\n",
    "# expect \"foobar\""
   ]
  },
  {
   "cell_type": "code",
   "execution_count": 83,
   "id": "685c2109-3eb2-4a8f-8a8d-2e7ab1bc805c",
   "metadata": {
    "execution": {
     "iopub.execute_input": "2024-11-04T11:30:02.810817Z",
     "iopub.status.busy": "2024-11-04T11:30:02.810044Z",
     "iopub.status.idle": "2024-11-04T11:30:02.820498Z",
     "shell.execute_reply": "2024-11-04T11:30:02.819097Z",
     "shell.execute_reply.started": "2024-11-04T11:30:02.810780Z"
    }
   },
   "outputs": [
    {
     "data": {
      "text/plain": [
       "'a=2, b=1'"
      ]
     },
     "execution_count": 83,
     "metadata": {},
     "output_type": "execute_result"
    }
   ],
   "source": [
    "# format: simple version\n",
    "# {}\n",
    "\"a={}, b={}\".format(2, 1)"
   ]
  },
  {
   "cell_type": "code",
   "execution_count": 84,
   "id": "9b317d99-99ec-4a37-90e2-11aab2eae7ef",
   "metadata": {
    "execution": {
     "iopub.execute_input": "2024-11-04T11:30:43.103211Z",
     "iopub.status.busy": "2024-11-04T11:30:43.102621Z",
     "iopub.status.idle": "2024-11-04T11:30:43.108595Z",
     "shell.execute_reply": "2024-11-04T11:30:43.107743Z",
     "shell.execute_reply.started": "2024-11-04T11:30:43.103183Z"
    }
   },
   "outputs": [
    {
     "data": {
      "text/plain": [
       "'a=2, b=1'"
      ]
     },
     "execution_count": 84,
     "metadata": {},
     "output_type": "execute_result"
    }
   ],
   "source": [
    "# format: simple version\n",
    "\"a={1}, b={0}\".format(1, 2)"
   ]
  },
  {
   "cell_type": "code",
   "execution_count": 86,
   "id": "fa91df33-d703-412c-b87a-3fc6d1ec44a6",
   "metadata": {
    "execution": {
     "iopub.execute_input": "2024-11-04T11:31:26.769909Z",
     "iopub.status.busy": "2024-11-04T11:31:26.769700Z",
     "iopub.status.idle": "2024-11-04T11:31:26.773128Z",
     "shell.execute_reply": "2024-11-04T11:31:26.772474Z",
     "shell.execute_reply.started": "2024-11-04T11:31:26.769893Z"
    }
   },
   "outputs": [
    {
     "data": {
      "text/plain": [
       "'price_a=1, price_b=2'"
      ]
     },
     "execution_count": 86,
     "metadata": {},
     "output_type": "execute_result"
    }
   ],
   "source": [
    "# format: variable interpolation\n",
    "\"price_a={a}, price_b={b}\".format(a=1, b=2)"
   ]
  },
  {
   "cell_type": "code",
   "execution_count": 87,
   "id": "e00b7623-3633-49cd-9169-03ee67a9673a",
   "metadata": {
    "execution": {
     "iopub.execute_input": "2024-11-04T11:32:05.055268Z",
     "iopub.status.busy": "2024-11-04T11:32:05.054360Z",
     "iopub.status.idle": "2024-11-04T11:32:05.065523Z",
     "shell.execute_reply": "2024-11-04T11:32:05.064494Z",
     "shell.execute_reply.started": "2024-11-04T11:32:05.055215Z"
    }
   },
   "outputs": [
    {
     "data": {
      "text/plain": [
       "'value of pi: 3.14'"
      ]
     },
     "execution_count": 87,
     "metadata": {},
     "output_type": "execute_result"
    }
   ],
   "source": [
    "# float format\n",
    "\"value of pi: {pi:.2f}\".format(pi=3.141592653)"
   ]
  },
  {
   "cell_type": "code",
   "execution_count": 88,
   "id": "25493077-71b4-47c7-bf44-d73938c69216",
   "metadata": {
    "execution": {
     "iopub.execute_input": "2024-11-04T11:33:00.334836Z",
     "iopub.status.busy": "2024-11-04T11:33:00.334260Z",
     "iopub.status.idle": "2024-11-04T11:33:00.344161Z",
     "shell.execute_reply": "2024-11-04T11:33:00.342657Z",
     "shell.execute_reply.started": "2024-11-04T11:33:00.334804Z"
    }
   },
   "outputs": [
    {
     "data": {
      "text/plain": [
       "'1,000,000'"
      ]
     },
     "execution_count": 88,
     "metadata": {},
     "output_type": "execute_result"
    }
   ],
   "source": [
    "# float format\n",
    "\"{:,}\".format(1_000_000)"
   ]
  },
  {
   "cell_type": "code",
   "execution_count": 89,
   "id": "f81b8060-299d-4d1a-9a82-b033632ec150",
   "metadata": {
    "editable": true,
    "execution": {
     "iopub.execute_input": "2024-11-04T11:33:03.101995Z",
     "iopub.status.busy": "2024-11-04T11:33:03.101380Z",
     "iopub.status.idle": "2024-11-04T11:33:03.107610Z",
     "shell.execute_reply": "2024-11-04T11:33:03.106494Z",
     "shell.execute_reply.started": "2024-11-04T11:33:03.101972Z"
    },
    "slideshow": {
     "slide_type": ""
    },
    "tags": []
   },
   "outputs": [
    {
     "data": {
      "text/plain": [
       "'1_000_000'"
      ]
     },
     "execution_count": 89,
     "metadata": {},
     "output_type": "execute_result"
    }
   ],
   "source": [
    "# float format\n",
    "\"{:_}\".format(1_000_000)"
   ]
  },
  {
   "cell_type": "markdown",
   "id": "0a5f6279-2fb1-4a33-9372-a41b22ad0dd6",
   "metadata": {},
   "source": [
    "### f-strings\n",
    "\n",
    "f-strings is a new (python 3.6+) way to format strings as it is more convenient to write."
   ]
  },
  {
   "cell_type": "code",
   "execution_count": 90,
   "id": "c4f54c6b-ca5f-427a-9e15-a8062d572070",
   "metadata": {
    "execution": {
     "iopub.execute_input": "2024-11-04T11:34:28.640101Z",
     "iopub.status.busy": "2024-11-04T11:34:28.639599Z",
     "iopub.status.idle": "2024-11-04T11:34:28.648694Z",
     "shell.execute_reply": "2024-11-04T11:34:28.648027Z",
     "shell.execute_reply.started": "2024-11-04T11:34:28.640075Z"
    }
   },
   "outputs": [
    {
     "data": {
      "text/plain": [
       "'a=1, b=2'"
      ]
     },
     "execution_count": 90,
     "metadata": {},
     "output_type": "execute_result"
    }
   ],
   "source": [
    "# f-string\n",
    "a = 1\n",
    "b = 2\n",
    "\n",
    "f\"a={a}, b={b}\""
   ]
  },
  {
   "cell_type": "code",
   "execution_count": 91,
   "id": "af47c177-dde2-41e5-aff4-c385e04f2994",
   "metadata": {
    "execution": {
     "iopub.execute_input": "2024-11-04T11:34:32.482833Z",
     "iopub.status.busy": "2024-11-04T11:34:32.482472Z",
     "iopub.status.idle": "2024-11-04T11:34:32.490889Z",
     "shell.execute_reply": "2024-11-04T11:34:32.489982Z",
     "shell.execute_reply.started": "2024-11-04T11:34:32.482809Z"
    }
   },
   "outputs": [
    {
     "data": {
      "text/plain": [
       "'big_num: 1,000,000'"
      ]
     },
     "execution_count": 91,
     "metadata": {},
     "output_type": "execute_result"
    }
   ],
   "source": [
    "big_num = 1_000_000\n",
    "\n",
    "f\"big_num: {big_num:,}\""
   ]
  },
  {
   "cell_type": "code",
   "execution_count": 92,
   "id": "70d79081-a958-4821-9809-9b3183af8b3b",
   "metadata": {
    "editable": true,
    "execution": {
     "iopub.execute_input": "2024-11-04T11:34:37.556060Z",
     "iopub.status.busy": "2024-11-04T11:34:37.555333Z",
     "iopub.status.idle": "2024-11-04T11:34:37.568255Z",
     "shell.execute_reply": "2024-11-04T11:34:37.567194Z",
     "shell.execute_reply.started": "2024-11-04T11:34:37.556021Z"
    },
    "slideshow": {
     "slide_type": ""
    },
    "tags": []
   },
   "outputs": [
    {
     "data": {
      "text/plain": [
       "'big_num: 1,000,003.1416'"
      ]
     },
     "execution_count": 92,
     "metadata": {},
     "output_type": "execute_result"
    }
   ],
   "source": [
    "big_num = 1_000_003.141_592_653\n",
    "\n",
    "f\"big_num: {big_num:,.4f}\""
   ]
  },
  {
   "cell_type": "code",
   "execution_count": 93,
   "id": "c0deb47d-a18e-47eb-a5bb-092d403ca4ff",
   "metadata": {
    "execution": {
     "iopub.execute_input": "2024-11-04T11:35:14.510366Z",
     "iopub.status.busy": "2024-11-04T11:35:14.509704Z",
     "iopub.status.idle": "2024-11-04T11:35:14.518858Z",
     "shell.execute_reply": "2024-11-04T11:35:14.517718Z",
     "shell.execute_reply.started": "2024-11-04T11:35:14.510332Z"
    }
   },
   "outputs": [
    {
     "data": {
      "text/plain": [
       "'interpret result in an f-string 2'"
      ]
     },
     "execution_count": 93,
     "metadata": {},
     "output_type": "execute_result"
    }
   ],
   "source": [
    "a = 1\n",
    "f\"interpret result in an f-string {a + 1}\""
   ]
  },
  {
   "cell_type": "code",
   "execution_count": 94,
   "id": "407f32a7-c616-4b02-b62a-442e4b315bf6",
   "metadata": {
    "execution": {
     "iopub.execute_input": "2024-11-04T11:35:58.439702Z",
     "iopub.status.busy": "2024-11-04T11:35:58.438997Z",
     "iopub.status.idle": "2024-11-04T11:35:58.447572Z",
     "shell.execute_reply": "2024-11-04T11:35:58.446852Z",
     "shell.execute_reply.started": "2024-11-04T11:35:58.439667Z"
    }
   },
   "outputs": [
    {
     "data": {
      "text/plain": [
       "'2nd element of a is 1'"
      ]
     },
     "execution_count": 94,
     "metadata": {},
     "output_type": "execute_result"
    }
   ],
   "source": [
    "a = [0, 1, 2, 3]\n",
    "f\"2nd element of a is {a[1]}\""
   ]
  },
  {
   "cell_type": "code",
   "execution_count": 96,
   "id": "d5d605e3-8be6-4142-8dfd-90701c3194e4",
   "metadata": {
    "execution": {
     "iopub.execute_input": "2024-11-04T11:37:26.966526Z",
     "iopub.status.busy": "2024-11-04T11:37:26.966052Z",
     "iopub.status.idle": "2024-11-04T11:37:26.976624Z",
     "shell.execute_reply": "2024-11-04T11:37:26.975775Z",
     "shell.execute_reply.started": "2024-11-04T11:37:26.966492Z"
    }
   },
   "outputs": [
    {
     "data": {
      "text/plain": [
       "'value of a = 1'"
      ]
     },
     "execution_count": 96,
     "metadata": {},
     "output_type": "execute_result"
    }
   ],
   "source": [
    "# self document the name and value of the variable\n",
    "a = 1\n",
    "f\"value of {a = }\""
   ]
  },
  {
   "cell_type": "markdown",
   "id": "70fb0a35-1cdc-49fe-a0ac-5a574b5b4a83",
   "metadata": {
    "editable": true,
    "slideshow": {
     "slide_type": ""
    },
    "tags": []
   },
   "source": [
    "# Control flows\n",
    "\n",
    "- if else\n",
    "- for loop\n",
    "- while loop\n",
    "- the `break`, `continue`, `pass` statements"
   ]
  },
  {
   "cell_type": "code",
   "execution_count": 100,
   "id": "d2935435-62d7-4471-9ee3-47f13726cb33",
   "metadata": {
    "editable": true,
    "execution": {
     "iopub.execute_input": "2024-11-04T11:44:30.994988Z",
     "iopub.status.busy": "2024-11-04T11:44:30.994090Z",
     "iopub.status.idle": "2024-11-04T11:44:31.003222Z",
     "shell.execute_reply": "2024-11-04T11:44:31.002455Z",
     "shell.execute_reply.started": "2024-11-04T11:44:30.994935Z"
    },
    "slideshow": {
     "slide_type": ""
    },
    "tags": []
   },
   "outputs": [
    {
     "name": "stdout",
     "output_type": "stream",
     "text": [
      "if\n"
     ]
    }
   ],
   "source": [
    "# if\n",
    "a = 0\n",
    "if a <= 1:\n",
    "    print(\"if\")"
   ]
  },
  {
   "cell_type": "code",
   "execution_count": 103,
   "id": "786a15e7-dcc5-4c7c-a7b4-bb3a5374a044",
   "metadata": {
    "execution": {
     "iopub.execute_input": "2024-11-04T11:45:02.362969Z",
     "iopub.status.busy": "2024-11-04T11:45:02.362177Z",
     "iopub.status.idle": "2024-11-04T11:45:02.387899Z",
     "shell.execute_reply": "2024-11-04T11:45:02.380454Z",
     "shell.execute_reply.started": "2024-11-04T11:45:02.362940Z"
    }
   },
   "outputs": [
    {
     "name": "stdout",
     "output_type": "stream",
     "text": [
      "if\n"
     ]
    }
   ],
   "source": [
    "# if else conditionals\n",
    "\n",
    "a = 5\n",
    "if a > 1:\n",
    "    print(\"if\")\n",
    "else:\n",
    "    print(\"else\")"
   ]
  },
  {
   "cell_type": "code",
   "execution_count": 108,
   "id": "30569271-2258-405d-b10a-d8c0616621fb",
   "metadata": {
    "editable": true,
    "execution": {
     "iopub.execute_input": "2024-11-04T11:48:20.283768Z",
     "iopub.status.busy": "2024-11-04T11:48:20.283146Z",
     "iopub.status.idle": "2024-11-04T11:48:20.305003Z",
     "shell.execute_reply": "2024-11-04T11:48:20.303043Z",
     "shell.execute_reply.started": "2024-11-04T11:48:20.283739Z"
    },
    "slideshow": {
     "slide_type": ""
    },
    "tags": []
   },
   "outputs": [
    {
     "name": "stdout",
     "output_type": "stream",
     "text": [
      "0\n",
      "1\n",
      "2\n",
      "3\n",
      "4\n",
      "4\n"
     ]
    }
   ],
   "source": [
    "# for loop\n",
    "index = \"hello\"\n",
    "\n",
    "for index in range(5):\n",
    "    print(index)\n",
    "\n",
    "print(index)"
   ]
  },
  {
   "cell_type": "code",
   "execution_count": 106,
   "id": "3973f4f6-6c7d-4e65-9393-b779f99e267f",
   "metadata": {
    "execution": {
     "iopub.execute_input": "2024-11-04T11:46:53.234103Z",
     "iopub.status.busy": "2024-11-04T11:46:53.233549Z",
     "iopub.status.idle": "2024-11-04T11:46:53.238638Z",
     "shell.execute_reply": "2024-11-04T11:46:53.237772Z",
     "shell.execute_reply.started": "2024-11-04T11:46:53.233895Z"
    }
   },
   "outputs": [
    {
     "name": "stdout",
     "output_type": "stream",
     "text": [
      "0\n",
      "1\n",
      "2\n",
      "3\n",
      "4\n",
      "5\n"
     ]
    }
   ],
   "source": [
    "# while loop\n",
    "i = 0\n",
    "limit = 5\n",
    "while i <= limit:\n",
    "    print(i)\n",
    "    i = i+1"
   ]
  },
  {
   "cell_type": "code",
   "execution_count": 109,
   "id": "d92dc1d3-f62c-4a32-9152-7127bf36b8c1",
   "metadata": {
    "execution": {
     "iopub.execute_input": "2024-11-04T11:49:56.323217Z",
     "iopub.status.busy": "2024-11-04T11:49:56.322704Z",
     "iopub.status.idle": "2024-11-04T11:49:56.330704Z",
     "shell.execute_reply": "2024-11-04T11:49:56.329599Z",
     "shell.execute_reply.started": "2024-11-04T11:49:56.323168Z"
    }
   },
   "outputs": [
    {
     "name": "stdout",
     "output_type": "stream",
     "text": [
      "0\n",
      "1\n",
      "2\n",
      "3\n",
      "final value of i = 3\n"
     ]
    }
   ],
   "source": [
    "# break: break will stop further execution of the loop\n",
    "for i in range(5):\n",
    "    print(i)\n",
    "    if i >= 3:\n",
    "        break\n",
    "print(f\"final value of {i = }\")"
   ]
  },
  {
   "cell_type": "code",
   "execution_count": 110,
   "id": "28e6af54-c147-48ae-bc1e-c5265de56d22",
   "metadata": {
    "editable": true,
    "execution": {
     "iopub.execute_input": "2024-11-04T11:51:06.724624Z",
     "iopub.status.busy": "2024-11-04T11:51:06.723895Z",
     "iopub.status.idle": "2024-11-04T11:51:06.732474Z",
     "shell.execute_reply": "2024-11-04T11:51:06.729897Z",
     "shell.execute_reply.started": "2024-11-04T11:51:06.724588Z"
    },
    "scrolled": true,
    "slideshow": {
     "slide_type": ""
    },
    "tags": []
   },
   "outputs": [
    {
     "name": "stdout",
     "output_type": "stream",
     "text": [
      "\n",
      "\n",
      "beginning of loop 0\n",
      "end of loop 0\n",
      "\n",
      "\n",
      "beginning of loop 1\n",
      "end of loop 1\n",
      "\n",
      "\n",
      "beginning of loop 2\n",
      "end of loop 2\n",
      "\n",
      "\n",
      "beginning of loop 3\n",
      "\n",
      "\n",
      "beginning of loop 4\n",
      "end of loop 4\n",
      "final value of i = 4\n"
     ]
    }
   ],
   "source": [
    "# continue\n",
    "for i in range(5):\n",
    "    print(\"\\n\")\n",
    "    print(f\"beginning of loop {i}\")\n",
    "    if i == 3:\n",
    "        continue\n",
    "    print(f\"end of loop {i}\")\n",
    "print(f\"final value of {i = }\")"
   ]
  },
  {
   "cell_type": "code",
   "execution_count": 113,
   "id": "58d16efe-f444-49c6-958e-0088b13ddace",
   "metadata": {
    "execution": {
     "iopub.execute_input": "2024-11-04T11:52:49.922294Z",
     "iopub.status.busy": "2024-11-04T11:52:49.921589Z",
     "iopub.status.idle": "2024-11-04T11:52:49.929744Z",
     "shell.execute_reply": "2024-11-04T11:52:49.927248Z",
     "shell.execute_reply.started": "2024-11-04T11:52:49.922258Z"
    }
   },
   "outputs": [],
   "source": [
    "def func(a, b, c):\n",
    "    pass"
   ]
  },
  {
   "cell_type": "code",
   "execution_count": 111,
   "id": "6a74f690-d6c6-43b0-83f2-872f34e4102d",
   "metadata": {
    "editable": true,
    "execution": {
     "iopub.execute_input": "2024-11-04T11:51:56.651959Z",
     "iopub.status.busy": "2024-11-04T11:51:56.651607Z",
     "iopub.status.idle": "2024-11-04T11:51:56.662004Z",
     "shell.execute_reply": "2024-11-04T11:51:56.661315Z",
     "shell.execute_reply.started": "2024-11-04T11:51:56.651935Z"
    },
    "slideshow": {
     "slide_type": ""
    },
    "tags": []
   },
   "outputs": [
    {
     "name": "stdout",
     "output_type": "stream",
     "text": [
      "\n",
      "\n",
      "beginning of loop 0\n",
      "end of loop 0\n",
      "\n",
      "\n",
      "beginning of loop 1\n",
      "end of loop 1\n",
      "\n",
      "\n",
      "beginning of loop 2\n",
      "end of loop 2\n",
      "\n",
      "\n",
      "beginning of loop 3\n",
      "end of loop 3\n",
      "\n",
      "\n",
      "beginning of loop 4\n",
      "end of loop 4\n",
      "final value of i = 4\n"
     ]
    }
   ],
   "source": [
    "# pass: pass won't do anything, and is usually a placeholder\n",
    "for i in range(5):\n",
    "    print(\"\\n\")\n",
    "    print(f\"beginning of loop {i}\")\n",
    "    if i == 3:\n",
    "        pass\n",
    "    print(f\"end of loop {i}\")\n",
    "print(f\"final value of {i = }\")"
   ]
  }
 ],
 "metadata": {
  "kernelspec": {
   "display_name": "Python 3 (ipykernel)",
   "language": "python",
   "name": "python3"
  },
  "language_info": {
   "codemirror_mode": {
    "name": "ipython",
    "version": 3
   },
   "file_extension": ".py",
   "mimetype": "text/x-python",
   "name": "python",
   "nbconvert_exporter": "python",
   "pygments_lexer": "ipython3",
   "version": "3.12.7"
  }
 },
 "nbformat": 4,
 "nbformat_minor": 5
}
