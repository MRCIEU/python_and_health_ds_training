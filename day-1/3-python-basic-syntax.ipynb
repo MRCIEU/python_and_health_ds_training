{
 "cells": [
  {
   "cell_type": "markdown",
   "id": "286010d3-aa96-431c-b955-b04e1cb76028",
   "metadata": {
    "editable": true,
    "slideshow": {
     "slide_type": ""
    },
    "tags": []
   },
   "source": [
    "# Basic python syntax\n",
    "\n",
    "We will discuss the following:\n",
    "\n",
    "- basic data types in python\n",
    "  - numericals, boolean\n",
    "  - strings\n",
    "- control flows\n",
    "  - if else\n",
    "  - for and while loops\n",
    "  - break, continue and pass"
   ]
  },
  {
   "cell_type": "markdown",
   "id": "dbfbed1a-7c99-40a6-9a62-e36d74027bf9",
   "metadata": {},
   "source": [
    "# Basics of the basics"
   ]
  },
  {
   "cell_type": "code",
   "execution_count": null,
   "id": "d0f34f92-dba8-4b56-8887-114a96375e6f",
   "metadata": {
    "editable": true,
    "slideshow": {
     "slide_type": ""
    },
    "tags": []
   },
   "outputs": [],
   "source": [
    "# This is a comment line"
   ]
  },
  {
   "cell_type": "code",
   "execution_count": null,
   "id": "dc3adef9-4bed-4dd3-a640-9bed3ac7a585",
   "metadata": {},
   "outputs": [],
   "source": [
    "# This is a variable\n",
    "# and how you assign a value to the variable\n",
    "a = 1"
   ]
  },
  {
   "cell_type": "code",
   "execution_count": null,
   "id": "b33fdc43-d849-4a54-94fe-4e1d6b97bd7b",
   "metadata": {
    "editable": true,
    "slideshow": {
     "slide_type": ""
    },
    "tags": []
   },
   "outputs": [],
   "source": [
    "# == is the equality comparator\n",
    "a = 1\n",
    "a == 2"
   ]
  },
  {
   "cell_type": "code",
   "execution_count": null,
   "id": "3880c2a3-d1ae-4e46-80a9-5ca4ebccd4dc",
   "metadata": {},
   "outputs": [],
   "source": [
    "# This is the print function\n",
    "print(a)"
   ]
  },
  {
   "cell_type": "code",
   "execution_count": null,
   "id": "2ba38ed5-d6ee-4635-8184-152425729155",
   "metadata": {},
   "outputs": [],
   "source": [
    "# Get help regarding a function\n",
    "help(print)"
   ]
  },
  {
   "cell_type": "code",
   "execution_count": null,
   "id": "212ed9ad-db78-4302-bbaa-df6855ef029a",
   "metadata": {
    "editable": true,
    "slideshow": {
     "slide_type": ""
    },
    "tags": []
   },
   "outputs": [],
   "source": [
    "# check the data type of a variable\n",
    "type(a)"
   ]
  },
  {
   "cell_type": "code",
   "execution_count": null,
   "id": "3fb92982-a9dd-4309-b358-a863432143bd",
   "metadata": {},
   "outputs": [],
   "source": [
    "# python is zero-based\n",
    "print(\"python\"[0])\n",
    "print(\"python\"[1])"
   ]
  },
  {
   "cell_type": "code",
   "execution_count": null,
   "id": "9a6a6cd6-df17-4811-9560-ea56e8ec3e40",
   "metadata": {},
   "outputs": [],
   "source": [
    "# import function from a library\n",
    "from math import log\n",
    "\n",
    "log(1, 10)"
   ]
  },
  {
   "cell_type": "code",
   "execution_count": null,
   "id": "e8297964-c704-4c30-a4e2-7ad84a990441",
   "metadata": {},
   "outputs": [],
   "source": [
    "# import a library and use a function\n",
    "import math\n",
    "\n",
    "math.ceil(3.14)"
   ]
  },
  {
   "cell_type": "markdown",
   "id": "d71f21ec-dd89-4c17-b35d-5451c0f0366d",
   "metadata": {
    "editable": true,
    "slideshow": {
     "slide_type": ""
    },
    "tags": []
   },
   "source": [
    "# Basic data types in python\n",
    "\n",
    "The following are some of the commonly used [basic data types](https://docs.python.org/3/library/stdtypes.html) in python:\n",
    "\n",
    "- numberic types\n",
    "    - `int`: integer\n",
    "    - `float`: float\n",
    "- `bool`: boolean\n",
    "- `None`: null / none type\n",
    "- `str`: string\n",
    "- container types (part 2)\n",
    "  - `list`, `tuple`, `range`\n",
    "  - `set`\n",
    "  -  `dict`"
   ]
  },
  {
   "cell_type": "markdown",
   "id": "b94527a2-3f7e-426e-9413-2eb81e463f09",
   "metadata": {},
   "source": [
    "## numerics"
   ]
  },
  {
   "cell_type": "code",
   "execution_count": null,
   "id": "3ae067d3-74ea-4b2d-99ba-2f88cdeae9e5",
   "metadata": {
    "editable": true,
    "slideshow": {
     "slide_type": ""
    },
    "tags": []
   },
   "outputs": [],
   "source": [
    "type(42)"
   ]
  },
  {
   "cell_type": "code",
   "execution_count": null,
   "id": "594696ac-cbf3-40e1-87f5-b2881ccdd315",
   "metadata": {},
   "outputs": [],
   "source": [
    "type(3.14)"
   ]
  },
  {
   "cell_type": "code",
   "execution_count": null,
   "id": "5afc0fec-1b4a-4687-bcd3-92ff35f08a1d",
   "metadata": {},
   "outputs": [],
   "source": [
    "# convert int to float\n",
    "float(42)"
   ]
  },
  {
   "cell_type": "code",
   "execution_count": null,
   "id": "62461e5f-67d7-4ca3-b48d-f25578350b08",
   "metadata": {},
   "outputs": [],
   "source": [
    "int(42.0)"
   ]
  },
  {
   "cell_type": "code",
   "execution_count": null,
   "id": "7699bcf3-bcd9-45f5-92b6-b5b0b506b0e7",
   "metadata": {},
   "outputs": [],
   "source": [
    "int(3.14)"
   ]
  },
  {
   "cell_type": "code",
   "execution_count": null,
   "id": "4a699f09-1534-4ee6-a65f-670c6efd1e81",
   "metadata": {
    "editable": true,
    "slideshow": {
     "slide_type": ""
    },
    "tags": []
   },
   "outputs": [],
   "source": [
    "# use separator in numerics\n",
    "1_000_000"
   ]
  },
  {
   "cell_type": "code",
   "execution_count": null,
   "id": "4ef20846-de92-49c4-8888-483543b98e6a",
   "metadata": {
    "editable": true,
    "slideshow": {
     "slide_type": ""
    },
    "tags": []
   },
   "outputs": [],
   "source": [
    "# use separator in numerics\n",
    "1_000_003.141_592_653"
   ]
  },
  {
   "cell_type": "code",
   "execution_count": null,
   "id": "1806997a-37b7-479e-9e00-b11af5c586bf",
   "metadata": {},
   "outputs": [],
   "source": [
    "1 + 2"
   ]
  },
  {
   "cell_type": "code",
   "execution_count": null,
   "id": "21494fdd-fb12-4b10-ac24-2d682f6fc5aa",
   "metadata": {},
   "outputs": [],
   "source": [
    "1 * 2"
   ]
  },
  {
   "cell_type": "code",
   "execution_count": null,
   "id": "f56509c7-a77a-4c57-a308-b1de52a747af",
   "metadata": {
    "editable": true,
    "slideshow": {
     "slide_type": ""
    },
    "tags": []
   },
   "outputs": [],
   "source": [
    "1 / 2"
   ]
  },
  {
   "cell_type": "markdown",
   "id": "7fa2fc46-6629-475e-a046-1ebec61b85d4",
   "metadata": {},
   "source": [
    "## boolean\n",
    "\n",
    "`True` and `False`"
   ]
  },
  {
   "cell_type": "code",
   "execution_count": null,
   "id": "c7c07755-6f35-4c59-bbf7-b059ff156ae8",
   "metadata": {},
   "outputs": [],
   "source": [
    "isinstance(3.14, float)"
   ]
  },
  {
   "cell_type": "code",
   "execution_count": null,
   "id": "0fbd5699-da8d-4070-b1c6-e1c84bf06302",
   "metadata": {},
   "outputs": [],
   "source": [
    "a = False\n",
    "a is False"
   ]
  },
  {
   "cell_type": "code",
   "execution_count": null,
   "id": "24f50187-1bc9-4bdc-b06f-60f638063fa8",
   "metadata": {},
   "outputs": [],
   "source": [
    "True or False"
   ]
  },
  {
   "cell_type": "code",
   "execution_count": null,
   "id": "5155e2dc-dd57-475c-b7ec-74c5919d28c0",
   "metadata": {},
   "outputs": [],
   "source": [
    "True and False"
   ]
  },
  {
   "cell_type": "code",
   "execution_count": null,
   "id": "9b34e5c8-49a4-42ea-b58c-9eb9b5ff4831",
   "metadata": {
    "editable": true,
    "slideshow": {
     "slide_type": ""
    },
    "tags": []
   },
   "outputs": [],
   "source": [
    "not True"
   ]
  },
  {
   "cell_type": "code",
   "execution_count": null,
   "id": "62b06306-b2dc-4a6d-9342-90ef25adaa54",
   "metadata": {},
   "outputs": [],
   "source": [
    "sum(\n",
    "    [\n",
    "        True, \n",
    "        False, \n",
    "        False\n",
    "    ]\n",
    ")"
   ]
  },
  {
   "cell_type": "markdown",
   "id": "eae687cf-87a4-4743-b157-b6da8658498d",
   "metadata": {
    "editable": true,
    "slideshow": {
     "slide_type": ""
    },
    "tags": []
   },
   "source": [
    "## strings"
   ]
  },
  {
   "cell_type": "markdown",
   "id": "0c32bc19-2199-42ab-8e5a-12ac2e1cd085",
   "metadata": {
    "editable": true,
    "slideshow": {
     "slide_type": ""
    },
    "tags": []
   },
   "source": [
    "In python, a string is wrapped by either single quotes (e.g. `'foobar'`)\n",
    "or double quotes (`\"foobar\"`)."
   ]
  },
  {
   "cell_type": "markdown",
   "id": "f390cd3c-e0a2-458a-b000-adb3205e7130",
   "metadata": {},
   "source": [
    "### string basics"
   ]
  },
  {
   "cell_type": "code",
   "execution_count": null,
   "id": "bda65c20-2dc3-4482-8164-727a3445ce3b",
   "metadata": {},
   "outputs": [],
   "source": [
    "isinstance(\"foo\", str)"
   ]
  },
  {
   "cell_type": "code",
   "execution_count": null,
   "id": "5272d09d-efe2-4683-81c6-accc5cb713f2",
   "metadata": {
    "editable": true,
    "slideshow": {
     "slide_type": ""
    },
    "tags": []
   },
   "outputs": [],
   "source": [
    "# substring\n",
    "\"foobar\"[:3]"
   ]
  },
  {
   "cell_type": "code",
   "execution_count": null,
   "id": "8135eb1e-ba0a-45b5-8c4e-13e44bab2b00",
   "metadata": {},
   "outputs": [],
   "source": [
    "# substring membership\n",
    "\"foo\" in \"foobar\""
   ]
  },
  {
   "cell_type": "code",
   "execution_count": null,
   "id": "a3c0a4b6-5c75-4c3f-855c-fa2c93a4ea4e",
   "metadata": {},
   "outputs": [],
   "source": [
    "# multi-line string\n",
    "multi_line_str = \"\"\"\n",
    "A quick fox\n",
    "jumps over the lazy dog\n",
    "\"\"\"\n",
    "multi_line_str"
   ]
  },
  {
   "cell_type": "code",
   "execution_count": null,
   "id": "4ecece1a-bcb4-4509-a184-b2bed38373a0",
   "metadata": {},
   "outputs": [],
   "source": [
    "# multi-line string\n",
    "\"\"\"A quick fox\n",
    "jumps over the lazy dog\"\"\""
   ]
  },
  {
   "cell_type": "code",
   "execution_count": null,
   "id": "690b8fc5-104b-4d1a-9a28-d5cc267a798e",
   "metadata": {},
   "outputs": [],
   "source": [
    "# \"\\n\" is the character for line breaks\n",
    "\"hello\\nworld\""
   ]
  },
  {
   "cell_type": "code",
   "execution_count": null,
   "id": "16ae21af-7060-43ee-ae89-15152b1cc4d0",
   "metadata": {},
   "outputs": [],
   "source": [
    "print(\"hello\\nworld\")"
   ]
  },
  {
   "cell_type": "code",
   "execution_count": null,
   "id": "2058d6c4-6fc9-482b-a0db-eadaf4b60ceb",
   "metadata": {},
   "outputs": [],
   "source": [
    "# what happens if you need to keep the special characters when printing?\n",
    "\n",
    "# This is called \"escaping\" a character, \n",
    "# by adding a \"\\\" in front of the char to escape\n",
    "print(\"hello\\\\nworld\")"
   ]
  },
  {
   "cell_type": "code",
   "execution_count": null,
   "id": "f2ed9c1a-40fd-4bd8-8485-f07876c1fc54",
   "metadata": {},
   "outputs": [],
   "source": [
    "# Mixing quotes\n",
    "print(\"They're fine.\")"
   ]
  },
  {
   "cell_type": "code",
   "execution_count": null,
   "id": "6e614bde-39ff-4c58-bcb2-2d087ed11fc8",
   "metadata": {
    "editable": true,
    "slideshow": {
     "slide_type": ""
    },
    "tags": []
   },
   "outputs": [],
   "source": [
    "# Escaping quotes\n",
    "print('They\\'re fine.')"
   ]
  },
  {
   "cell_type": "code",
   "execution_count": null,
   "id": "e6cd8fca-d660-4be3-be5e-d8d068ddb5e7",
   "metadata": {
    "editable": true,
    "slideshow": {
     "slide_type": ""
    },
    "tags": []
   },
   "outputs": [],
   "source": [
    "# concatenation\n",
    "\"hello\" + \",\" + \"\\n\" + \"world!\""
   ]
  },
  {
   "cell_type": "code",
   "execution_count": null,
   "id": "3d51e1ee-1c8b-49c2-bca0-d78d308c0865",
   "metadata": {
    "editable": true,
    "slideshow": {
     "slide_type": ""
    },
    "tags": []
   },
   "outputs": [],
   "source": [
    "# multiplication\n",
    "print(\n",
    "    \"hello\\n\" * 4\n",
    ")"
   ]
  },
  {
   "cell_type": "code",
   "execution_count": null,
   "id": "9ce93270-1fd2-4aea-8574-2c755d1fa239",
   "metadata": {},
   "outputs": [],
   "source": [
    "# strip leading and trailing whitespace from strings\n",
    "multi_line_str = \"\"\"\n",
    "A quick fox\n",
    "jumps over the lazy dog\n",
    "\"\"\"\n",
    "multi_line_str.strip()"
   ]
  },
  {
   "cell_type": "code",
   "execution_count": null,
   "id": "2782391b-f729-4ab3-970a-192ee54d1b12",
   "metadata": {},
   "outputs": [],
   "source": [
    "# join strings\n",
    "foo = \"\\n\".join([\"a\", \"b\", \"c\", \"d\"])\n",
    "print(foo)"
   ]
  },
  {
   "cell_type": "code",
   "execution_count": null,
   "id": "58773638-a4bb-4191-999d-2ca1b0ab204d",
   "metadata": {},
   "outputs": [],
   "source": [
    "foo.split(\"\\n\")"
   ]
  },
  {
   "cell_type": "markdown",
   "id": "3dfc0895-da9c-46a2-9ccb-29675517b086",
   "metadata": {},
   "source": [
    "### Formatting strings\n",
    "\n",
    "There are a couple of methods in python to format strings:\n",
    "- the `%` operator and the `.format` method\n",
    "- the f-strings"
   ]
  },
  {
   "cell_type": "code",
   "execution_count": null,
   "id": "b648805b-cd43-445b-88b9-0147fe34c6dc",
   "metadata": {},
   "outputs": [],
   "source": [
    "# the variable placeholder is represented by the %s symbol in the string\n",
    "a = \"bar\"\n",
    "\"foo%s\" % a"
   ]
  },
  {
   "cell_type": "code",
   "execution_count": null,
   "id": "685c2109-3eb2-4a8f-8a8d-2e7ab1bc805c",
   "metadata": {},
   "outputs": [],
   "source": [
    "# format: simple version\n",
    "\"a={}, b={}\".format(1, 2)"
   ]
  },
  {
   "cell_type": "code",
   "execution_count": null,
   "id": "9b317d99-99ec-4a37-90e2-11aab2eae7ef",
   "metadata": {},
   "outputs": [],
   "source": [
    "# format: simple version\n",
    "\"a={1}, b={0}\".format(1, 2)"
   ]
  },
  {
   "cell_type": "code",
   "execution_count": null,
   "id": "fa91df33-d703-412c-b87a-3fc6d1ec44a6",
   "metadata": {},
   "outputs": [],
   "source": [
    "# format: variable interpolation\n",
    "\"a={a}, b={b}\".format(a=1, b=2)"
   ]
  },
  {
   "cell_type": "code",
   "execution_count": null,
   "id": "e00b7623-3633-49cd-9169-03ee67a9673a",
   "metadata": {},
   "outputs": [],
   "source": [
    "# float format\n",
    "\"value of pi: {pi:.2f}\".format(pi=3.141592653)"
   ]
  },
  {
   "cell_type": "code",
   "execution_count": null,
   "id": "25493077-71b4-47c7-bf44-d73938c69216",
   "metadata": {},
   "outputs": [],
   "source": [
    "# float format\n",
    "\"{:,}\".format(1_000_000)"
   ]
  },
  {
   "cell_type": "code",
   "execution_count": null,
   "id": "f81b8060-299d-4d1a-9a82-b033632ec150",
   "metadata": {
    "editable": true,
    "slideshow": {
     "slide_type": ""
    },
    "tags": []
   },
   "outputs": [],
   "source": [
    "# float format\n",
    "\"{:_}\".format(1_000_000)"
   ]
  },
  {
   "cell_type": "markdown",
   "id": "0a5f6279-2fb1-4a33-9372-a41b22ad0dd6",
   "metadata": {},
   "source": [
    "### f-strings\n",
    "\n",
    "f-strings is a new (python 3.6+) way to format strings as it is more convenient to write."
   ]
  },
  {
   "cell_type": "code",
   "execution_count": null,
   "id": "c4f54c6b-ca5f-427a-9e15-a8062d572070",
   "metadata": {},
   "outputs": [],
   "source": [
    "# f-string\n",
    "a = 1\n",
    "b = 2\n",
    "\n",
    "f\"a={a}, b={b}\""
   ]
  },
  {
   "cell_type": "code",
   "execution_count": null,
   "id": "af47c177-dde2-41e5-aff4-c385e04f2994",
   "metadata": {},
   "outputs": [],
   "source": [
    "big_num = 1_000_000\n",
    "\n",
    "f\"big_num: {big_num:,}\""
   ]
  },
  {
   "cell_type": "code",
   "execution_count": null,
   "id": "70d79081-a958-4821-9809-9b3183af8b3b",
   "metadata": {
    "editable": true,
    "slideshow": {
     "slide_type": ""
    },
    "tags": []
   },
   "outputs": [],
   "source": [
    "big_num = 1_000_003.141_592_653\n",
    "\n",
    "f\"big_num: {big_num:,.4f}\""
   ]
  },
  {
   "cell_type": "code",
   "execution_count": null,
   "id": "c0deb47d-a18e-47eb-a5bb-092d403ca4ff",
   "metadata": {},
   "outputs": [],
   "source": [
    "a = 1\n",
    "f\"interpret result in an f-string {a + 1}\""
   ]
  },
  {
   "cell_type": "code",
   "execution_count": null,
   "id": "d5d605e3-8be6-4142-8dfd-90701c3194e4",
   "metadata": {},
   "outputs": [],
   "source": [
    "# self document the name and value of the variable\n",
    "a = 1\n",
    "f\"value of {a = }\""
   ]
  },
  {
   "cell_type": "markdown",
   "id": "70fb0a35-1cdc-49fe-a0ac-5a574b5b4a83",
   "metadata": {
    "editable": true,
    "slideshow": {
     "slide_type": ""
    },
    "tags": []
   },
   "source": [
    "# Control flows\n",
    "\n",
    "- if else\n",
    "- for loop\n",
    "- while loop\n",
    "- the `break`, `continue`, `pass` statements"
   ]
  },
  {
   "cell_type": "code",
   "execution_count": null,
   "id": "d2935435-62d7-4471-9ee3-47f13726cb33",
   "metadata": {
    "editable": true,
    "slideshow": {
     "slide_type": ""
    },
    "tags": []
   },
   "outputs": [],
   "source": [
    "# if\n",
    "a = 1\n",
    "if (a <= 1):\n",
    "    print(\"if\")"
   ]
  },
  {
   "cell_type": "code",
   "execution_count": null,
   "id": "786a15e7-dcc5-4c7c-a7b4-bb3a5374a044",
   "metadata": {},
   "outputs": [],
   "source": [
    "# if else conditionals\n",
    "\n",
    "a = 1\n",
    "if (a > 1):\n",
    "    print(\"if\")\n",
    "else:\n",
    "    print(\"else\")"
   ]
  },
  {
   "cell_type": "code",
   "execution_count": null,
   "id": "30569271-2258-405d-b10a-d8c0616621fb",
   "metadata": {
    "editable": true,
    "slideshow": {
     "slide_type": ""
    },
    "tags": []
   },
   "outputs": [],
   "source": [
    "# for loop\n",
    "for i in range(5):\n",
    "    print(i)"
   ]
  },
  {
   "cell_type": "code",
   "execution_count": null,
   "id": "3973f4f6-6c7d-4e65-9393-b779f99e267f",
   "metadata": {},
   "outputs": [],
   "source": [
    "# while loop\n",
    "i = 0\n",
    "limit = 5\n",
    "while i <= limit:\n",
    "    print(i)\n",
    "    i = i+1"
   ]
  },
  {
   "cell_type": "code",
   "execution_count": null,
   "id": "d92dc1d3-f62c-4a32-9152-7127bf36b8c1",
   "metadata": {},
   "outputs": [],
   "source": [
    "# break: break will stop further execution of the loop\n",
    "for i in range(5):\n",
    "    print(i)\n",
    "    if i >= 3:\n",
    "        break\n",
    "print(f\"final value of {i = }\")"
   ]
  },
  {
   "cell_type": "code",
   "execution_count": null,
   "id": "28e6af54-c147-48ae-bc1e-c5265de56d22",
   "metadata": {
    "editable": true,
    "slideshow": {
     "slide_type": ""
    },
    "tags": []
   },
   "outputs": [],
   "source": [
    "# break: break will stop further execution of the loop\n",
    "for i in range(5):\n",
    "    print(\"\\n\")\n",
    "    print(f\"beginning of loop {i}\")\n",
    "    if i == 3:\n",
    "        continue\n",
    "    print(f\"end of loop {i}\")\n",
    "print(f\"final value of {i = }\")"
   ]
  },
  {
   "cell_type": "code",
   "execution_count": null,
   "id": "6a74f690-d6c6-43b0-83f2-872f34e4102d",
   "metadata": {
    "editable": true,
    "slideshow": {
     "slide_type": ""
    },
    "tags": []
   },
   "outputs": [],
   "source": [
    "# pass: pass won't do anything, and is usually a placeholder\n",
    "for i in range(5):\n",
    "    print(\"\\n\")\n",
    "    print(f\"beginning of loop {i}\")\n",
    "    if i == 3:\n",
    "        pass\n",
    "    print(f\"end of loop {i}\")\n",
    "print(f\"final value of {i = }\")"
   ]
  }
 ],
 "metadata": {
  "kernelspec": {
   "display_name": "Python 3 (ipykernel)",
   "language": "python",
   "name": "python3"
  },
  "language_info": {
   "codemirror_mode": {
    "name": "ipython",
    "version": 3
   },
   "file_extension": ".py",
   "mimetype": "text/x-python",
   "name": "python",
   "nbconvert_exporter": "python",
   "pygments_lexer": "ipython3",
   "version": "3.12.7"
  }
 },
 "nbformat": 4,
 "nbformat_minor": 5
}
