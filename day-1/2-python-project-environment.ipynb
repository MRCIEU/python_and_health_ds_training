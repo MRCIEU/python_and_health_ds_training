{
 "cells": [
  {
   "cell_type": "markdown",
   "id": "286010d3-aa96-431c-b955-b04e1cb76028",
   "metadata": {
    "editable": true,
    "slideshow": {
     "slide_type": ""
    },
    "tags": []
   },
   "source": [
    "# Setting up the project environment for working with python"
   ]
  },
  {
   "cell_type": "markdown",
   "id": "fe0bd895-7587-4373-b679-ea0f530327e7",
   "metadata": {
    "editable": true,
    "slideshow": {
     "slide_type": ""
    },
    "tags": []
   },
   "source": [
    "If you have followed the pre-course set up installation successfully, \n",
    "you should be using a jupyter notebook session inside a conda environment called \"python-training\".\n",
    "\n",
    "We will discuss the following:\n",
    "- The conda virtual environment\n",
    "- The jupyter notebook platform"
   ]
  },
  {
   "cell_type": "markdown",
   "id": "97e756a1-8cc2-49a1-b30f-048fb11e6fb7",
   "metadata": {},
   "source": [
    "# conda"
   ]
  },
  {
   "cell_type": "markdown",
   "id": "859391e9-0379-4f37-9ddd-e996ddc61500",
   "metadata": {},
   "source": [
    "## On virtual environments"
   ]
  },
  {
   "cell_type": "markdown",
   "id": "2941cdd5-16be-4ee3-8b00-80cada5f79c1",
   "metadata": {
    "editable": true,
    "slideshow": {
     "slide_type": ""
    },
    "tags": []
   },
   "source": [
    "What is a virtual environment?\n",
    "\n",
    "Do not let the \"virtual\" word scare you -- a virtual environment is not a virtual machine.\n",
    "\n",
    "At a **conceptional** level, a virtual environment is a mechanism to \"containerise\" the important software and packages that a project depends on --\n",
    "i.e. the project's dependencies."
   ]
  },
  {
   "cell_type": "markdown",
   "id": "cfd85a80-9102-4d97-b7cd-e0bcb39a477b",
   "metadata": {
    "editable": true,
    "slideshow": {
     "slide_type": ""
    },
    "tags": []
   },
   "source": [
    "Why do you need a virtual environment?\n",
    "\n",
    "The main reason is not to mess up the dependencies of multiple projects. \n",
    "The code you write for one of your projects is based on a specific version of software or library, and these software and library could change across different versions.\n",
    "So you should be mindful of the dependencies of your project, and careful about softare updates.\n",
    "\n",
    "Consider the following scenarios:\n",
    "- One of your research projects requires `R 3.2` and another requires `R 4.4`.\n",
    "- For one of your projects, you need a library that requires `python 2.8`. In another project, you need a library that requires `python 3.12`.\n",
    "- Your operating system (e.g. a MacOs) comes with `python 3.9`.\n",
    "- You need to resume working on a project after 6 months time, by when software packages in your system has been updated a couple of times.\n",
    "- You need to work on the project in another computer (e.g. the university HPC).\n",
    "\n",
    "You need a mechanism that can control and reproduce the working environment of your project, as consistent as possible."
   ]
  },
  {
   "cell_type": "markdown",
   "id": "ad8ff85e-e0d8-452c-8c40-b931819d27f5",
   "metadata": {},
   "source": [
    "There is a separate consideration for the need of virtual environment in python.\n",
    "\n",
    "It is very important to use a virtual environment in python, because we do not want to mess up with the python pre-installed in your operating system.\n",
    "Some of the system utilities depend of the system's python and so we want to leave this python alone."
   ]
  },
  {
   "cell_type": "code",
   "execution_count": null,
   "id": "9304d5bc-6b92-4ef8-8762-bef28ba57509",
   "metadata": {
    "editable": true,
    "slideshow": {
     "slide_type": ""
    },
    "tags": []
   },
   "outputs": [],
   "source": [
    "# bash only\n",
    "!which python"
   ]
  },
  {
   "cell_type": "code",
   "execution_count": null,
   "id": "55e23624-5343-4e63-b89b-36a8c05f1c8c",
   "metadata": {
    "editable": true,
    "slideshow": {
     "slide_type": ""
    },
    "tags": []
   },
   "outputs": [],
   "source": [
    "# this is bash only \n",
    "# you should expect at least two pythons, a system python and a project specific python\n",
    "!whereis python3"
   ]
  },
  {
   "cell_type": "markdown",
   "id": "2dc7c8fe-0e47-4e90-831e-2eeff61abf25",
   "metadata": {
    "editable": true,
    "slideshow": {
     "slide_type": ""
    },
    "tags": []
   },
   "source": [
    "For python related projects, the virtual environment can be implemented by two main approaches:\n",
    "- virtual environment mechanisms specific to python -- we will not cover them, but it is good to know they exist\n",
    "  - by using the builtin method `venv`\n",
    "  - third party tools such as `poetry`\n",
    "  - for more about python virtual environments read https://realpython.com/python-virtual-environments-a-primer\n",
    "- **`conda`**"
   ]
  },
  {
   "cell_type": "markdown",
   "id": "b4adcf9a-2265-4350-8002-6ef810e11548",
   "metadata": {
    "execution": {
     "iopub.execute_input": "2024-11-03T15:51:23.804166Z",
     "iopub.status.busy": "2024-11-03T15:51:23.803333Z",
     "iopub.status.idle": "2024-11-03T15:51:23.830095Z",
     "shell.execute_reply": "2024-11-03T15:51:23.817661Z",
     "shell.execute_reply.started": "2024-11-03T15:51:23.804130Z"
    }
   },
   "source": [
    "## using conda"
   ]
  },
  {
   "cell_type": "markdown",
   "id": "1a586e4f-2d4c-44ea-9f70-c8018bdd9c79",
   "metadata": {
    "editable": true,
    "slideshow": {
     "slide_type": ""
    },
    "tags": []
   },
   "source": [
    "Demo:\n",
    "- conda activate\n",
    "- conda deactivate\n",
    "- conda list\n",
    "\n",
    "The above is just the bare minimum to get you started working on the course.\n",
    "conda is a very important tool so please check out further tutorials about conda environments."
   ]
  },
  {
   "cell_type": "code",
   "execution_count": null,
   "id": "4f9a6c08-7932-4a9b-9171-d31494e570a3",
   "metadata": {
    "scrolled": true
   },
   "outputs": [],
   "source": [
    "# check if a package has been installed\n",
    "!conda list"
   ]
  },
  {
   "cell_type": "code",
   "execution_count": null,
   "id": "d731076a-1376-4d90-95ab-569174b25050",
   "metadata": {
    "editable": true,
    "slideshow": {
     "slide_type": ""
    },
    "tags": []
   },
   "outputs": [],
   "source": [
    "# we can also list packages installed by pip\n",
    "!pip list"
   ]
  },
  {
   "cell_type": "code",
   "execution_count": null,
   "id": "744e36c0-ad8f-4240-a4ed-705b977475c6",
   "metadata": {},
   "outputs": [],
   "source": [
    "# bash only\n",
    "!cat ../environment.yml"
   ]
  },
  {
   "cell_type": "markdown",
   "id": "a1f98002-a63a-4675-841c-71ef5173a4d2",
   "metadata": {
    "editable": true,
    "slideshow": {
     "slide_type": ""
    },
    "tags": []
   },
   "source": [
    "# jupyter"
   ]
  },
  {
   "cell_type": "markdown",
   "id": "dc9c7688-5859-405d-90c0-e7886a6e6786",
   "metadata": {
    "editable": true,
    "jp-MarkdownHeadingCollapsed": true,
    "slideshow": {
     "slide_type": ""
    },
    "tags": []
   },
   "source": [
    "## Using jupyter notebook\n",
    "Demo:\n",
    "\n",
    "- working in cells\n",
    "- running cells\n",
    "- jupyter ipython console\n",
    "- terminal\n",
    "- use jupyter as the text editor"
   ]
  },
  {
   "cell_type": "markdown",
   "id": "f0bc1d24-8974-420a-a7b2-0fc89d814f79",
   "metadata": {
    "execution": {
     "iopub.execute_input": "2024-11-03T15:21:56.179072Z",
     "iopub.status.busy": "2024-11-03T15:21:56.177346Z",
     "iopub.status.idle": "2024-11-03T15:21:56.199015Z",
     "shell.execute_reply": "2024-11-03T15:21:56.197163Z",
     "shell.execute_reply.started": "2024-11-03T15:21:56.178990Z"
    }
   },
   "source": [
    "## jupyter magics\n",
    "\n",
    "A few useful jupyter notebook tricks\n",
    "\n",
    "- `%%time`: check the time it takes to run a code cell\n",
    "  - not to be confused with `%%timeit`: time profiling of the code cell\n",
    "- `!` and `%%bash`: run bash commands"
   ]
  },
  {
   "cell_type": "code",
   "execution_count": null,
   "id": "f2ee2989-72d7-4c88-91d6-dd333b358040",
   "metadata": {},
   "outputs": [],
   "source": [
    "%%time\n",
    "from time import sleep\n",
    "for i in range(4):\n",
    "    sleep(1)\n",
    "    print(i)"
   ]
  },
  {
   "cell_type": "code",
   "execution_count": null,
   "id": "eaf3d670-9f90-44a4-be1c-af8f8512711d",
   "metadata": {},
   "outputs": [],
   "source": [
    "# a bash code cell\n",
    "!pwd"
   ]
  },
  {
   "cell_type": "code",
   "execution_count": null,
   "id": "29b42d9c-9f53-4a29-86fb-ec247cde6d68",
   "metadata": {
    "editable": true,
    "slideshow": {
     "slide_type": ""
    },
    "tags": []
   },
   "outputs": [],
   "source": [
    "%%bash\n",
    "# a bash code shell\n",
    "sleep 2\n",
    "echo \"slept for 2 seconds\""
   ]
  }
 ],
 "metadata": {
  "kernelspec": {
   "display_name": "Python 3 (ipykernel)",
   "language": "python",
   "name": "python3"
  },
  "language_info": {
   "codemirror_mode": {
    "name": "ipython",
    "version": 3
   },
   "file_extension": ".py",
   "mimetype": "text/x-python",
   "name": "python",
   "nbconvert_exporter": "python",
   "pygments_lexer": "ipython3",
   "version": "3.12.7"
  }
 },
 "nbformat": 4,
 "nbformat_minor": 5
}
