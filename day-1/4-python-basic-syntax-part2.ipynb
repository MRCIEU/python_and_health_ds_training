{
 "cells": [
  {
   "cell_type": "markdown",
   "id": "f1728666-e826-499d-85d4-491605dd5b9b",
   "metadata": {
    "editable": true,
    "slideshow": {
     "slide_type": ""
    },
    "tags": []
   },
   "source": [
    "# Python basic syntax, part 2"
   ]
  },
  {
   "cell_type": "markdown",
   "id": "286010d3-aa96-431c-b955-b04e1cb76028",
   "metadata": {
    "editable": true,
    "slideshow": {
     "slide_type": ""
    },
    "tags": []
   },
   "source": [
    "We will discuss the following\n",
    "\n",
    "- container types\n",
    "- iterations\n",
    "- functions\n",
    "- scripts"
   ]
  },
  {
   "cell_type": "markdown",
   "id": "a30cadf7-1a5f-410b-8f26-9e3897295680",
   "metadata": {},
   "source": [
    "# Basics of the basics, part 2"
   ]
  },
  {
   "cell_type": "markdown",
   "id": "50b63175-173f-4ea2-9785-4158f2de4bc3",
   "metadata": {
    "editable": true,
    "slideshow": {
     "slide_type": ""
    },
    "tags": []
   },
   "source": [
    "## Naming conventions\n",
    "\n",
    "- variable `foo_bar`\n",
    "- class `FooBar`\n",
    "- script `foo_bar.py`"
   ]
  },
  {
   "cell_type": "markdown",
   "id": "7949ce7e-96d2-45dc-a4a5-4118dfd7564d",
   "metadata": {
    "editable": true,
    "slideshow": {
     "slide_type": ""
    },
    "tags": []
   },
   "source": [
    "# Container data types\n",
    "\n",
    "- **`list` and `tuple`**\n",
    "- `range`\n",
    "- `set`\n",
    "- **`dict`**"
   ]
  },
  {
   "cell_type": "markdown",
   "id": "cf9ab9ac-291e-4c82-9e54-4b0e56042d89",
   "metadata": {
    "editable": true,
    "execution": {
     "iopub.execute_input": "2024-11-03T22:36:04.669871Z",
     "iopub.status.busy": "2024-11-03T22:36:04.669090Z",
     "iopub.status.idle": "2024-11-03T22:36:04.684723Z",
     "shell.execute_reply": "2024-11-03T22:36:04.678719Z",
     "shell.execute_reply.started": "2024-11-03T22:36:04.669798Z"
    },
    "slideshow": {
     "slide_type": ""
    },
    "tags": []
   },
   "source": [
    "## lists and tuples\n",
    "\n",
    "In python, lists and tuples are both ordered arrays.\n",
    "\n",
    "Lists are represented as `[ ]`.\n",
    "\n",
    "Tuples are represented as `( )`.\n",
    "\n",
    "The main difference is that list is **mutable** and tuple is not mutable.\n",
    "Since tuple is not mutable, its memory and compute cost is less than a list."
   ]
  },
  {
   "cell_type": "code",
   "execution_count": null,
   "id": "2184c3c8-de53-4c3d-8989-c2c83f75e13f",
   "metadata": {
    "editable": true,
    "slideshow": {
     "slide_type": ""
    },
    "tags": []
   },
   "outputs": [],
   "source": [
    "foo = [1, 2, 3, 4, \"5\", None]\n",
    "bar = (1, 2, 3, 4 , \"5\", None)\n",
    "print(foo)\n",
    "print(bar)"
   ]
  },
  {
   "cell_type": "code",
   "execution_count": null,
   "id": "73dc9477-c322-49b8-a9dd-9f89f4a3f3ce",
   "metadata": {},
   "outputs": [],
   "source": [
    "# check the length of a list\n",
    "len(foo)"
   ]
  },
  {
   "cell_type": "code",
   "execution_count": null,
   "id": "3ab0f290-7ede-4ff9-b475-089502b28ef1",
   "metadata": {},
   "outputs": [],
   "source": [
    "# use list in a loop\n",
    "for i in foo:\n",
    "    print(i)"
   ]
  },
  {
   "cell_type": "code",
   "execution_count": null,
   "id": "ee794a54-3a48-4907-821c-265f3c675eff",
   "metadata": {},
   "outputs": [],
   "source": [
    "list(range(5))"
   ]
  },
  {
   "cell_type": "code",
   "execution_count": null,
   "id": "ec3a6837-6e79-4aca-b5f5-1a671a71e6a8",
   "metadata": {},
   "outputs": [],
   "source": [
    "tuple(range(5))"
   ]
  },
  {
   "cell_type": "markdown",
   "id": "38cdfd8b-07f5-490a-8863-a79611334533",
   "metadata": {},
   "source": [
    "### indexing and slicing\n",
    "\n",
    "- python uses zero-based indexing (starts from 0)\n",
    "- `[n:m]` will retrieve `m-n` items from the `(n+1)-th` item to the `m-th` item\n",
    "  - e.g. `[0:3]` will retrieve `3` items from the `1st` item to the `3rd` item\n",
    "  - `[1:4]` will retrieve `3` items from the `2nd` item to the `4th` item\n",
    "  - `[2:6]` will retrieve `4` items from the `3rd` item to the `6th` item"
   ]
  },
  {
   "cell_type": "code",
   "execution_count": null,
   "id": "dab7c675-72d9-4414-b208-49b035141f80",
   "metadata": {},
   "outputs": [],
   "source": [
    "a = [0, 1, 2, 3, 4, 5, 6]\n",
    "print(a[0:3])\n",
    "print(a[1:4])\n",
    "print(a[2:5])\n",
    "print(a[2:6])"
   ]
  },
  {
   "cell_type": "code",
   "execution_count": null,
   "id": "ae0b1d87-1a82-4e8a-8a05-86f90f17fee0",
   "metadata": {},
   "outputs": [],
   "source": [
    "[0, 1, 2, 3, 4, 5][1:4]"
   ]
  },
  {
   "cell_type": "code",
   "execution_count": null,
   "id": "dc721950-a88b-49f2-9adb-6bfcdba1b8c9",
   "metadata": {},
   "outputs": [],
   "source": [
    "foo[0]"
   ]
  },
  {
   "cell_type": "code",
   "execution_count": null,
   "id": "5615f42b-58be-4099-8ebc-2ba45e466483",
   "metadata": {},
   "outputs": [],
   "source": [
    "bar[2]"
   ]
  },
  {
   "cell_type": "code",
   "execution_count": null,
   "id": "efb3036b-42b3-44d8-8ced-ff9a64ce6dfb",
   "metadata": {},
   "outputs": [],
   "source": [
    "foo[0:2]"
   ]
  },
  {
   "cell_type": "code",
   "execution_count": null,
   "id": "fee2e8c9-06e5-45ed-a6c5-25175b7388bc",
   "metadata": {},
   "outputs": [],
   "source": [
    "foo[1:2]"
   ]
  },
  {
   "cell_type": "code",
   "execution_count": null,
   "id": "89a3bb37-4c85-42ac-acbc-8b82274eb321",
   "metadata": {},
   "outputs": [],
   "source": [
    "foo[-2]"
   ]
  },
  {
   "cell_type": "code",
   "execution_count": null,
   "id": "f07b1fbe-e38f-4296-b8e5-469e33093c4a",
   "metadata": {},
   "outputs": [],
   "source": [
    "foo[-2:-1]"
   ]
  },
  {
   "cell_type": "markdown",
   "id": "f8e3ce90-11b5-47ac-a8aa-bfcba0863563",
   "metadata": {},
   "source": [
    "### list mutations"
   ]
  },
  {
   "cell_type": "code",
   "execution_count": null,
   "id": "697b2937-f135-48c3-909f-981df9e880b5",
   "metadata": {},
   "outputs": [],
   "source": [
    "# append\n",
    "# NOTE: be very careful that the .append method\n",
    "# modifies the object in place\n",
    "# i.e. you should not write a = a.append()\n",
    "\n",
    "a = []\n",
    "for i in range(5):\n",
    "    a.append(i)\n",
    "    print(f\"{a = }\")"
   ]
  },
  {
   "cell_type": "code",
   "execution_count": null,
   "id": "8c516026-204f-4751-b205-52f9ec9171a1",
   "metadata": {},
   "outputs": [],
   "source": [
    "# extend\n",
    "\n",
    "a = [0, 1, 2, 3, 4]\n",
    "a.append([7, 8])\n",
    "a.extend([8, 9])\n",
    "print(a)"
   ]
  },
  {
   "cell_type": "markdown",
   "id": "2315a057-7f67-449a-af50-f8d1f42d3362",
   "metadata": {
    "editable": true,
    "slideshow": {
     "slide_type": ""
    },
    "tags": []
   },
   "source": [
    "### list comprehension\n",
    "\n",
    "When you need to create a list, it is likely that you need to use a loop.\n",
    "List comprehension is a more convenient way to construct a list."
   ]
  },
  {
   "cell_type": "code",
   "execution_count": null,
   "id": "730d910b-68f2-43a3-8720-ae3379e9bb3e",
   "metadata": {},
   "outputs": [],
   "source": [
    "foo = [1, 2, 3, 4, \"5\", None]\n",
    "\n",
    "bar = [\n",
    "    item \n",
    "    for item in foo\n",
    "    if isinstance(item, int)\n",
    "]\n",
    "print(bar)"
   ]
  },
  {
   "cell_type": "markdown",
   "id": "4cc4252e-b57d-4af7-9e98-77a7c17d7aa3",
   "metadata": {},
   "source": [
    "## dictionaries\n",
    "\n",
    "A dictionary consists of two things: the `keys` and the `values`.\n",
    "Dictionaries are useful when you need to access the stored value by its key."
   ]
  },
  {
   "cell_type": "code",
   "execution_count": null,
   "id": "d30d8938-2f3b-49ca-aa0b-92794efda0f4",
   "metadata": {},
   "outputs": [],
   "source": [
    "foo = {\n",
    "    \"a\": 1,\n",
    "    \"b\": 3.14,\n",
    "    \"c\": [1, 2, 3, 4]\n",
    "}"
   ]
  },
  {
   "cell_type": "code",
   "execution_count": null,
   "id": "6161e4a7-864f-47a9-ba84-12ff79116263",
   "metadata": {},
   "outputs": [],
   "source": [
    "foo[\"a\"]"
   ]
  },
  {
   "cell_type": "code",
   "execution_count": null,
   "id": "af80c5a1-cb35-4517-acb6-67263fc3db95",
   "metadata": {},
   "outputs": [],
   "source": [
    "foo[\"b\"]"
   ]
  },
  {
   "cell_type": "code",
   "execution_count": null,
   "id": "119af043-ef32-4a20-b01b-09bf5ed3629c",
   "metadata": {},
   "outputs": [],
   "source": [
    "foo.keys()"
   ]
  },
  {
   "cell_type": "code",
   "execution_count": null,
   "id": "837c090a-edcc-42fd-b851-d2957000ccce",
   "metadata": {},
   "outputs": [],
   "source": [
    "foo.values()"
   ]
  },
  {
   "cell_type": "code",
   "execution_count": null,
   "id": "d48fc72f-2444-4952-b1b7-4316df9315dd",
   "metadata": {},
   "outputs": [],
   "source": [
    "foo.items()"
   ]
  },
  {
   "cell_type": "code",
   "execution_count": null,
   "id": "44b4e7cf-d1ba-443b-9c7b-caf77eb28e8e",
   "metadata": {},
   "outputs": [],
   "source": [
    "for key, value in foo.items():\n",
    "    print(f\"{key}: {value}\")"
   ]
  },
  {
   "cell_type": "markdown",
   "id": "3af95cf1-80dd-4701-a8a7-d2887172b9cb",
   "metadata": {
    "editable": true,
    "slideshow": {
     "slide_type": ""
    },
    "tags": []
   },
   "source": [
    "# Iterations\n",
    "\n",
    "`enumerate` and `zip` are helpers for iterating over arrays."
   ]
  },
  {
   "cell_type": "code",
   "execution_count": null,
   "id": "ba6c2599-ebd0-4ec3-b957-6ecb9425620f",
   "metadata": {},
   "outputs": [],
   "source": [
    "# enumerate\n",
    "# Can also derive the iteration index when performing iteration\n",
    "\n",
    "country_codes = [\"GB\", \"FR\", \"DE\", \"US\"]\n",
    "\n",
    "for idx, item in enumerate(country_codes):\n",
    "    print(f\"{idx}, {item}\")"
   ]
  },
  {
   "cell_type": "code",
   "execution_count": null,
   "id": "a6f199cc-1581-48c7-845e-653d3a423b27",
   "metadata": {},
   "outputs": [],
   "source": [
    "# zip\n",
    "# useful when needing to iterate over multiple arrays\n",
    "\n",
    "country_codes = [\"GB\", \"FR\", \"DE\", \"US\"]\n",
    "country_names = [\"United Kingdom\", \"France\", \"Germany\", \"United States\"]\n",
    "\n",
    "for item in zip(country_codes, country_names):\n",
    "    print(item)"
   ]
  },
  {
   "cell_type": "markdown",
   "id": "a6caf7bb-2c30-46a3-9228-a6af7d415c8d",
   "metadata": {
    "editable": true,
    "slideshow": {
     "slide_type": ""
    },
    "tags": []
   },
   "source": [
    "# Functions\n",
    "\n",
    "Functions are useful to modularise your code."
   ]
  },
  {
   "cell_type": "markdown",
   "id": "d01a997a-2ca8-40c6-abdc-4e1a17a9ae95",
   "metadata": {},
   "source": [
    "## python function basics\n",
    "\n",
    "Below is an example of a function in python.\n",
    "\n",
    "NOTE: If your function needs to return a result, \n",
    "you need to have the `return` statement there.\n",
    "Otherwise the function will return None.\n",
    "\n",
    "```py\n",
    "def func(a, b):\n",
    "    return a + b\n",
    "```"
   ]
  },
  {
   "cell_type": "code",
   "execution_count": null,
   "id": "452d944f-575e-4c07-9f5d-a96e80717af6",
   "metadata": {},
   "outputs": [],
   "source": [
    "def func(a, b):\n",
    "    return a + b\n",
    "\n",
    "print(func(1, 2))\n",
    "print(func(\"foo\", \"bar\"))"
   ]
  },
  {
   "cell_type": "code",
   "execution_count": null,
   "id": "e5fd2900-d260-4344-910f-afaeecdc0119",
   "metadata": {},
   "outputs": [],
   "source": [
    "def func_none(a, b):\n",
    "    a + b\n",
    "\n",
    "print(func_none(1, 2))"
   ]
  },
  {
   "cell_type": "code",
   "execution_count": null,
   "id": "23ff8088-03a6-476e-9b53-0857a48eb1d4",
   "metadata": {},
   "outputs": [],
   "source": [
    "# default value\n",
    "def func(a, b=1):\n",
    "    return a + b\n",
    "\n",
    "print(func(1))"
   ]
  },
  {
   "cell_type": "code",
   "execution_count": null,
   "id": "01980255-b949-4c7c-a581-63fbe89416fd",
   "metadata": {},
   "outputs": [],
   "source": [
    "# default value\n",
    "def func(a=1, b=1):\n",
    "    return a + b\n",
    "\n",
    "print(func())"
   ]
  },
  {
   "cell_type": "code",
   "execution_count": null,
   "id": "8aa7f117-50ea-485c-bbdd-a2e1cb4ffbb4",
   "metadata": {},
   "outputs": [],
   "source": [
    "# docstring\n",
    "def func(a=1, b=1):\n",
    "    \"\"\"This function is for the following use \n",
    "    - Addition for numerics\n",
    "    - Concatention for strings\n",
    "\n",
    "    Input\n",
    "    - a (default 1): a number or a string\n",
    "    - b (default 1): a number or a string\n",
    "\n",
    "    a and b must both be numbers or strings at the same time.\n",
    "\n",
    "    Return\n",
    "    - addition or concatenation\n",
    "    \"\"\"\n",
    "    return a + b\n",
    "\n",
    "help(func)"
   ]
  },
  {
   "cell_type": "code",
   "execution_count": null,
   "id": "46076920-8dc2-4447-9596-5e3fde92631d",
   "metadata": {},
   "outputs": [],
   "source": [
    "help(str.strip)"
   ]
  },
  {
   "cell_type": "markdown",
   "id": "54bd69e2-5006-4438-a9b2-bb00663a98f1",
   "metadata": {},
   "source": [
    "## Anonymous functions\n",
    "\n",
    "Anonymous functions (or \"lambda functions\") is a way to create short functions without having to write the full function definition code block.\n",
    "\n",
    "lambda functions are useful in scenarios such as being as part of a workflow pipeline, e.g. in pandas."
   ]
  },
  {
   "cell_type": "code",
   "execution_count": null,
   "id": "704fd312-72a2-4c87-9750-0245e70712b4",
   "metadata": {
    "editable": true,
    "slideshow": {
     "slide_type": ""
    },
    "tags": []
   },
   "outputs": [],
   "source": [
    "foo = lambda a, b: a + b\n",
    "\n",
    "foo(1, 2)"
   ]
  },
  {
   "cell_type": "markdown",
   "id": "b32cbe50-b04a-4ad3-9a47-96af24087303",
   "metadata": {},
   "source": [
    "# scripting"
   ]
  },
  {
   "cell_type": "markdown",
   "id": "08bc25e9-ee76-43bb-b349-38ac7b039c04",
   "metadata": {
    "editable": true,
    "slideshow": {
     "slide_type": ""
    },
    "tags": []
   },
   "source": [
    "demo\n",
    "\n",
    "- how to write a python script\n",
    "- how to run the script in terminal"
   ]
  }
 ],
 "metadata": {
  "kernelspec": {
   "display_name": "Python 3 (ipykernel)",
   "language": "python",
   "name": "python3"
  },
  "language_info": {
   "codemirror_mode": {
    "name": "ipython",
    "version": 3
   },
   "file_extension": ".py",
   "mimetype": "text/x-python",
   "name": "python",
   "nbconvert_exporter": "python",
   "pygments_lexer": "ipython3",
   "version": "3.12.7"
  }
 },
 "nbformat": 4,
 "nbformat_minor": 5
}
