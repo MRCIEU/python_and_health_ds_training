{
 "cells": [
  {
   "cell_type": "markdown",
   "id": "f1728666-e826-499d-85d4-491605dd5b9b",
   "metadata": {
    "editable": true,
    "slideshow": {
     "slide_type": ""
    },
    "tags": []
   },
   "source": [
    "# Python basic syntax, part 2"
   ]
  },
  {
   "cell_type": "markdown",
   "id": "286010d3-aa96-431c-b955-b04e1cb76028",
   "metadata": {
    "editable": true,
    "slideshow": {
     "slide_type": ""
    },
    "tags": []
   },
   "source": [
    "We will discuss the following\n",
    "\n",
    "- container types\n",
    "  - list, tuple,\n",
    "  - dict\n",
    "- iterations\n",
    "  - enumerate\n",
    "  - zip\n",
    "- functions\n",
    "- scripts"
   ]
  },
  {
   "cell_type": "markdown",
   "id": "a30cadf7-1a5f-410b-8f26-9e3897295680",
   "metadata": {},
   "source": [
    "# Basics of the basics, part 2"
   ]
  },
  {
   "cell_type": "markdown",
   "id": "50b63175-173f-4ea2-9785-4158f2de4bc3",
   "metadata": {
    "editable": true,
    "slideshow": {
     "slide_type": ""
    },
    "tags": []
   },
   "source": [
    "## Naming conventions\n",
    "\n",
    "- variable `foo_bar`\n",
    "- class `FooBar`\n",
    "- script `foo_bar.py`"
   ]
  },
  {
   "cell_type": "code",
   "execution_count": 4,
   "id": "3f8840d2-7067-46ce-ac1e-d109736e9916",
   "metadata": {
    "execution": {
     "iopub.execute_input": "2024-11-04T13:06:25.694074Z",
     "iopub.status.busy": "2024-11-04T13:06:25.693611Z",
     "iopub.status.idle": "2024-11-04T13:06:25.697223Z",
     "shell.execute_reply": "2024-11-04T13:06:25.696443Z",
     "shell.execute_reply.started": "2024-11-04T13:06:25.694054Z"
    }
   },
   "outputs": [],
   "source": [
    "\"foo_bar.py\"\n",
    "\"foo-bar.py\""
   ]
  },
  {
   "cell_type": "code",
   "execution_count": null,
   "id": "b810943c-de91-434d-b539-c2662a6aabb0",
   "metadata": {},
   "outputs": [],
   "source": [
    "import func from foo_bar"
   ]
  },
  {
   "cell_type": "markdown",
   "id": "7949ce7e-96d2-45dc-a4a5-4118dfd7564d",
   "metadata": {
    "editable": true,
    "slideshow": {
     "slide_type": ""
    },
    "tags": []
   },
   "source": [
    "# Container data types\n",
    "\n",
    "- **`list` and `tuple`**\n",
    "- `range`\n",
    "- `set`\n",
    "- **`dict`**"
   ]
  },
  {
   "cell_type": "markdown",
   "id": "cf9ab9ac-291e-4c82-9e54-4b0e56042d89",
   "metadata": {
    "editable": true,
    "execution": {
     "iopub.execute_input": "2024-11-03T22:36:04.669871Z",
     "iopub.status.busy": "2024-11-03T22:36:04.669090Z",
     "iopub.status.idle": "2024-11-03T22:36:04.684723Z",
     "shell.execute_reply": "2024-11-03T22:36:04.678719Z",
     "shell.execute_reply.started": "2024-11-03T22:36:04.669798Z"
    },
    "slideshow": {
     "slide_type": ""
    },
    "tags": []
   },
   "source": [
    "## lists and tuples\n",
    "\n",
    "In python, lists and tuples are both ordered arrays.\n",
    "\n",
    "Lists are represented as `[ ]`.\n",
    "\n",
    "Tuples are represented as `( )`.\n",
    "\n",
    "The main difference is that list is **mutable** and tuple is not mutable.\n",
    "Since tuple is not mutable, its memory and compute cost is less than a list."
   ]
  },
  {
   "cell_type": "code",
   "execution_count": 5,
   "id": "2184c3c8-de53-4c3d-8989-c2c83f75e13f",
   "metadata": {
    "editable": true,
    "execution": {
     "iopub.execute_input": "2024-11-04T13:10:44.142911Z",
     "iopub.status.busy": "2024-11-04T13:10:44.142443Z",
     "iopub.status.idle": "2024-11-04T13:10:44.148120Z",
     "shell.execute_reply": "2024-11-04T13:10:44.147247Z",
     "shell.execute_reply.started": "2024-11-04T13:10:44.142875Z"
    },
    "slideshow": {
     "slide_type": ""
    },
    "tags": []
   },
   "outputs": [
    {
     "name": "stdout",
     "output_type": "stream",
     "text": [
      "[1, 2, 3, 4, '5', None]\n",
      "(1, 2, 3, 4, '5', None)\n"
     ]
    }
   ],
   "source": [
    "foo = [1, 2, 3, 4, \"5\", None]\n",
    "bar = (1, 2, 3, 4 , \"5\", None)\n",
    "print(foo)\n",
    "print(bar)"
   ]
  },
  {
   "cell_type": "code",
   "execution_count": 6,
   "id": "73dc9477-c322-49b8-a9dd-9f89f4a3f3ce",
   "metadata": {
    "execution": {
     "iopub.execute_input": "2024-11-04T13:10:54.147853Z",
     "iopub.status.busy": "2024-11-04T13:10:54.147276Z",
     "iopub.status.idle": "2024-11-04T13:10:54.165734Z",
     "shell.execute_reply": "2024-11-04T13:10:54.163283Z",
     "shell.execute_reply.started": "2024-11-04T13:10:54.147820Z"
    }
   },
   "outputs": [
    {
     "data": {
      "text/plain": [
       "6"
      ]
     },
     "execution_count": 6,
     "metadata": {},
     "output_type": "execute_result"
    }
   ],
   "source": [
    "# check the length of a list\n",
    "len(foo)"
   ]
  },
  {
   "cell_type": "code",
   "execution_count": 7,
   "id": "3ab0f290-7ede-4ff9-b475-089502b28ef1",
   "metadata": {
    "execution": {
     "iopub.execute_input": "2024-11-04T13:11:02.579992Z",
     "iopub.status.busy": "2024-11-04T13:11:02.578839Z",
     "iopub.status.idle": "2024-11-04T13:11:02.608291Z",
     "shell.execute_reply": "2024-11-04T13:11:02.593469Z",
     "shell.execute_reply.started": "2024-11-04T13:11:02.579966Z"
    }
   },
   "outputs": [
    {
     "name": "stdout",
     "output_type": "stream",
     "text": [
      "1\n",
      "2\n",
      "3\n",
      "4\n",
      "5\n",
      "None\n"
     ]
    }
   ],
   "source": [
    "# use list in a loop\n",
    "for i in foo:\n",
    "    print(i)"
   ]
  },
  {
   "cell_type": "code",
   "execution_count": 8,
   "id": "5db07a1c-70a5-4c0f-af5f-39c5dffbf67a",
   "metadata": {
    "execution": {
     "iopub.execute_input": "2024-11-04T13:11:19.059644Z",
     "iopub.status.busy": "2024-11-04T13:11:19.058662Z",
     "iopub.status.idle": "2024-11-04T13:11:19.078322Z",
     "shell.execute_reply": "2024-11-04T13:11:19.074224Z",
     "shell.execute_reply.started": "2024-11-04T13:11:19.059578Z"
    }
   },
   "outputs": [
    {
     "data": {
      "text/plain": [
       "range(0, 5)"
      ]
     },
     "execution_count": 8,
     "metadata": {},
     "output_type": "execute_result"
    }
   ],
   "source": [
    "range(5)"
   ]
  },
  {
   "cell_type": "code",
   "execution_count": 9,
   "id": "ee794a54-3a48-4907-821c-265f3c675eff",
   "metadata": {
    "execution": {
     "iopub.execute_input": "2024-11-04T13:12:05.684923Z",
     "iopub.status.busy": "2024-11-04T13:12:05.683783Z",
     "iopub.status.idle": "2024-11-04T13:12:05.716698Z",
     "shell.execute_reply": "2024-11-04T13:12:05.709824Z",
     "shell.execute_reply.started": "2024-11-04T13:12:05.684905Z"
    }
   },
   "outputs": [
    {
     "data": {
      "text/plain": [
       "[0, 1, 2, 3, 4]"
      ]
     },
     "execution_count": 9,
     "metadata": {},
     "output_type": "execute_result"
    }
   ],
   "source": [
    "list(range(5))"
   ]
  },
  {
   "cell_type": "code",
   "execution_count": 10,
   "id": "ec3a6837-6e79-4aca-b5f5-1a671a71e6a8",
   "metadata": {
    "execution": {
     "iopub.execute_input": "2024-11-04T13:12:10.315269Z",
     "iopub.status.busy": "2024-11-04T13:12:10.314433Z",
     "iopub.status.idle": "2024-11-04T13:12:10.325153Z",
     "shell.execute_reply": "2024-11-04T13:12:10.324361Z",
     "shell.execute_reply.started": "2024-11-04T13:12:10.315227Z"
    }
   },
   "outputs": [
    {
     "data": {
      "text/plain": [
       "(0, 1, 2, 3, 4)"
      ]
     },
     "execution_count": 10,
     "metadata": {},
     "output_type": "execute_result"
    }
   ],
   "source": [
    "tuple(range(5))"
   ]
  },
  {
   "cell_type": "markdown",
   "id": "38cdfd8b-07f5-490a-8863-a79611334533",
   "metadata": {},
   "source": [
    "### indexing and slicing\n",
    "\n",
    "- python uses zero-based indexing (starts from 0)\n",
    "- `[n:m]` will retrieve `m-n` items from the `(n+1)-th` item to the `m-th` item\n",
    "  - e.g. `[0:3]` will retrieve `3` items from the `1st` item to the `3rd` item\n",
    "  - `[1:4]` will retrieve `3` items from the `2nd` item to the `4th` item\n",
    "  - `[2:6]` will retrieve `4` items from the `3rd` item to the `6th` item"
   ]
  },
  {
   "cell_type": "code",
   "execution_count": 12,
   "id": "dab7c675-72d9-4414-b208-49b035141f80",
   "metadata": {
    "execution": {
     "iopub.execute_input": "2024-11-04T13:15:44.504952Z",
     "iopub.status.busy": "2024-11-04T13:15:44.503825Z",
     "iopub.status.idle": "2024-11-04T13:15:44.552623Z",
     "shell.execute_reply": "2024-11-04T13:15:44.552283Z",
     "shell.execute_reply.started": "2024-11-04T13:15:44.504889Z"
    }
   },
   "outputs": [
    {
     "data": {
      "text/plain": [
       "True"
      ]
     },
     "execution_count": 12,
     "metadata": {},
     "output_type": "execute_result"
    }
   ],
   "source": [
    "a = [\"a\", \"b\", \"c\", \"d\", \"e\", \"f\"]\n",
    "a[0:2] == [\"a\", \"b\"]"
   ]
  },
  {
   "cell_type": "code",
   "execution_count": 13,
   "id": "1e37a9ee-8ce7-412b-8ff6-083e5291539c",
   "metadata": {
    "execution": {
     "iopub.execute_input": "2024-11-04T13:17:42.958226Z",
     "iopub.status.busy": "2024-11-04T13:17:42.957328Z",
     "iopub.status.idle": "2024-11-04T13:17:42.966551Z",
     "shell.execute_reply": "2024-11-04T13:17:42.965861Z",
     "shell.execute_reply.started": "2024-11-04T13:17:42.958170Z"
    }
   },
   "outputs": [
    {
     "name": "stdout",
     "output_type": "stream",
     "text": [
      "True\n",
      "True\n",
      "True\n",
      "True\n"
     ]
    }
   ],
   "source": [
    "print(a[0:3] == [\"a\", \"b\", \"c\"])\n",
    "print(a[1:4] == [\"b\", \"c\", \"d\"])\n",
    "print(a[2:5] == [\"c\", \"d\", \"e\"])\n",
    "print(a[2:6] == [\"c\", \"d\", \"e\", \"f\"])"
   ]
  },
  {
   "cell_type": "code",
   "execution_count": 15,
   "id": "dc721950-a88b-49f2-9adb-6bfcdba1b8c9",
   "metadata": {
    "execution": {
     "iopub.execute_input": "2024-11-04T13:18:16.349892Z",
     "iopub.status.busy": "2024-11-04T13:18:16.349734Z",
     "iopub.status.idle": "2024-11-04T13:18:16.352284Z",
     "shell.execute_reply": "2024-11-04T13:18:16.352035Z",
     "shell.execute_reply.started": "2024-11-04T13:18:16.349882Z"
    }
   },
   "outputs": [
    {
     "data": {
      "text/plain": [
       "1"
      ]
     },
     "execution_count": 15,
     "metadata": {},
     "output_type": "execute_result"
    }
   ],
   "source": [
    "foo[0]"
   ]
  },
  {
   "cell_type": "code",
   "execution_count": 16,
   "id": "5615f42b-58be-4099-8ebc-2ba45e466483",
   "metadata": {
    "execution": {
     "iopub.execute_input": "2024-11-04T13:18:18.610996Z",
     "iopub.status.busy": "2024-11-04T13:18:18.610690Z",
     "iopub.status.idle": "2024-11-04T13:18:18.614869Z",
     "shell.execute_reply": "2024-11-04T13:18:18.614098Z",
     "shell.execute_reply.started": "2024-11-04T13:18:18.610979Z"
    }
   },
   "outputs": [
    {
     "data": {
      "text/plain": [
       "3"
      ]
     },
     "execution_count": 16,
     "metadata": {},
     "output_type": "execute_result"
    }
   ],
   "source": [
    "bar[2]"
   ]
  },
  {
   "cell_type": "code",
   "execution_count": null,
   "id": "efb3036b-42b3-44d8-8ced-ff9a64ce6dfb",
   "metadata": {},
   "outputs": [],
   "source": [
    "foo[0:2]"
   ]
  },
  {
   "cell_type": "code",
   "execution_count": null,
   "id": "fee2e8c9-06e5-45ed-a6c5-25175b7388bc",
   "metadata": {},
   "outputs": [],
   "source": [
    "foo[1:2]"
   ]
  },
  {
   "cell_type": "code",
   "execution_count": 17,
   "id": "89a3bb37-4c85-42ac-acbc-8b82274eb321",
   "metadata": {
    "execution": {
     "iopub.execute_input": "2024-11-04T13:18:53.642504Z",
     "iopub.status.busy": "2024-11-04T13:18:53.642043Z",
     "iopub.status.idle": "2024-11-04T13:18:53.650592Z",
     "shell.execute_reply": "2024-11-04T13:18:53.649326Z",
     "shell.execute_reply.started": "2024-11-04T13:18:53.642476Z"
    }
   },
   "outputs": [
    {
     "data": {
      "text/plain": [
       "True"
      ]
     },
     "execution_count": 17,
     "metadata": {},
     "output_type": "execute_result"
    }
   ],
   "source": [
    "a[-2] == \"e\""
   ]
  },
  {
   "cell_type": "code",
   "execution_count": 18,
   "id": "f07b1fbe-e38f-4296-b8e5-469e33093c4a",
   "metadata": {
    "execution": {
     "iopub.execute_input": "2024-11-04T13:19:00.811911Z",
     "iopub.status.busy": "2024-11-04T13:19:00.811527Z",
     "iopub.status.idle": "2024-11-04T13:19:00.819721Z",
     "shell.execute_reply": "2024-11-04T13:19:00.819113Z",
     "shell.execute_reply.started": "2024-11-04T13:19:00.811886Z"
    }
   },
   "outputs": [
    {
     "data": {
      "text/plain": [
       "['e']"
      ]
     },
     "execution_count": 18,
     "metadata": {},
     "output_type": "execute_result"
    }
   ],
   "source": [
    "a[-2:-1]"
   ]
  },
  {
   "cell_type": "markdown",
   "id": "f8e3ce90-11b5-47ac-a8aa-bfcba0863563",
   "metadata": {},
   "source": [
    "### list mutations"
   ]
  },
  {
   "cell_type": "code",
   "execution_count": 24,
   "id": "697b2937-f135-48c3-909f-981df9e880b5",
   "metadata": {
    "execution": {
     "iopub.execute_input": "2024-11-04T13:23:30.562210Z",
     "iopub.status.busy": "2024-11-04T13:23:30.561648Z",
     "iopub.status.idle": "2024-11-04T13:23:30.582911Z",
     "shell.execute_reply": "2024-11-04T13:23:30.575505Z",
     "shell.execute_reply.started": "2024-11-04T13:23:30.562167Z"
    }
   },
   "outputs": [
    {
     "name": "stdout",
     "output_type": "stream",
     "text": [
      "a = [0]\n",
      "a = [0, 1]\n",
      "a = [0, 1, 2]\n",
      "a = [0, 1, 2, 3]\n",
      "a = [0, 1, 2, 3, 4]\n"
     ]
    }
   ],
   "source": [
    "# append\n",
    "# NOTE: be very careful that the .append method\n",
    "# modifies the object in place\n",
    "# i.e. you should not write a = a.append()\n",
    "\n",
    "a = []\n",
    "\n",
    "for i in range(5):\n",
    "    a.append(i)\n",
    "    print(f\"{a = }\")"
   ]
  },
  {
   "cell_type": "code",
   "execution_count": 25,
   "id": "b61fe659-cf3e-4f62-ab71-ef49dff1e439",
   "metadata": {
    "execution": {
     "iopub.execute_input": "2024-11-04T13:24:35.374169Z",
     "iopub.status.busy": "2024-11-04T13:24:35.373483Z",
     "iopub.status.idle": "2024-11-04T13:24:35.381558Z",
     "shell.execute_reply": "2024-11-04T13:24:35.380613Z",
     "shell.execute_reply.started": "2024-11-04T13:24:35.374132Z"
    }
   },
   "outputs": [
    {
     "name": "stdout",
     "output_type": "stream",
     "text": [
      "True\n",
      "True\n"
     ]
    }
   ],
   "source": [
    "b = a.append(\"a\")\n",
    "b = a\n",
    "print(b == None)\n",
    "print(a == [0, 1, 2, 3, 4, \"a\"]"
   ]
  },
  {
   "cell_type": "code",
   "execution_count": 22,
   "id": "8c516026-204f-4751-b205-52f9ec9171a1",
   "metadata": {
    "execution": {
     "iopub.execute_input": "2024-11-04T13:22:05.004361Z",
     "iopub.status.busy": "2024-11-04T13:22:05.003677Z",
     "iopub.status.idle": "2024-11-04T13:22:05.010975Z",
     "shell.execute_reply": "2024-11-04T13:22:05.009879Z",
     "shell.execute_reply.started": "2024-11-04T13:22:05.004321Z"
    }
   },
   "outputs": [
    {
     "name": "stdout",
     "output_type": "stream",
     "text": [
      "[0, 1, 2, 3, 4, [7, 8], 8, 9]\n"
     ]
    }
   ],
   "source": [
    "# extend\n",
    "\n",
    "a = [0, 1, 2, 3, 4]\n",
    "a.append([7, 8])\n",
    "\n",
    "# a == [0, 1, 2, 3, 4, [7, 8]]\n",
    "a.extend([8, 9])\n",
    "print(a)"
   ]
  },
  {
   "cell_type": "code",
   "execution_count": 23,
   "id": "d91b6f69-26bb-49df-a36c-b59000ec6f35",
   "metadata": {
    "execution": {
     "iopub.execute_input": "2024-11-04T13:22:43.919681Z",
     "iopub.status.busy": "2024-11-04T13:22:43.918746Z",
     "iopub.status.idle": "2024-11-04T13:22:43.929340Z",
     "shell.execute_reply": "2024-11-04T13:22:43.928005Z",
     "shell.execute_reply.started": "2024-11-04T13:22:43.919576Z"
    }
   },
   "outputs": [
    {
     "data": {
      "text/plain": [
       "[0, 1, 2, 3, 4, 7, 8]"
      ]
     },
     "execution_count": 23,
     "metadata": {},
     "output_type": "execute_result"
    }
   ],
   "source": [
    "a = [0, 1, 2, 3, 4]\n",
    "b = [7, 8]\n",
    "a + b"
   ]
  },
  {
   "cell_type": "markdown",
   "id": "2315a057-7f67-449a-af50-f8d1f42d3362",
   "metadata": {
    "editable": true,
    "slideshow": {
     "slide_type": ""
    },
    "tags": []
   },
   "source": [
    "### list comprehension\n",
    "\n",
    "When you need to create a list, it is likely that you need to use a loop.\n",
    "List comprehension is a more convenient way to construct a list."
   ]
  },
  {
   "cell_type": "code",
   "execution_count": 32,
   "id": "4b48f27c-6e33-4e8c-9c23-d495d7e9a5fd",
   "metadata": {
    "execution": {
     "iopub.execute_input": "2024-11-04T13:31:24.028753Z",
     "iopub.status.busy": "2024-11-04T13:31:24.028029Z",
     "iopub.status.idle": "2024-11-04T13:31:24.041633Z",
     "shell.execute_reply": "2024-11-04T13:31:24.040355Z",
     "shell.execute_reply.started": "2024-11-04T13:31:24.028717Z"
    }
   },
   "outputs": [
    {
     "name": "stdout",
     "output_type": "stream",
     "text": [
      "True\n"
     ]
    }
   ],
   "source": [
    "foo = [1, 2, 3, 4]\n",
    "\n",
    "bar = [\n",
    "    i\n",
    "    for i in foo\n",
    "    if i < 4\n",
    "]\n",
    "\n",
    "print(bar == [1, 2, 3])"
   ]
  },
  {
   "cell_type": "code",
   "execution_count": 33,
   "id": "2705397b-ffd6-49d2-81c5-b48550e31de0",
   "metadata": {
    "execution": {
     "iopub.execute_input": "2024-11-04T13:31:53.944238Z",
     "iopub.status.busy": "2024-11-04T13:31:53.943414Z",
     "iopub.status.idle": "2024-11-04T13:31:53.951057Z",
     "shell.execute_reply": "2024-11-04T13:31:53.950144Z",
     "shell.execute_reply.started": "2024-11-04T13:31:53.944191Z"
    }
   },
   "outputs": [
    {
     "name": "stdout",
     "output_type": "stream",
     "text": [
      "2\n"
     ]
    }
   ],
   "source": [
    "a = 1\n",
    "b = a if a > 2 else 2\n",
    "print(b)"
   ]
  },
  {
   "cell_type": "code",
   "execution_count": 34,
   "id": "730d910b-68f2-43a3-8720-ae3379e9bb3e",
   "metadata": {
    "execution": {
     "iopub.execute_input": "2024-11-04T13:32:29.389152Z",
     "iopub.status.busy": "2024-11-04T13:32:29.388973Z",
     "iopub.status.idle": "2024-11-04T13:32:29.391544Z",
     "shell.execute_reply": "2024-11-04T13:32:29.391125Z",
     "shell.execute_reply.started": "2024-11-04T13:32:29.389141Z"
    }
   },
   "outputs": [
    {
     "name": "stdout",
     "output_type": "stream",
     "text": [
      "[1, 2, 3, 4]\n"
     ]
    }
   ],
   "source": [
    "foo = [1, 2, 3, 4, \"5\", None]\n",
    "\n",
    "bar = [\n",
    "    item \n",
    "    for item in foo\n",
    "    if isinstance(item, int)\n",
    "]\n",
    "print(bar)"
   ]
  },
  {
   "cell_type": "markdown",
   "id": "4cc4252e-b57d-4af7-9e98-77a7c17d7aa3",
   "metadata": {},
   "source": [
    "## dictionaries\n",
    "\n",
    "A dictionary consists of two things: the `keys` and the `values`.\n",
    "Dictionaries are useful when you need to access the stored value by its key."
   ]
  },
  {
   "cell_type": "code",
   "execution_count": 35,
   "id": "d30d8938-2f3b-49ca-aa0b-92794efda0f4",
   "metadata": {
    "execution": {
     "iopub.execute_input": "2024-11-04T13:33:44.295062Z",
     "iopub.status.busy": "2024-11-04T13:33:44.294906Z",
     "iopub.status.idle": "2024-11-04T13:33:44.297249Z",
     "shell.execute_reply": "2024-11-04T13:33:44.296766Z",
     "shell.execute_reply.started": "2024-11-04T13:33:44.295052Z"
    }
   },
   "outputs": [],
   "source": [
    "foo = {\n",
    "    \"a\": 1,\n",
    "    \"b\": 3.14,\n",
    "    \"c\": [1, 2, 3, 4]\n",
    "}"
   ]
  },
  {
   "cell_type": "code",
   "execution_count": 36,
   "id": "6161e4a7-864f-47a9-ba84-12ff79116263",
   "metadata": {
    "execution": {
     "iopub.execute_input": "2024-11-04T13:33:47.370221Z",
     "iopub.status.busy": "2024-11-04T13:33:47.370032Z",
     "iopub.status.idle": "2024-11-04T13:33:47.372969Z",
     "shell.execute_reply": "2024-11-04T13:33:47.372696Z",
     "shell.execute_reply.started": "2024-11-04T13:33:47.370206Z"
    }
   },
   "outputs": [
    {
     "data": {
      "text/plain": [
       "1"
      ]
     },
     "execution_count": 36,
     "metadata": {},
     "output_type": "execute_result"
    }
   ],
   "source": [
    "foo[\"a\"]"
   ]
  },
  {
   "cell_type": "code",
   "execution_count": 37,
   "id": "af80c5a1-cb35-4517-acb6-67263fc3db95",
   "metadata": {
    "execution": {
     "iopub.execute_input": "2024-11-04T13:34:22.199416Z",
     "iopub.status.busy": "2024-11-04T13:34:22.198956Z",
     "iopub.status.idle": "2024-11-04T13:34:22.232834Z",
     "shell.execute_reply": "2024-11-04T13:34:22.226748Z",
     "shell.execute_reply.started": "2024-11-04T13:34:22.199396Z"
    }
   },
   "outputs": [
    {
     "data": {
      "text/plain": [
       "3.14"
      ]
     },
     "execution_count": 37,
     "metadata": {},
     "output_type": "execute_result"
    }
   ],
   "source": [
    "foo[\"b\"]"
   ]
  },
  {
   "cell_type": "code",
   "execution_count": 39,
   "id": "119af043-ef32-4a20-b01b-09bf5ed3629c",
   "metadata": {
    "execution": {
     "iopub.execute_input": "2024-11-04T13:34:52.006587Z",
     "iopub.status.busy": "2024-11-04T13:34:52.005114Z",
     "iopub.status.idle": "2024-11-04T13:34:52.017936Z",
     "shell.execute_reply": "2024-11-04T13:34:52.017142Z",
     "shell.execute_reply.started": "2024-11-04T13:34:52.006527Z"
    }
   },
   "outputs": [
    {
     "data": {
      "text/plain": [
       "['a', 'b', 'c']"
      ]
     },
     "execution_count": 39,
     "metadata": {},
     "output_type": "execute_result"
    }
   ],
   "source": [
    "list(foo.keys())"
   ]
  },
  {
   "cell_type": "code",
   "execution_count": 41,
   "id": "837c090a-edcc-42fd-b851-d2957000ccce",
   "metadata": {
    "execution": {
     "iopub.execute_input": "2024-11-04T13:35:16.185332Z",
     "iopub.status.busy": "2024-11-04T13:35:16.184491Z",
     "iopub.status.idle": "2024-11-04T13:35:16.223466Z",
     "shell.execute_reply": "2024-11-04T13:35:16.211887Z",
     "shell.execute_reply.started": "2024-11-04T13:35:16.185310Z"
    }
   },
   "outputs": [
    {
     "data": {
      "text/plain": [
       "[1, 3.14, [1, 2, 3, 4]]"
      ]
     },
     "execution_count": 41,
     "metadata": {},
     "output_type": "execute_result"
    }
   ],
   "source": [
    "[ val for val in foo.values()]"
   ]
  },
  {
   "cell_type": "code",
   "execution_count": 42,
   "id": "d48fc72f-2444-4952-b1b7-4316df9315dd",
   "metadata": {
    "execution": {
     "iopub.execute_input": "2024-11-04T13:35:26.621897Z",
     "iopub.status.busy": "2024-11-04T13:35:26.621522Z",
     "iopub.status.idle": "2024-11-04T13:35:26.627938Z",
     "shell.execute_reply": "2024-11-04T13:35:26.627391Z",
     "shell.execute_reply.started": "2024-11-04T13:35:26.621871Z"
    }
   },
   "outputs": [
    {
     "data": {
      "text/plain": [
       "dict_items([('a', 1), ('b', 3.14), ('c', [1, 2, 3, 4])])"
      ]
     },
     "execution_count": 42,
     "metadata": {},
     "output_type": "execute_result"
    }
   ],
   "source": [
    "foo.items()"
   ]
  },
  {
   "cell_type": "code",
   "execution_count": 43,
   "id": "44b4e7cf-d1ba-443b-9c7b-caf77eb28e8e",
   "metadata": {
    "execution": {
     "iopub.execute_input": "2024-11-04T13:35:48.362043Z",
     "iopub.status.busy": "2024-11-04T13:35:48.361594Z",
     "iopub.status.idle": "2024-11-04T13:35:48.379768Z",
     "shell.execute_reply": "2024-11-04T13:35:48.374321Z",
     "shell.execute_reply.started": "2024-11-04T13:35:48.362022Z"
    }
   },
   "outputs": [
    {
     "name": "stdout",
     "output_type": "stream",
     "text": [
      "a: 1\n",
      "b: 3.14\n",
      "c: [1, 2, 3, 4]\n"
     ]
    }
   ],
   "source": [
    "for key, value in foo.items():\n",
    "    print(f\"{key}: {value}\")"
   ]
  },
  {
   "cell_type": "code",
   "execution_count": 45,
   "id": "61732482-a800-4911-a0d4-f06c55ba5f50",
   "metadata": {
    "execution": {
     "iopub.execute_input": "2024-11-04T13:37:29.257159Z",
     "iopub.status.busy": "2024-11-04T13:37:29.256545Z",
     "iopub.status.idle": "2024-11-04T13:37:29.267272Z",
     "shell.execute_reply": "2024-11-04T13:37:29.266630Z",
     "shell.execute_reply.started": "2024-11-04T13:37:29.257113Z"
    }
   },
   "outputs": [
    {
     "name": "stdout",
     "output_type": "stream",
     "text": [
      "[{'a': 1}, {'b': 3.14}, {'c': [1, 2, 3, 4]}]\n",
      "True\n"
     ]
    }
   ],
   "source": [
    "a = [\n",
    "    {key: value}\n",
    "    for key, value\n",
    "    in foo.items()\n",
    "]\n",
    "b = [{\"a\": 1}, {\"b\": 3.14}, {\"c\": [1, 2, 3, 4]}]\n",
    "print(a)\n",
    "print(a == b)"
   ]
  },
  {
   "cell_type": "markdown",
   "id": "3af95cf1-80dd-4701-a8a7-d2887172b9cb",
   "metadata": {
    "editable": true,
    "slideshow": {
     "slide_type": ""
    },
    "tags": []
   },
   "source": [
    "# Iterations\n",
    "\n",
    "`enumerate` and `zip` are helpers for iterating over arrays."
   ]
  },
  {
   "cell_type": "code",
   "execution_count": 46,
   "id": "ba6c2599-ebd0-4ec3-b957-6ecb9425620f",
   "metadata": {
    "execution": {
     "iopub.execute_input": "2024-11-04T13:38:26.878906Z",
     "iopub.status.busy": "2024-11-04T13:38:26.878513Z",
     "iopub.status.idle": "2024-11-04T13:38:26.888736Z",
     "shell.execute_reply": "2024-11-04T13:38:26.883815Z",
     "shell.execute_reply.started": "2024-11-04T13:38:26.878881Z"
    }
   },
   "outputs": [
    {
     "name": "stdout",
     "output_type": "stream",
     "text": [
      "0, GB\n",
      "1, FR\n",
      "2, DE\n",
      "3, US\n"
     ]
    }
   ],
   "source": [
    "# enumerate\n",
    "# Can also derive the iteration index when performing iteration\n",
    "\n",
    "country_codes = [\"GB\", \"FR\", \"DE\", \"US\"]\n",
    "\n",
    "for idx, item in enumerate(country_codes):\n",
    "    print(f\"{idx}, {item}\")"
   ]
  },
  {
   "cell_type": "code",
   "execution_count": 48,
   "id": "a6f199cc-1581-48c7-845e-653d3a423b27",
   "metadata": {
    "execution": {
     "iopub.execute_input": "2024-11-04T13:40:01.412478Z",
     "iopub.status.busy": "2024-11-04T13:40:01.412027Z",
     "iopub.status.idle": "2024-11-04T13:40:01.417713Z",
     "shell.execute_reply": "2024-11-04T13:40:01.416972Z",
     "shell.execute_reply.started": "2024-11-04T13:40:01.412445Z"
    }
   },
   "outputs": [
    {
     "name": "stdout",
     "output_type": "stream",
     "text": [
      "United Kingdom: country code GB\n",
      "France: country code FR\n",
      "Germany: country code DE\n",
      "United States: country code US\n"
     ]
    }
   ],
   "source": [
    "# zip\n",
    "# useful when needing to iterate over multiple arrays\n",
    "\n",
    "country_codes = [\"GB\", \"FR\", \"DE\", \"US\"]\n",
    "country_names = [\"United Kingdom\", \"France\", \"Germany\", \"United States\"]\n",
    "\n",
    "for item in zip(country_codes, country_names):\n",
    "    print(f\"{item[1]}: country code {item[0]}\")"
   ]
  },
  {
   "cell_type": "markdown",
   "id": "a6caf7bb-2c30-46a3-9228-a6af7d415c8d",
   "metadata": {
    "editable": true,
    "slideshow": {
     "slide_type": ""
    },
    "tags": []
   },
   "source": [
    "# Functions\n",
    "\n",
    "Functions are useful to modularise your code."
   ]
  },
  {
   "cell_type": "markdown",
   "id": "d01a997a-2ca8-40c6-abdc-4e1a17a9ae95",
   "metadata": {},
   "source": [
    "## python function basics\n",
    "\n",
    "Below is an example of a function in python.\n",
    "\n",
    "NOTE: If your function needs to return a result, \n",
    "you need to have the `return` statement there.\n",
    "Otherwise the function will return None.\n",
    "\n",
    "```py\n",
    "def func(a, b):\n",
    "    return a + b\n",
    "```"
   ]
  },
  {
   "cell_type": "markdown",
   "id": "deca5ddc-8d6d-4627-92ec-caa9523cc5ae",
   "metadata": {},
   "source": [
    "y = f(a, b)"
   ]
  },
  {
   "cell_type": "code",
   "execution_count": 51,
   "id": "452d944f-575e-4c07-9f5d-a96e80717af6",
   "metadata": {
    "execution": {
     "iopub.execute_input": "2024-11-04T13:43:06.862747Z",
     "iopub.status.busy": "2024-11-04T13:43:06.862314Z",
     "iopub.status.idle": "2024-11-04T13:43:06.880087Z",
     "shell.execute_reply": "2024-11-04T13:43:06.873723Z",
     "shell.execute_reply.started": "2024-11-04T13:43:06.862688Z"
    }
   },
   "outputs": [
    {
     "name": "stdout",
     "output_type": "stream",
     "text": [
      "3\n",
      "foobar\n"
     ]
    }
   ],
   "source": [
    "def f(a, b):\n",
    "    return a + b\n",
    "\n",
    "print(f(1, 2))\n",
    "print(f(\"foo\", \"bar\"))"
   ]
  },
  {
   "cell_type": "code",
   "execution_count": 55,
   "id": "e5fd2900-d260-4344-910f-afaeecdc0119",
   "metadata": {
    "execution": {
     "iopub.execute_input": "2024-11-04T13:44:34.999182Z",
     "iopub.status.busy": "2024-11-04T13:44:34.998539Z",
     "iopub.status.idle": "2024-11-04T13:44:35.008098Z",
     "shell.execute_reply": "2024-11-04T13:44:35.006862Z",
     "shell.execute_reply.started": "2024-11-04T13:44:34.999132Z"
    }
   },
   "outputs": [
    {
     "name": "stdout",
     "output_type": "stream",
     "text": [
      "3\n",
      "None\n"
     ]
    }
   ],
   "source": [
    "def func_none(a, b):\n",
    "    res = a + b\n",
    "    print(res)\n",
    "\n",
    "print(func_none(1, 2))"
   ]
  },
  {
   "cell_type": "code",
   "execution_count": 56,
   "id": "23ff8088-03a6-476e-9b53-0857a48eb1d4",
   "metadata": {
    "execution": {
     "iopub.execute_input": "2024-11-04T13:45:33.940719Z",
     "iopub.status.busy": "2024-11-04T13:45:33.939412Z",
     "iopub.status.idle": "2024-11-04T13:45:33.965675Z",
     "shell.execute_reply": "2024-11-04T13:45:33.953649Z",
     "shell.execute_reply.started": "2024-11-04T13:45:33.940703Z"
    }
   },
   "outputs": [
    {
     "name": "stdout",
     "output_type": "stream",
     "text": [
      "2\n"
     ]
    }
   ],
   "source": [
    "# default value\n",
    "def func(a, b=1):\n",
    "    return a + b\n",
    "\n",
    "print(func(1))"
   ]
  },
  {
   "cell_type": "code",
   "execution_count": 57,
   "id": "01980255-b949-4c7c-a581-63fbe89416fd",
   "metadata": {
    "execution": {
     "iopub.execute_input": "2024-11-04T13:45:38.341231Z",
     "iopub.status.busy": "2024-11-04T13:45:38.340329Z",
     "iopub.status.idle": "2024-11-04T13:45:38.364071Z",
     "shell.execute_reply": "2024-11-04T13:45:38.359640Z",
     "shell.execute_reply.started": "2024-11-04T13:45:38.341185Z"
    }
   },
   "outputs": [
    {
     "name": "stdout",
     "output_type": "stream",
     "text": [
      "2\n"
     ]
    }
   ],
   "source": [
    "# default value\n",
    "def func(a=1, b=1):\n",
    "    return a + b\n",
    "\n",
    "print(func())"
   ]
  },
  {
   "cell_type": "code",
   "execution_count": 58,
   "id": "7963e73b-f4be-43f5-9867-b293b4031b3d",
   "metadata": {
    "execution": {
     "iopub.execute_input": "2024-11-04T13:46:30.981739Z",
     "iopub.status.busy": "2024-11-04T13:46:30.981293Z",
     "iopub.status.idle": "2024-11-04T13:46:30.989358Z",
     "shell.execute_reply": "2024-11-04T13:46:30.988368Z",
     "shell.execute_reply.started": "2024-11-04T13:46:30.981712Z"
    }
   },
   "outputs": [
    {
     "name": "stdout",
     "output_type": "stream",
     "text": [
      "Help on function func in module __main__:\n",
      "\n",
      "func(a=1, b=1)\n",
      "    hello\n",
      "\n"
     ]
    }
   ],
   "source": [
    "def func(a=1, b=1):\n",
    "    \"hello\"\n",
    "    pass\n",
    "\n",
    "help(func)"
   ]
  },
  {
   "cell_type": "code",
   "execution_count": 59,
   "id": "8aa7f117-50ea-485c-bbdd-a2e1cb4ffbb4",
   "metadata": {
    "execution": {
     "iopub.execute_input": "2024-11-04T13:47:11.410636Z",
     "iopub.status.busy": "2024-11-04T13:47:11.409872Z",
     "iopub.status.idle": "2024-11-04T13:47:11.416765Z",
     "shell.execute_reply": "2024-11-04T13:47:11.415884Z",
     "shell.execute_reply.started": "2024-11-04T13:47:11.410598Z"
    }
   },
   "outputs": [
    {
     "name": "stdout",
     "output_type": "stream",
     "text": [
      "Help on function func in module __main__:\n",
      "\n",
      "func(a=1, b=1)\n",
      "    This function is for the following use\n",
      "    - Addition for numerics\n",
      "    - Concatention for strings\n",
      "\n",
      "    Input\n",
      "    - a (default 1): a number or a string\n",
      "    - b (default 1): a number or a string\n",
      "\n",
      "    a and b must both be numbers or strings at the same time.\n",
      "\n",
      "    Return\n",
      "    - addition or concatenation\n",
      "\n"
     ]
    }
   ],
   "source": [
    "# docstring\n",
    "def func(a=1, b=1):\n",
    "    \"\"\"This function is for the following use \n",
    "    - Addition for numerics\n",
    "    - Concatention for strings\n",
    "\n",
    "    Input\n",
    "    - a (default 1): a number or a string\n",
    "    - b (default 1): a number or a string\n",
    "\n",
    "    a and b must both be numbers or strings at the same time.\n",
    "\n",
    "    Return\n",
    "    - addition or concatenation\n",
    "    \"\"\"\n",
    "    return a + b\n",
    "\n",
    "help(func)"
   ]
  },
  {
   "cell_type": "code",
   "execution_count": 60,
   "id": "46076920-8dc2-4447-9596-5e3fde92631d",
   "metadata": {
    "execution": {
     "iopub.execute_input": "2024-11-04T13:47:32.448331Z",
     "iopub.status.busy": "2024-11-04T13:47:32.447867Z",
     "iopub.status.idle": "2024-11-04T13:47:32.455349Z",
     "shell.execute_reply": "2024-11-04T13:47:32.454390Z",
     "shell.execute_reply.started": "2024-11-04T13:47:32.448306Z"
    }
   },
   "outputs": [
    {
     "name": "stdout",
     "output_type": "stream",
     "text": [
      "Help on method_descriptor:\n",
      "\n",
      "strip(self, chars=None, /) unbound builtins.str method\n",
      "    Return a copy of the string with leading and trailing whitespace removed.\n",
      "\n",
      "    If chars is given and not None, remove characters in chars instead.\n",
      "\n"
     ]
    }
   ],
   "source": [
    "help(str.strip)"
   ]
  },
  {
   "cell_type": "markdown",
   "id": "54bd69e2-5006-4438-a9b2-bb00663a98f1",
   "metadata": {},
   "source": [
    "## Anonymous functions\n",
    "\n",
    "Anonymous functions (or \"lambda functions\") is a way to create short functions without having to write the full function definition code block.\n",
    "\n",
    "lambda functions are useful in scenarios such as being as part of a workflow pipeline, e.g. in pandas."
   ]
  },
  {
   "cell_type": "code",
   "execution_count": 61,
   "id": "704fd312-72a2-4c87-9750-0245e70712b4",
   "metadata": {
    "editable": true,
    "execution": {
     "iopub.execute_input": "2024-11-04T13:48:37.270455Z",
     "iopub.status.busy": "2024-11-04T13:48:37.270294Z",
     "iopub.status.idle": "2024-11-04T13:48:37.273093Z",
     "shell.execute_reply": "2024-11-04T13:48:37.272721Z",
     "shell.execute_reply.started": "2024-11-04T13:48:37.270442Z"
    },
    "slideshow": {
     "slide_type": ""
    },
    "tags": []
   },
   "outputs": [
    {
     "data": {
      "text/plain": [
       "3"
      ]
     },
     "execution_count": 61,
     "metadata": {},
     "output_type": "execute_result"
    }
   ],
   "source": [
    "foo = lambda a, b: a + b\n",
    "\n",
    "foo(1, 2)"
   ]
  },
  {
   "cell_type": "markdown",
   "id": "b32cbe50-b04a-4ad3-9a47-96af24087303",
   "metadata": {},
   "source": [
    "# scripting"
   ]
  },
  {
   "cell_type": "markdown",
   "id": "08bc25e9-ee76-43bb-b349-38ac7b039c04",
   "metadata": {
    "editable": true,
    "slideshow": {
     "slide_type": ""
    },
    "tags": []
   },
   "source": [
    "demo\n",
    "\n",
    "- how to write a python script\n",
    "- how to run the script in terminal"
   ]
  }
 ],
 "metadata": {
  "kernelspec": {
   "display_name": "Python 3 (ipykernel)",
   "language": "python",
   "name": "python3"
  },
  "language_info": {
   "codemirror_mode": {
    "name": "ipython",
    "version": 3
   },
   "file_extension": ".py",
   "mimetype": "text/x-python",
   "name": "python",
   "nbconvert_exporter": "python",
   "pygments_lexer": "ipython3",
   "version": "3.12.7"
  }
 },
 "nbformat": 4,
 "nbformat_minor": 5
}
