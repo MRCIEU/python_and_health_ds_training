{
 "cells": [
  {
   "cell_type": "markdown",
   "id": "c0d13357-2c7f-4a8e-8c82-63e6b8545568",
   "metadata": {},
   "source": [
    "# Hands-on session"
   ]
  },
  {
   "cell_type": "markdown",
   "id": "74c87bcc-c73f-4d69-a0c5-34f1f338a333",
   "metadata": {
    "editable": true,
    "slideshow": {
     "slide_type": ""
    },
    "tags": []
   },
   "source": [
    "# Exercise 1\n",
    "\n",
    "Programmatically print this using a loop:\n",
    "\n",
    "```\n",
    "       *    \n",
    "      ***   \n",
    "     *****  \n",
    "    ******* \n",
    "   *********\n",
    "    ******* \n",
    "     *****  \n",
    "      ***   \n",
    "       *    \n",
    "```"
   ]
  },
  {
   "cell_type": "markdown",
   "id": "c1ff0621-995b-46d6-bea5-108de4f639af",
   "metadata": {
    "editable": true,
    "slideshow": {
     "slide_type": ""
    },
    "tags": []
   },
   "source": [
    "# Exercise 2\n",
    "\n",
    "Write a function for the following algorithm:\n",
    "\n",
    "Given a list `A` of `[x1, x2, ..., xn]`, create a list `B` of chunks from `A`, where the size of each chunk except for the last is `m`.\n",
    "\n",
    "For example, for `A = [0, 1, ..., 9]` and `m = 3`, \n",
    "`B` should be `[[0, 1, 2], [3, 4, 5], [6, 7, 8], [9]]`."
   ]
  },
  {
   "cell_type": "markdown",
   "id": "97207345-4187-469a-8860-065d44f9e050",
   "metadata": {},
   "source": [
    "# Exercise 3\n",
    "\n",
    "(from leetcode)\n",
    "\n",
    "Write a function for the following algorithm: \n",
    "\n",
    "Given the list `nums` consisting of `2n` elements in the form of \n",
    "\n",
    ">   [x1, x2, ..., xn, y1, y2, ..., yn]\n",
    "\n",
    "Return the result list `res` in the form\n",
    "\n",
    ">   [x1, y1, x2, y2, ..., xn, yn]\n",
    "\n",
    "For example, for `nums = [2, 5, 1, 3, 4, 7]` and `n = 3`, \n",
    "`res` should be `[2, 3, 5, 4, 1, 7]`."
   ]
  },
  {
   "cell_type": "markdown",
   "id": "57ac0a82-57f4-4c82-94c3-512cbf2cf96c",
   "metadata": {
    "editable": true,
    "slideshow": {
     "slide_type": ""
    },
    "tags": []
   },
   "source": [
    "# Exercise 4\n",
    "\n",
    "(from leetcode)\n",
    "\n",
    "Write a function for the following algorithm:\n",
    "\n",
    "Given two strings `s` and `t`, return `True` if `t` is an \n",
    "anagram of `s`, and False otherwise.\n",
    "\n",
    "Anagram: An anagram is a word or phrase formed by rearranging the letters of a different word or phrase, typically using all the original letters exactly once.\n",
    " \n",
    "Example 1:\n",
    "\n",
    ">   Input: s = \"anagram\", t = \"nagaram\"\n",
    "\n",
    ">   Output: True\n",
    "\n",
    "Example 2:\n",
    "\n",
    ">    Input: s = \"rat\", t = \"car\"\n",
    "\n",
    ">    Output: False"
   ]
  }
 ],
 "metadata": {
  "kernelspec": {
   "display_name": "Python 3 (ipykernel)",
   "language": "python",
   "name": "python3"
  },
  "language_info": {
   "codemirror_mode": {
    "name": "ipython",
    "version": 3
   },
   "file_extension": ".py",
   "mimetype": "text/x-python",
   "name": "python",
   "nbconvert_exporter": "python",
   "pygments_lexer": "ipython3",
   "version": "3.12.7"
  }
 },
 "nbformat": 4,
 "nbformat_minor": 5
}
