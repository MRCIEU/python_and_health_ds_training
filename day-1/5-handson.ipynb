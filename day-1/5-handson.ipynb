{
 "cells": [
  {
   "cell_type": "markdown",
   "id": "c0d13357-2c7f-4a8e-8c82-63e6b8545568",
   "metadata": {},
   "source": [
    "# Hands-on session"
   ]
  },
  {
   "cell_type": "markdown",
   "id": "74c87bcc-c73f-4d69-a0c5-34f1f338a333",
   "metadata": {
    "editable": true,
    "slideshow": {
     "slide_type": ""
    },
    "tags": []
   },
   "source": [
    "# Exercise 1\n",
    "\n",
    "Programmatically print this using a loop:\n",
    "\n",
    "```\n",
    "       *    \n",
    "      ***   \n",
    "     *****  \n",
    "    ******* \n",
    "   *********\n",
    "    ******* \n",
    "     *****  \n",
    "      ***   \n",
    "       *    \n",
    "```"
   ]
  },
  {
   "cell_type": "code",
   "execution_count": 1,
   "id": "5c31210c-88ac-428d-b05c-b812f13e3cb4",
   "metadata": {
    "execution": {
     "iopub.execute_input": "2024-11-04T13:54:23.315186Z",
     "iopub.status.busy": "2024-11-04T13:54:23.314371Z",
     "iopub.status.idle": "2024-11-04T13:54:23.332881Z",
     "shell.execute_reply": "2024-11-04T13:54:23.332107Z",
     "shell.execute_reply.started": "2024-11-04T13:54:23.315112Z"
    }
   },
   "outputs": [
    {
     "name": "stdout",
     "output_type": "stream",
     "text": [
      "*\n"
     ]
    }
   ],
   "source": [
    "print(\"*\")"
   ]
  },
  {
   "cell_type": "code",
   "execution_count": 2,
   "id": "256c859c-fde7-49f3-88b2-c2d009683f45",
   "metadata": {
    "execution": {
     "iopub.execute_input": "2024-11-04T13:54:50.278705Z",
     "iopub.status.busy": "2024-11-04T13:54:50.277715Z",
     "iopub.status.idle": "2024-11-04T13:54:50.287510Z",
     "shell.execute_reply": "2024-11-04T13:54:50.286624Z",
     "shell.execute_reply.started": "2024-11-04T13:54:50.278643Z"
    }
   },
   "outputs": [
    {
     "name": "stdout",
     "output_type": "stream",
     "text": [
      "**\n"
     ]
    }
   ],
   "source": [
    "n = 2\n",
    "print(\"*\" * n)"
   ]
  },
  {
   "cell_type": "code",
   "execution_count": 3,
   "id": "16addf18-e3d2-453e-85b3-de6221f29920",
   "metadata": {
    "execution": {
     "iopub.execute_input": "2024-11-04T13:55:22.379074Z",
     "iopub.status.busy": "2024-11-04T13:55:22.378710Z",
     "iopub.status.idle": "2024-11-04T13:55:22.383794Z",
     "shell.execute_reply": "2024-11-04T13:55:22.382454Z",
     "shell.execute_reply.started": "2024-11-04T13:55:22.379049Z"
    }
   },
   "outputs": [
    {
     "name": "stdout",
     "output_type": "stream",
     "text": [
      "  *\n"
     ]
    }
   ],
   "source": [
    "print(\" \" * n + \"*\")"
   ]
  },
  {
   "cell_type": "code",
   "execution_count": 75,
   "id": "33046971-dd0f-4f3f-ab42-cf961625fb0b",
   "metadata": {
    "execution": {
     "iopub.execute_input": "2024-11-04T15:37:14.516535Z",
     "iopub.status.busy": "2024-11-04T15:37:14.515792Z",
     "iopub.status.idle": "2024-11-04T15:37:14.524845Z",
     "shell.execute_reply": "2024-11-04T15:37:14.524046Z",
     "shell.execute_reply.started": "2024-11-04T15:37:14.516490Z"
    }
   },
   "outputs": [
    {
     "name": "stdout",
     "output_type": "stream",
     "text": [
      "num_stars = 1 num_spaces = 4\n",
      "    *\n",
      "num_stars = 3 num_spaces = 3\n",
      "   ***\n",
      "num_stars = 5 num_spaces = 2\n",
      "  *****\n",
      "num_stars = 7 num_spaces = 1\n",
      " *******\n",
      "num_stars = 9 num_spaces = 0\n",
      "*********\n"
     ]
    }
   ],
   "source": [
    "# do first 4 lines, do the 5th unique line, \n",
    "# then do last 4 lines where they are just reverse of first 4 lines\n",
    "\n",
    "# line idx 0: 4 spaces, 1 stars\n",
    "# line idx 1: 3 spaces, 3 stars\n",
    "# line idx 2: 2 spaces, 5 stars\n",
    "# line idx 3: 1 space, 7 stars\n",
    "# line idx 4: 0 space, 9 stars\n",
    "# final 4 lines is the reverse of the first 4 lines\n",
    "num_lines_first = 5\n",
    "lines_first = []\n",
    "for line_i in range(num_lines_first):\n",
    "    num_stars = 1 + 2 * line_i\n",
    "    num_spaces = num_lines_first - (line_i + 1)\n",
    "    print(f\"{num_stars = }\", f\"{num_spaces = }\")\n",
    "    line = \" \" * num_spaces + \"*\" * num_stars\n",
    "    print(line)\n",
    "    lines_first.append(line)"
   ]
  },
  {
   "cell_type": "code",
   "execution_count": 22,
   "id": "5fba28a1-d9ac-44a3-b4dd-f3990cb5ddb6",
   "metadata": {
    "execution": {
     "iopub.execute_input": "2024-11-04T14:44:19.370669Z",
     "iopub.status.busy": "2024-11-04T14:44:19.370305Z",
     "iopub.status.idle": "2024-11-04T14:44:19.389114Z",
     "shell.execute_reply": "2024-11-04T14:44:19.388492Z",
     "shell.execute_reply.started": "2024-11-04T14:44:19.370645Z"
    }
   },
   "outputs": [
    {
     "name": "stdout",
     "output_type": "stream",
     "text": [
      "line_to_reverse = 3\n",
      "line_to_reverse = 2\n",
      "line_to_reverse = 1\n",
      "line_to_reverse = 0\n"
     ]
    }
   ],
   "source": [
    "num_lines_last = 4\n",
    "lines_last = []\n",
    "for line_i in range(num_lines_last):\n",
    "    line_to_reverse = num_lines_first - ((line_i + 1) + 1)\n",
    "    print(f\"{line_to_reverse = }\")\n",
    "    lines_last.append(lines_first[line_to_reverse])"
   ]
  },
  {
   "cell_type": "code",
   "execution_count": 23,
   "id": "427bf014-e2fa-457a-9b04-d39639fb1c54",
   "metadata": {
    "execution": {
     "iopub.execute_input": "2024-11-04T14:44:21.297601Z",
     "iopub.status.busy": "2024-11-04T14:44:21.296548Z",
     "iopub.status.idle": "2024-11-04T14:44:21.305724Z",
     "shell.execute_reply": "2024-11-04T14:44:21.305159Z",
     "shell.execute_reply.started": "2024-11-04T14:44:21.297562Z"
    }
   },
   "outputs": [
    {
     "data": {
      "text/plain": [
       "[' *******', '  *****', '   ***', '    *']"
      ]
     },
     "execution_count": 23,
     "metadata": {},
     "output_type": "execute_result"
    }
   ],
   "source": [
    "lines_last"
   ]
  },
  {
   "cell_type": "code",
   "execution_count": 26,
   "id": "43ee2817-de0e-4a90-9d54-54cb403348b5",
   "metadata": {
    "execution": {
     "iopub.execute_input": "2024-11-04T14:45:07.241486Z",
     "iopub.status.busy": "2024-11-04T14:45:07.241002Z",
     "iopub.status.idle": "2024-11-04T14:45:07.246986Z",
     "shell.execute_reply": "2024-11-04T14:45:07.245202Z",
     "shell.execute_reply.started": "2024-11-04T14:45:07.241461Z"
    }
   },
   "outputs": [
    {
     "name": "stdout",
     "output_type": "stream",
     "text": [
      "    *\n",
      "   ***\n",
      "  *****\n",
      " *******\n",
      "*********\n",
      " *******\n",
      "  *****\n",
      "   ***\n",
      "    *\n"
     ]
    }
   ],
   "source": [
    "lines_total = lines_first + lines_last\n",
    "print(\"\\n\".join(lines_total))"
   ]
  },
  {
   "cell_type": "markdown",
   "id": "c1ff0621-995b-46d6-bea5-108de4f639af",
   "metadata": {
    "editable": true,
    "slideshow": {
     "slide_type": ""
    },
    "tags": []
   },
   "source": [
    "# Exercise 2\n",
    "\n",
    "Write a function for the following algorithm:\n",
    "\n",
    "Given a list `A` of `[x1, x2, ..., xn]`, create a list `B` of chunks from `A`, where the size of each chunk except for the last is `m`.\n",
    "\n",
    "For example, for `A = [0, 1, ..., 9]` and `m = 3`, \n",
    "`B` should be `[[0, 1, 2], [3, 4, 5], [6, 7, 8], [9]]`."
   ]
  },
  {
   "cell_type": "code",
   "execution_count": 1,
   "id": "83e0e4fe-a6b7-41b9-8fd6-952304fa6455",
   "metadata": {
    "execution": {
     "iopub.execute_input": "2024-11-04T14:24:15.199691Z",
     "iopub.status.busy": "2024-11-04T14:24:15.199272Z",
     "iopub.status.idle": "2024-11-04T14:24:15.206399Z",
     "shell.execute_reply": "2024-11-04T14:24:15.205735Z",
     "shell.execute_reply.started": "2024-11-04T14:24:15.199664Z"
    }
   },
   "outputs": [
    {
     "name": "stdout",
     "output_type": "stream",
     "text": [
      "[[0, 1, 2], [3, 4, 5], [6, 7, 8]]\n"
     ]
    }
   ],
   "source": [
    "\n",
    "\n",
    "B = []\n",
    "i = 0\n",
    "\n",
    "B.append(A[i:i+m])\n",
    "B.append(A[(i+m): (i+m)+m])\n",
    "B.append(A[(i+m)+m: (i+m)+m+m])\n",
    "print(B)"
   ]
  },
  {
   "cell_type": "code",
   "execution_count": 6,
   "id": "3d52767c-645b-406d-ab09-a8155390c876",
   "metadata": {
    "execution": {
     "iopub.execute_input": "2024-11-04T14:32:09.215851Z",
     "iopub.status.busy": "2024-11-04T14:32:09.215483Z",
     "iopub.status.idle": "2024-11-04T14:32:09.228535Z",
     "shell.execute_reply": "2024-11-04T14:32:09.227745Z",
     "shell.execute_reply.started": "2024-11-04T14:32:09.215826Z"
    }
   },
   "outputs": [
    {
     "data": {
      "text/plain": [
       "[[0, 1, 2], [3, 4, 5], [6, 7, 8], [9]]"
      ]
     },
     "execution_count": 6,
     "metadata": {},
     "output_type": "execute_result"
    }
   ],
   "source": [
    "# C = A # remainder of A\n",
    "A = [0, 1, 2, 3, 4, 5, 6, 7, 8, 9]\n",
    "m = 3\n",
    "\n",
    "def chunks(list_to_chunk, size_of_chunk):\n",
    "    i = 0\n",
    "    res = []\n",
    "    while i >= 0:\n",
    "        chunk = A[i:i+size_of_chunk]\n",
    "        # print(c)\n",
    "        if len(chunk) == 0:\n",
    "            break\n",
    "        res.append(chunk)\n",
    "        i = i + size_of_chunk\n",
    "    return res   \n",
    "\n",
    "chunks(A, m)"
   ]
  },
  {
   "cell_type": "markdown",
   "id": "97207345-4187-469a-8860-065d44f9e050",
   "metadata": {},
   "source": [
    "# Exercise 3\n",
    "\n",
    "(from leetcode)\n",
    "\n",
    "Write a function for the following algorithm: \n",
    "\n",
    "Given the list `nums` consisting of `2n` elements in the form of \n",
    "\n",
    ">   [x1, x2, ..., xn, y1, y2, ..., yn]\n",
    "\n",
    "Return the result list `res` in the form\n",
    "\n",
    ">   [x1, y1, x2, y2, ..., xn, yn]\n",
    "\n",
    "For example, for `nums = [2, 5, 1, 3, 4, 7]` and `n = 3`, \n",
    "`res` should be `[2, 3, 5, 4, 1, 7]`."
   ]
  },
  {
   "cell_type": "code",
   "execution_count": 29,
   "id": "2d90a69f-6fdc-48c3-b386-e0b2dd0f502e",
   "metadata": {
    "execution": {
     "iopub.execute_input": "2024-11-04T14:47:46.802199Z",
     "iopub.status.busy": "2024-11-04T14:47:46.801718Z",
     "iopub.status.idle": "2024-11-04T14:47:46.807382Z",
     "shell.execute_reply": "2024-11-04T14:47:46.806329Z",
     "shell.execute_reply.started": "2024-11-04T14:47:46.802174Z"
    }
   },
   "outputs": [
    {
     "data": {
      "text/plain": [
       "0"
      ]
     },
     "execution_count": 29,
     "metadata": {},
     "output_type": "execute_result"
    }
   ],
   "source": [
    "nums = [2, 5, 1, 3, 4, 7]\n",
    "n = 3\n",
    "\n",
    "# check if nums can be divided by n\n",
    "len(nums) % n "
   ]
  },
  {
   "cell_type": "code",
   "execution_count": 30,
   "id": "8902dff9-4c33-4538-82e1-fb781b2fcc78",
   "metadata": {
    "execution": {
     "iopub.execute_input": "2024-11-04T14:48:01.450910Z",
     "iopub.status.busy": "2024-11-04T14:48:01.450163Z",
     "iopub.status.idle": "2024-11-04T14:48:01.477256Z",
     "shell.execute_reply": "2024-11-04T14:48:01.462064Z",
     "shell.execute_reply.started": "2024-11-04T14:48:01.450865Z"
    }
   },
   "outputs": [
    {
     "data": {
      "text/plain": [
       "1"
      ]
     },
     "execution_count": 30,
     "metadata": {},
     "output_type": "execute_result"
    }
   ],
   "source": [
    "10 % 3"
   ]
  },
  {
   "cell_type": "code",
   "execution_count": 33,
   "id": "74278eaf-6e50-4a97-b881-abbe1e97fa5b",
   "metadata": {
    "execution": {
     "iopub.execute_input": "2024-11-04T14:51:27.785129Z",
     "iopub.status.busy": "2024-11-04T14:51:27.784706Z",
     "iopub.status.idle": "2024-11-04T14:51:27.791076Z",
     "shell.execute_reply": "2024-11-04T14:51:27.790010Z",
     "shell.execute_reply.started": "2024-11-04T14:51:27.785105Z"
    }
   },
   "outputs": [
    {
     "name": "stdout",
     "output_type": "stream",
     "text": [
      "first elem: 2\n",
      "second elem: 3\n",
      "first elem: 5\n",
      "second elem: 4\n",
      "first elem: 1\n",
      "second elem: 7\n"
     ]
    }
   ],
   "source": [
    "res = []\n",
    "for i in range(n):\n",
    "    first_elem = nums[i]\n",
    "    second_elem = nums[i+n]\n",
    "    print(f\"first elem: {first_elem}\")\n",
    "    print(f\"second elem: {second_elem}\")\n",
    "    pair = [first_elem, second_elem]\n",
    "    res.extend(pair)"
   ]
  },
  {
   "cell_type": "code",
   "execution_count": 34,
   "id": "ebb88646-d38f-46f3-991e-ce0a352735b0",
   "metadata": {
    "execution": {
     "iopub.execute_input": "2024-11-04T14:51:31.261353Z",
     "iopub.status.busy": "2024-11-04T14:51:31.260200Z",
     "iopub.status.idle": "2024-11-04T14:51:31.286708Z",
     "shell.execute_reply": "2024-11-04T14:51:31.284039Z",
     "shell.execute_reply.started": "2024-11-04T14:51:31.261338Z"
    }
   },
   "outputs": [
    {
     "data": {
      "text/plain": [
       "[2, 3, 5, 4, 1, 7]"
      ]
     },
     "execution_count": 34,
     "metadata": {},
     "output_type": "execute_result"
    }
   ],
   "source": [
    "res"
   ]
  },
  {
   "cell_type": "code",
   "execution_count": 36,
   "id": "ab7977e8-854a-4d32-95a2-5288eb304ee0",
   "metadata": {
    "execution": {
     "iopub.execute_input": "2024-11-04T14:53:40.491520Z",
     "iopub.status.busy": "2024-11-04T14:53:40.489638Z",
     "iopub.status.idle": "2024-11-04T14:53:40.518012Z",
     "shell.execute_reply": "2024-11-04T14:53:40.512925Z",
     "shell.execute_reply.started": "2024-11-04T14:53:40.491477Z"
    }
   },
   "outputs": [
    {
     "data": {
      "text/plain": [
       "[2, 3, 5, 4, 1, 7]"
      ]
     },
     "execution_count": 36,
     "metadata": {},
     "output_type": "execute_result"
    }
   ],
   "source": [
    "def exercise_3(data_list, size):\n",
    "    res = []\n",
    "    for i in range(size):\n",
    "        first_elem = nums[i]\n",
    "        second_elem = nums[i+n]\n",
    "        pair = [first_elem, second_elem]\n",
    "        res.extend(pair)\n",
    "    return res\n",
    "\n",
    "exercise_3(data_list=nums, size=n)"
   ]
  },
  {
   "cell_type": "markdown",
   "id": "57ac0a82-57f4-4c82-94c3-512cbf2cf96c",
   "metadata": {
    "editable": true,
    "slideshow": {
     "slide_type": ""
    },
    "tags": []
   },
   "source": [
    "# Exercise 4\n",
    "\n",
    "(from leetcode)\n",
    "\n",
    "Write a function for the following algorithm:\n",
    "\n",
    "Given two strings `s` and `t`, return `True` if `t` is an \n",
    "anagram of `s`, and False otherwise.\n",
    "\n",
    "Anagram: An anagram is a word or phrase formed by rearranging the letters of a different word or phrase, typically using all the original letters exactly once.\n",
    " \n",
    "Example 1:\n",
    "\n",
    ">   Input: s = \"anagram\", t = \"nagaram\"\n",
    "\n",
    ">   Output: True\n",
    "\n",
    "Example 2:\n",
    "\n",
    ">    Input: s = \"rat\", t = \"car\"\n",
    "\n",
    ">    Output: False"
   ]
  },
  {
   "cell_type": "code",
   "execution_count": 39,
   "id": "372a40f3-9e83-4f56-81ff-f6b91231cfa2",
   "metadata": {
    "execution": {
     "iopub.execute_input": "2024-11-04T14:55:24.600110Z",
     "iopub.status.busy": "2024-11-04T14:55:24.599595Z",
     "iopub.status.idle": "2024-11-04T14:55:24.621633Z",
     "shell.execute_reply": "2024-11-04T14:55:24.617387Z",
     "shell.execute_reply.started": "2024-11-04T14:55:24.600088Z"
    }
   },
   "outputs": [
    {
     "name": "stdout",
     "output_type": "stream",
     "text": [
      "['a', 'n', 'a', 'g', 'r', 'a', 'm']\n",
      "['n', 'a', 'g', 'a', 'r', 'a', 'm']\n"
     ]
    }
   ],
   "source": [
    "s = \"anagram\"\n",
    "t = \"nagaram\"\n",
    "\n",
    "s_list = [item for item in s]\n",
    "print(s_list)\n",
    "t_list = [item for item in t]\n",
    "print(t_list)"
   ]
  },
  {
   "cell_type": "code",
   "execution_count": 51,
   "id": "d7417f5f-46f9-4595-a4e1-84db0067115e",
   "metadata": {
    "execution": {
     "iopub.execute_input": "2024-11-04T15:11:49.191852Z",
     "iopub.status.busy": "2024-11-04T15:11:49.191247Z",
     "iopub.status.idle": "2024-11-04T15:11:49.202056Z",
     "shell.execute_reply": "2024-11-04T15:11:49.199702Z",
     "shell.execute_reply.started": "2024-11-04T15:11:49.191821Z"
    }
   },
   "outputs": [
    {
     "data": {
      "text/plain": [
       "['a', 'n', 'g', 'r', 'm']"
      ]
     },
     "execution_count": 51,
     "metadata": {},
     "output_type": "execute_result"
    }
   ],
   "source": [
    "# get character frequency\n",
    "\n",
    "uniq_chars = []\n",
    "for item in s_list:\n",
    "    if item not in uniq_chars:\n",
    "        uniq_chars.append(item)\n",
    "\n",
    "uniq_chars"
   ]
  },
  {
   "cell_type": "code",
   "execution_count": 54,
   "id": "237d847f-cc77-40c9-905e-53c420b483ac",
   "metadata": {
    "execution": {
     "iopub.execute_input": "2024-11-04T15:14:34.411750Z",
     "iopub.status.busy": "2024-11-04T15:14:34.411150Z",
     "iopub.status.idle": "2024-11-04T15:14:34.416948Z",
     "shell.execute_reply": "2024-11-04T15:14:34.416398Z",
     "shell.execute_reply.started": "2024-11-04T15:14:34.411715Z"
    }
   },
   "outputs": [
    {
     "name": "stdout",
     "output_type": "stream",
     "text": [
      "['a', 'n', 'g', 'r', 'm']\n",
      "['n', 'a', 'g', 'r', 'm']\n"
     ]
    }
   ],
   "source": [
    "def get_uniq_chars(data_list):\n",
    "    uniq_chars = []\n",
    "    for item in data_list:\n",
    "        if item not in uniq_chars:\n",
    "            uniq_chars.append(item)\n",
    "    return uniq_chars\n",
    "\n",
    "s_uniq_chars = get_uniq_chars(s)\n",
    "print(s_uniq_chars)\n",
    "t_uniq_chars = get_uniq_chars(t)\n",
    "print(t_uniq_chars)"
   ]
  },
  {
   "cell_type": "code",
   "execution_count": 56,
   "id": "d1c7dd4e-97e9-4fda-9bad-fd6e7e105b78",
   "metadata": {
    "execution": {
     "iopub.execute_input": "2024-11-04T15:16:32.012766Z",
     "iopub.status.busy": "2024-11-04T15:16:32.012543Z",
     "iopub.status.idle": "2024-11-04T15:16:32.015851Z",
     "shell.execute_reply": "2024-11-04T15:16:32.015145Z",
     "shell.execute_reply.started": "2024-11-04T15:16:32.012746Z"
    }
   },
   "outputs": [
    {
     "name": "stdout",
     "output_type": "stream",
     "text": [
      "3\n",
      "1\n"
     ]
    }
   ],
   "source": [
    "def get_char_freq(char, data_list):\n",
    "    num_appearance = 0\n",
    "    for item in data_list:\n",
    "        if char == item:\n",
    "            num_appearance = num_appearance + 1\n",
    "    return num_appearance\n",
    "\n",
    "print(get_char_freq(\"a\", s))\n",
    "print(get_char_freq(\"m\", s))"
   ]
  },
  {
   "cell_type": "code",
   "execution_count": 57,
   "id": "803bd24b-a313-452f-84a6-9084f5358ed6",
   "metadata": {
    "execution": {
     "iopub.execute_input": "2024-11-04T15:17:47.251547Z",
     "iopub.status.busy": "2024-11-04T15:17:47.250773Z",
     "iopub.status.idle": "2024-11-04T15:17:47.256143Z",
     "shell.execute_reply": "2024-11-04T15:17:47.255513Z",
     "shell.execute_reply.started": "2024-11-04T15:17:47.251498Z"
    }
   },
   "outputs": [
    {
     "data": {
      "text/plain": [
       "{'a': 3, 'n': 1, 'g': 1, 'r': 1, 'm': 1}"
      ]
     },
     "execution_count": 57,
     "metadata": {},
     "output_type": "execute_result"
    }
   ],
   "source": [
    "s_char_freq = {\n",
    "    item: get_char_freq(item, s)\n",
    "    for item in uniq_chars\n",
    "}\n",
    "s_char_freq"
   ]
  },
  {
   "cell_type": "code",
   "execution_count": 58,
   "id": "fbdc8f1f-b4ed-4c2c-a612-5d779380e79e",
   "metadata": {
    "execution": {
     "iopub.execute_input": "2024-11-04T15:18:15.162969Z",
     "iopub.status.busy": "2024-11-04T15:18:15.162150Z",
     "iopub.status.idle": "2024-11-04T15:18:15.172610Z",
     "shell.execute_reply": "2024-11-04T15:18:15.171157Z",
     "shell.execute_reply.started": "2024-11-04T15:18:15.162841Z"
    }
   },
   "outputs": [
    {
     "data": {
      "text/plain": [
       "{'a': 3, 'n': 1, 'g': 1, 'r': 1, 'm': 1}"
      ]
     },
     "execution_count": 58,
     "metadata": {},
     "output_type": "execute_result"
    }
   ],
   "source": [
    "t_char_freq = {\n",
    "    item: get_char_freq(item, t)\n",
    "    for item in uniq_chars\n",
    "}\n",
    "t_char_freq"
   ]
  },
  {
   "cell_type": "code",
   "execution_count": 59,
   "id": "b618041f-39f8-44e2-bda0-34b2ae9af3ca",
   "metadata": {
    "execution": {
     "iopub.execute_input": "2024-11-04T15:18:27.676885Z",
     "iopub.status.busy": "2024-11-04T15:18:27.676274Z",
     "iopub.status.idle": "2024-11-04T15:18:27.685192Z",
     "shell.execute_reply": "2024-11-04T15:18:27.683581Z",
     "shell.execute_reply.started": "2024-11-04T15:18:27.676853Z"
    }
   },
   "outputs": [
    {
     "data": {
      "text/plain": [
       "True"
      ]
     },
     "execution_count": 59,
     "metadata": {},
     "output_type": "execute_result"
    }
   ],
   "source": [
    "s_char_freq == t_char_freq"
   ]
  },
  {
   "cell_type": "code",
   "execution_count": 66,
   "id": "1ba9027c-0e20-4119-9ee5-8a4273d37072",
   "metadata": {
    "execution": {
     "iopub.execute_input": "2024-11-04T15:23:47.142987Z",
     "iopub.status.busy": "2024-11-04T15:23:47.142423Z",
     "iopub.status.idle": "2024-11-04T15:23:47.152194Z",
     "shell.execute_reply": "2024-11-04T15:23:47.151540Z",
     "shell.execute_reply.started": "2024-11-04T15:23:47.142939Z"
    }
   },
   "outputs": [
    {
     "data": {
      "text/plain": [
       "{'a': 3, 'n': 1, 'g': 1, 'r': 1, 'm': 1}"
      ]
     },
     "execution_count": 66,
     "metadata": {},
     "output_type": "execute_result"
    }
   ],
   "source": [
    "def get_freq_stats(data_list):\n",
    "    uniq_chars = get_uniq_chars(data_list)\n",
    "    freq_stats = {\n",
    "        item: get_char_freq(item, data_list)\n",
    "        for item in uniq_chars\n",
    "    }\n",
    "    return freq_stats\n",
    "\n",
    "get_freq_stats(s)"
   ]
  },
  {
   "cell_type": "code",
   "execution_count": 76,
   "id": "3f179c98-c5e6-4b5f-b9e9-4bfdfd005578",
   "metadata": {
    "execution": {
     "iopub.execute_input": "2024-11-04T15:46:46.384984Z",
     "iopub.status.busy": "2024-11-04T15:46:46.384355Z",
     "iopub.status.idle": "2024-11-04T15:46:46.392980Z",
     "shell.execute_reply": "2024-11-04T15:46:46.391946Z",
     "shell.execute_reply.started": "2024-11-04T15:46:46.384937Z"
    }
   },
   "outputs": [
    {
     "name": "stdout",
     "output_type": "stream",
     "text": [
      "anagram\n",
      "nagaram\n",
      "freq_stats_1 = {'a': 3, 'n': 1, 'g': 1, 'r': 1, 'm': 1}\n",
      "freq_stats_2 = {'n': 1, 'a': 3, 'g': 1, 'r': 1, 'm': 1}\n"
     ]
    },
    {
     "data": {
      "text/plain": [
       "True"
      ]
     },
     "execution_count": 76,
     "metadata": {},
     "output_type": "execute_result"
    }
   ],
   "source": [
    "def compare_anagram(word1, word2):\n",
    "    freq_stats_1 = get_freq_stats(word1)\n",
    "    freq_stats_2 = get_freq_stats(word2)\n",
    "    print(f\"{freq_stats_1 = }\")\n",
    "    print(f\"{freq_stats_2 = }\")\n",
    "    res = freq_stats_1 == freq_stats_2\n",
    "    return res\n",
    "    \n",
    "print(s)\n",
    "print(t)\n",
    "compare_anagram(s, t)"
   ]
  },
  {
   "cell_type": "code",
   "execution_count": null,
   "id": "80190c74-60bd-40e9-82b2-b1a1d0c7763d",
   "metadata": {},
   "outputs": [],
   "source": [
    "# a n a g r a m\n",
    "# a a a g m n r\n",
    "\n",
    "# nagaram\n",
    "# a a a g m n r"
   ]
  },
  {
   "cell_type": "code",
   "execution_count": 69,
   "id": "e7539f8c-edf1-481a-8e70-c84cf05994c3",
   "metadata": {
    "execution": {
     "iopub.execute_input": "2024-11-04T15:24:35.530360Z",
     "iopub.status.busy": "2024-11-04T15:24:35.530195Z",
     "iopub.status.idle": "2024-11-04T15:24:35.533357Z",
     "shell.execute_reply": "2024-11-04T15:24:35.532880Z",
     "shell.execute_reply.started": "2024-11-04T15:24:35.530349Z"
    }
   },
   "outputs": [
    {
     "name": "stdout",
     "output_type": "stream",
     "text": [
      "freq_stats_1 = {'r': 1, 'a': 1, 't': 1}\n",
      "freq_stats_2 = {'c': 1, 'a': 1, 'r': 1}\n"
     ]
    },
    {
     "data": {
      "text/plain": [
       "False"
      ]
     },
     "execution_count": 69,
     "metadata": {},
     "output_type": "execute_result"
    }
   ],
   "source": [
    "compare_anagram(\"rat\", \"car\")"
   ]
  },
  {
   "cell_type": "code",
   "execution_count": 70,
   "id": "e6c68c4c-26a1-4a89-9472-b57cc9b61156",
   "metadata": {
    "execution": {
     "iopub.execute_input": "2024-11-04T15:25:42.510041Z",
     "iopub.status.busy": "2024-11-04T15:25:42.509334Z",
     "iopub.status.idle": "2024-11-04T15:25:42.529008Z",
     "shell.execute_reply": "2024-11-04T15:25:42.523464Z",
     "shell.execute_reply.started": "2024-11-04T15:25:42.510025Z"
    }
   },
   "outputs": [
    {
     "name": "stdout",
     "output_type": "stream",
     "text": [
      "freq_stats_1 = {'e': 1, 'v': 1, 'i': 1, 'l': 1}\n",
      "freq_stats_2 = {'v': 1, 'i': 1, 'l': 1, 'e': 1}\n"
     ]
    },
    {
     "data": {
      "text/plain": [
       "True"
      ]
     },
     "execution_count": 70,
     "metadata": {},
     "output_type": "execute_result"
    }
   ],
   "source": [
    "compare_anagram(\n",
    "    \"evil\",\n",
    "    \"vile\"\n",
    ")"
   ]
  },
  {
   "cell_type": "code",
   "execution_count": 71,
   "id": "4c78117f-c283-4c5e-a369-c0aa141fe510",
   "metadata": {
    "execution": {
     "iopub.execute_input": "2024-11-04T15:26:20.846778Z",
     "iopub.status.busy": "2024-11-04T15:26:20.846071Z",
     "iopub.status.idle": "2024-11-04T15:26:20.854430Z",
     "shell.execute_reply": "2024-11-04T15:26:20.853821Z",
     "shell.execute_reply.started": "2024-11-04T15:26:20.846740Z"
    }
   },
   "outputs": [
    {
     "name": "stdout",
     "output_type": "stream",
     "text": [
      "freq_stats_1 = {'c': 1, 'o': 2, 'r': 2, 'n': 1, 'a': 1, 'v': 1, 'i': 1, 'u': 1, 's': 1}\n",
      "freq_stats_2 = {'c': 1, 'a': 1, 'r': 2, 'n': 1, 'i': 1, 'v': 1, 'o': 2, 'u': 1, 's': 1}\n"
     ]
    },
    {
     "data": {
      "text/plain": [
       "True"
      ]
     },
     "execution_count": 71,
     "metadata": {},
     "output_type": "execute_result"
    }
   ],
   "source": [
    "compare_anagram(\n",
    "    \"coronavirus\",\n",
    "    \"carnivorous\"\n",
    ")"
   ]
  },
  {
   "cell_type": "code",
   "execution_count": 72,
   "id": "fe43791d-ff60-4e90-915c-4f2f1ab13fef",
   "metadata": {
    "execution": {
     "iopub.execute_input": "2024-11-04T15:26:36.766490Z",
     "iopub.status.busy": "2024-11-04T15:26:36.766223Z",
     "iopub.status.idle": "2024-11-04T15:26:36.773212Z",
     "shell.execute_reply": "2024-11-04T15:26:36.772308Z",
     "shell.execute_reply.started": "2024-11-04T15:26:36.766470Z"
    }
   },
   "outputs": [
    {
     "name": "stdout",
     "output_type": "stream",
     "text": [
      "freq_stats_1 = {'c': 1, 'o': 2, 'r': 2, 'n': 1, 'a': 1, 'v': 1, 'i': 1, 'u': 1, 's': 1}\n",
      "freq_stats_2 = {'v': 1, 'i': 1, 'r': 1, 'u': 1, 's': 1}\n"
     ]
    },
    {
     "data": {
      "text/plain": [
       "False"
      ]
     },
     "execution_count": 72,
     "metadata": {},
     "output_type": "execute_result"
    }
   ],
   "source": [
    "compare_anagram(\n",
    "    \"coronavirus\",\n",
    "    \"virus\"\n",
    ")"
   ]
  },
  {
   "cell_type": "code",
   "execution_count": 77,
   "id": "ed0a9817-5373-4ab8-bae3-2fc46c7a9adb",
   "metadata": {
    "execution": {
     "iopub.execute_input": "2024-11-04T15:48:54.528358Z",
     "iopub.status.busy": "2024-11-04T15:48:54.527457Z",
     "iopub.status.idle": "2024-11-04T15:48:54.541248Z",
     "shell.execute_reply": "2024-11-04T15:48:54.540511Z",
     "shell.execute_reply.started": "2024-11-04T15:48:54.528293Z"
    }
   },
   "outputs": [
    {
     "data": {
      "text/plain": [
       "True"
      ]
     },
     "execution_count": 77,
     "metadata": {},
     "output_type": "execute_result"
    }
   ],
   "source": [
    "\"a\" <= \"z\""
   ]
  },
  {
   "cell_type": "code",
   "execution_count": 74,
   "id": "e7f90a7a-84fb-444c-a7ca-6f37132226f9",
   "metadata": {
    "execution": {
     "iopub.execute_input": "2024-11-04T15:35:36.069994Z",
     "iopub.status.busy": "2024-11-04T15:35:36.068234Z",
     "iopub.status.idle": "2024-11-04T15:35:36.093637Z",
     "shell.execute_reply": "2024-11-04T15:35:36.085384Z",
     "shell.execute_reply.started": "2024-11-04T15:35:36.069970Z"
    }
   },
   "outputs": [
    {
     "data": {
      "text/plain": [
       "True"
      ]
     },
     "execution_count": 74,
     "metadata": {},
     "output_type": "execute_result"
    }
   ],
   "source": [
    "sorted(s) == sorted(t)"
   ]
  }
 ],
 "metadata": {
  "kernelspec": {
   "display_name": "Python 3 (ipykernel)",
   "language": "python",
   "name": "python3"
  },
  "language_info": {
   "codemirror_mode": {
    "name": "ipython",
    "version": 3
   },
   "file_extension": ".py",
   "mimetype": "text/x-python",
   "name": "python",
   "nbconvert_exporter": "python",
   "pygments_lexer": "ipython3",
   "version": "3.12.7"
  }
 },
 "nbformat": 4,
 "nbformat_minor": 5
}
