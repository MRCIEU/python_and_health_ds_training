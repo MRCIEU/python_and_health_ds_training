{
 "cells": [
  {
   "cell_type": "markdown",
   "id": "25950cb4-213d-4c0c-8b02-6275ed180c43",
   "metadata": {
    "editable": true,
    "slideshow": {
     "slide_type": ""
    },
    "tags": []
   },
   "source": [
    "Overarching information\n",
    "\n",
    "- 09:30 - 09:45 Introduction of the three-day course\n",
    "- **09:45 - 10:00 Lecture: Introduction to python**\n",
    "- 10:00 - 10:30 Lecture: Environment for working with a python project\n",
    "- 10: 30 – 10: 45 Break\n",
    "- 10:45 - 12:00 Lecture: Basic python syntax\n",
    "- 12:00 - 13:00 Lunch break\n",
    "- 13:00 - 15:00 Lecture: python scripting\n",
    "- 15:00 – 15:15 Break\n",
    "- 15:15 - 17:00 Hands on: Working with Jupyter Notebook\n",
    "\n",
    "Feel free to raise questions during the day.\n",
    "\n",
    "Some other notes:\n",
    "\n",
    "- If you are on native Windows (i.e. not on Windows Subsystem for Linux), you are not able to run some of the code cells in Bash"
   ]
  },
  {
   "cell_type": "markdown",
   "id": "e08c1ef8-7f75-40d1-9389-85e4d5a6aaa7",
   "metadata": {},
   "source": [
    "# Intro to python\n",
    "\n",
    "The aim of the this section is to provide high level overview of the various concepts:\n",
    "\n",
    "- From a data science perspective (rather than software engineering), what is \"python\"?\n",
    "Or rather, what are the main elements of the Python data science ecosystems\n",
    "- Why do you need \"python\" in a data science project"
   ]
  },
  {
   "cell_type": "markdown",
   "id": "7b9d7915-cfec-463b-ae69-8d57a99b0029",
   "metadata": {
    "editable": true,
    "slideshow": {
     "slide_type": ""
    },
    "tags": []
   },
   "source": [
    "# What is \"Python\" in data science?\n",
    "\n",
    "What we are going to cover in the three days are the following things:\n",
    "1. conda virtual environment\n",
    "2. Jupyter platform\n",
    "3. The python programming language\n",
    "4. Python packages"
   ]
  },
  {
   "cell_type": "markdown",
   "id": "b71d3581-478c-4e54-b711-46a128e6f21b",
   "metadata": {
    "editable": true,
    "slideshow": {
     "slide_type": ""
    },
    "tags": []
   },
   "source": [
    "## Conda\n",
    "\n",
    "conda is a virtual environment manager.\n",
    "conda is often associated with python data science projects but not exclusive to python -- for example, you could use conda to manage R libraries as well.\n",
    "\n",
    "conda can be installed from\n",
    "- The [anaconda distribution](https://docs.anaconda.com/anaconda/),\n",
    "which comes with pre-installed data science libraries\n",
    "- The [miniconda distribution](https://docs.anaconda.com/miniconda/), which comes only with the minimum neccessary things for using conda\n",
    "\n",
    "We will come back to conda in Lecture 2.\n",
    "\n",
    "Note: there is also the [miniforge](https://github.com/conda-forge/miniforge) distribution which comes with a few other new things."
   ]
  },
  {
   "cell_type": "markdown",
   "id": "8ebd5f76-259c-4e03-80e8-908600b45c40",
   "metadata": {
    "editable": true,
    "slideshow": {
     "slide_type": ""
    },
    "tags": []
   },
   "source": [
    "## Jupyter platform\n",
    "\n",
    "The jupyter notebook / jupyter lab software is the main platform we use to interact with the code in the course.\n",
    "\n",
    "Like conda, jupyter is also often associated with python data science, but you could also use jupyter for R (i.e. the [irkernel](https://github.com/IRkernel/IRkernel)) as well.\n",
    "\n",
    "We will come back to jupyter notebooks in Lecture 2."
   ]
  },
  {
   "cell_type": "markdown",
   "id": "3ee17672-4abc-420c-a29e-bad50471f532",
   "metadata": {
    "editable": true,
    "slideshow": {
     "slide_type": ""
    },
    "tags": []
   },
   "source": [
    "## The python programming language\n",
    "\n",
    "`python` is a dynamic (dynamicly-typed) language, i.e. the code is interpreted in the python runtime and not compiled.\n",
    "- Examples of static languages: `c`, `c++`, `java`, `go`, etc.\n",
    "- Examples of dynamic languages: `python`, `R`, `javascript`, `sh` / `bash`, etc.\n",
    "\n",
    "The data types of variables in dynamic languages are interpreted at the runtime and are not required declared.\n",
    "So compared to static languages, dynamic languages are more versatile and easier to write, but are usually much slower to run."
   ]
  },
  {
   "cell_type": "markdown",
   "id": "06be8d4a-3be0-4ac3-9b18-fa7a652683bd",
   "metadata": {
    "editable": true,
    "slideshow": {
     "slide_type": ""
    },
    "tags": []
   },
   "source": [
    "python code can be run in the following ways:\n",
    "- interactively via an interactive shell, e.g. the `python` shell or the `ipython` / `jupyter` shell and notebooks.\n",
    "- via batch processing in a script, e.g. `python hello_world.py`\n",
    "\n",
    "Note: depended on your operating system and virtual environment, sometimes `python3` instead of `python` is available."
   ]
  },
  {
   "cell_type": "markdown",
   "id": "a9f84a32-0108-4ebd-bb48-6df557c2f073",
   "metadata": {
    "editable": true,
    "slideshow": {
     "slide_type": ""
    },
    "tags": []
   },
   "source": [
    "## Python packages\n",
    "\n",
    "There is a LOT of packages for various purposes in python, e.g. `pandas`, `numpy`, `sklearn`, `requests`, etc.\n",
    "\n",
    "These packages are hosted on the pypi website https://pypi.org/.\n",
    "They can be installed via two ways:\n",
    "- `pip`: the native package installer for python\n",
    "- `conda`"
   ]
  },
  {
   "cell_type": "markdown",
   "id": "0a8be028-f6be-43e3-87cc-aa58b01bcf5f",
   "metadata": {
    "editable": true,
    "slideshow": {
     "slide_type": ""
    },
    "tags": []
   },
   "source": [
    "# Why do we need python?\n",
    "\n",
    "As a researcher working on a (health) data science project, why do we need python, when we have other things (e.g. R)?\n",
    "\n",
    "One of the obvious reasons is that you might need a specific library that is python based. \n",
    "\n",
    "For example, if you need to use Large Language Models, it is best to use python and the huggingface library,\n",
    "rather than trying to use the interface library in R, etc."
   ]
  },
  {
   "cell_type": "markdown",
   "id": "64e7f4e5-277f-4502-ae44-a93d81e7c87c",
   "metadata": {
    "editable": true,
    "slideshow": {
     "slide_type": ""
    },
    "tags": []
   },
   "source": [
    "python is also used in some of the most important data science tools.\n",
    "\n",
    "The `conda` environment and the `jupyter` platform are not unique to python and I strongly suggest you use either or both in your non-python projects.\n",
    "\n",
    "There are other tools such as `snakemake`, `dagster`, etc. that are interfaced from python."
   ]
  },
  {
   "cell_type": "markdown",
   "id": "9d130b35-664d-4baa-a105-7ebcc5daa7fd",
   "metadata": {},
   "source": [
    "When your project becomes big, and using python in some of the tasks would make your project scalable and reproducible.\n",
    "\n",
    "In general the python ecosystem strikes a good balance between:\n",
    "- Quick implementation of your code due to the dynamic nature of the language and rich availability of packages\n",
    "- Various mechanisms to maintain the scalability and reproducibility of the codebase:\n",
    "  - unit testing (`pytest`)\n",
    "  - code formatting (`black`) and linting (`flake8`)\n",
    "  - type annotation and type checking (`mypy`)\n",
    "  - data validation (`pydantic`)"
   ]
  },
  {
   "cell_type": "markdown",
   "id": "522b6841-27f2-4ffa-a272-29a40b4c399c",
   "metadata": {},
   "source": [
    "You should pick what works best for your needs, e.g. use R for statistical analysis and producing visualisation, use python for data processing, use databases for managing data, and use shell scripts for some other use cases."
   ]
  },
  {
   "cell_type": "markdown",
   "id": "767f5c75-7465-4168-8129-c5a4a2d3e01e",
   "metadata": {},
   "source": [
    "----"
   ]
  },
  {
   "cell_type": "markdown",
   "id": "2518c2f0-028e-4e2b-bfca-0a62d5aee7bf",
   "metadata": {},
   "source": [
    "## Reference"
   ]
  }
 ],
 "metadata": {
  "kernelspec": {
   "display_name": "Python 3 (ipykernel)",
   "language": "python",
   "name": "python3"
  },
  "language_info": {
   "codemirror_mode": {
    "name": "ipython",
    "version": 3
   },
   "file_extension": ".py",
   "mimetype": "text/x-python",
   "name": "python",
   "nbconvert_exporter": "python",
   "pygments_lexer": "ipython3",
   "version": "3.12.7"
  }
 },
 "nbformat": 4,
 "nbformat_minor": 5
}
