{
 "cells": [
  {
   "cell_type": "markdown",
   "id": "fdbf553f",
   "metadata": {},
   "source": [
    "### Load NumPy"
   ]
  },
  {
   "cell_type": "code",
   "execution_count": 1,
   "id": "b476b2f6",
   "metadata": {},
   "outputs": [],
   "source": [
    "import numpy as np"
   ]
  },
  {
   "cell_type": "markdown",
   "id": "cbfd49a4",
   "metadata": {},
   "source": [
    "### What is NumPy array?"
   ]
  },
  {
   "cell_type": "code",
   "execution_count": 2,
   "id": "ff5ada6e",
   "metadata": {},
   "outputs": [
    {
     "data": {
      "text/plain": [
       "array([1, 2, 3, 4])"
      ]
     },
     "execution_count": 2,
     "metadata": {},
     "output_type": "execute_result"
    }
   ],
   "source": [
    "# Create a 1-d array\n",
    "a = np.array([1, 2, 3, 4])\n",
    "a"
   ]
  },
  {
   "cell_type": "code",
   "execution_count": 3,
   "id": "3af08a5f",
   "metadata": {},
   "outputs": [
    {
     "data": {
      "text/plain": [
       "1"
      ]
     },
     "execution_count": 3,
     "metadata": {},
     "output_type": "execute_result"
    }
   ],
   "source": [
    "# Number of dimensions\n",
    "a.ndim"
   ]
  },
  {
   "cell_type": "code",
   "execution_count": 4,
   "id": "5aa7d546",
   "metadata": {},
   "outputs": [
    {
     "data": {
      "text/plain": [
       "4"
      ]
     },
     "execution_count": 4,
     "metadata": {},
     "output_type": "execute_result"
    }
   ],
   "source": [
    "# Number of elements\n",
    "a.size"
   ]
  },
  {
   "cell_type": "code",
   "execution_count": 5,
   "id": "d1afb37f",
   "metadata": {},
   "outputs": [
    {
     "data": {
      "text/plain": [
       "4"
      ]
     },
     "execution_count": 5,
     "metadata": {},
     "output_type": "execute_result"
    }
   ],
   "source": [
    "# Number of first layer elements - using Python's native way to get the length of a variable\n",
    "len(a)\n",
    "\n",
    "# This only works for other Python native variables e.g. list\n",
    "# len([1, 2, 3])"
   ]
  },
  {
   "cell_type": "code",
   "execution_count": 6,
   "id": "c3eb1684",
   "metadata": {},
   "outputs": [
    {
     "data": {
      "text/plain": [
       "(4,)"
      ]
     },
     "execution_count": 6,
     "metadata": {},
     "output_type": "execute_result"
    }
   ],
   "source": [
    "# Shape of array\n",
    "a.shape"
   ]
  },
  {
   "cell_type": "code",
   "execution_count": 7,
   "id": "5061ef12",
   "metadata": {},
   "outputs": [
    {
     "data": {
      "text/plain": [
       "array([[1, 2, 3, 4],\n",
       "       [4, 3, 2, 1]])"
      ]
     },
     "execution_count": 7,
     "metadata": {},
     "output_type": "execute_result"
    }
   ],
   "source": [
    "# Create a 2-d array\n",
    "b = np.array([[1, 2, 3, 4], [4, 3, 2, 1]])\n",
    "b"
   ]
  },
  {
   "cell_type": "code",
   "execution_count": 8,
   "id": "1be861db",
   "metadata": {},
   "outputs": [
    {
     "data": {
      "text/plain": [
       "2"
      ]
     },
     "execution_count": 8,
     "metadata": {},
     "output_type": "execute_result"
    }
   ],
   "source": [
    "b.ndim"
   ]
  },
  {
   "cell_type": "code",
   "execution_count": 9,
   "id": "11b84748",
   "metadata": {},
   "outputs": [
    {
     "data": {
      "text/plain": [
       "(2, 4)"
      ]
     },
     "execution_count": 9,
     "metadata": {},
     "output_type": "execute_result"
    }
   ],
   "source": [
    "# Shape - work outside-in\n",
    "b.shape\n",
    "\n",
    "# The first layer has 2 elements while the second has 4, so it's 2 x 4"
   ]
  },
  {
   "cell_type": "code",
   "execution_count": 10,
   "id": "06c900e0-ed81-430f-ab01-4290d8777906",
   "metadata": {},
   "outputs": [
    {
     "data": {
      "text/plain": [
       "8"
      ]
     },
     "execution_count": 10,
     "metadata": {},
     "output_type": "execute_result"
    }
   ],
   "source": [
    "# Number of elements\n",
    "b.size"
   ]
  },
  {
   "cell_type": "code",
   "execution_count": 11,
   "id": "8c2fb2aa",
   "metadata": {
    "scrolled": true
   },
   "outputs": [
    {
     "data": {
      "text/plain": [
       "2"
      ]
     },
     "execution_count": 11,
     "metadata": {},
     "output_type": "execute_result"
    }
   ],
   "source": [
    "# Number of first layer elements (distinguish from b.size)\n",
    "len(b)"
   ]
  },
  {
   "cell_type": "code",
   "execution_count": 12,
   "id": "41310133",
   "metadata": {},
   "outputs": [
    {
     "data": {
      "text/plain": [
       "array([[1., 2., 3., 4.],\n",
       "       [4., 3., 2., 1.]])"
      ]
     },
     "execution_count": 12,
     "metadata": {},
     "output_type": "execute_result"
    }
   ],
   "source": [
    "# Homogeneity\n",
    "# Every element in an array must be of the same data type (dtype)\n",
    "# We specify 3.0 (as float) here, so all the other elements will be force converted to float, which is more precise\n",
    "b = np.array([[1, 2, 3, 4], [4, 3.0, 2, 1]])\n",
    "b"
   ]
  },
  {
   "cell_type": "code",
   "execution_count": 13,
   "id": "97d78dfd",
   "metadata": {},
   "outputs": [
    {
     "data": {
      "text/plain": [
       "dtype('float64')"
      ]
     },
     "execution_count": 13,
     "metadata": {},
     "output_type": "execute_result"
    }
   ],
   "source": [
    "b.dtype"
   ]
  },
  {
   "cell_type": "code",
   "execution_count": 14,
   "id": "daf2064d-ffd5-41db-936c-6d4995c1af60",
   "metadata": {},
   "outputs": [
    {
     "name": "stdout",
     "output_type": "stream",
     "text": [
      "This is a Python list, not NumPy array: [1, 'two', 3.0, [1, 1, 1, 1]]\n"
     ]
    }
   ],
   "source": [
    "# Distinguish from Python native list, where you can store heterogeneous values\n",
    "b_list = [1, 'two', 3.0, [1, 1, 1, 1]]\n",
    "print(\"This is a Python list, not NumPy array:\", b_list)"
   ]
  },
  {
   "cell_type": "markdown",
   "id": "d96d60ce",
   "metadata": {},
   "source": [
    "### Accessing and modifying elements (work \"outside-in\")"
   ]
  },
  {
   "cell_type": "code",
   "execution_count": 15,
   "id": "5fc6080e",
   "metadata": {},
   "outputs": [
    {
     "data": {
      "text/plain": [
       "array([[ 1,  2,  3,  4,  5,  6,  7,  8],\n",
       "       [ 4,  3,  2,  1,  0, -1, -2, -3]])"
      ]
     },
     "execution_count": 15,
     "metadata": {},
     "output_type": "execute_result"
    }
   ],
   "source": [
    "# Create a 2 x 8 array\n",
    "b = np.array([[1, 2, 3, 4, 5, 6, 7, 8], [4, 3, 2, 1, 0, -1, -2, -3]])\n",
    "b"
   ]
  },
  {
   "cell_type": "code",
   "execution_count": 16,
   "id": "7170dad3",
   "metadata": {},
   "outputs": [
    {
     "data": {
      "text/plain": [
       "np.int64(5)"
      ]
     },
     "execution_count": 16,
     "metadata": {},
     "output_type": "execute_result"
    }
   ],
   "source": [
    "# Get element [FIRST_LAYER, SECOND_LAYER, ...] (for 2-d they will be row and then column)\n",
    "# Again, work outside-in\n",
    "b[0, 4]\n",
    "\n",
    "# Returns np.int64(5), which means the value is 5 and it is stored as 'np.int64' data type"
   ]
  },
  {
   "cell_type": "code",
   "execution_count": 17,
   "id": "783b325a",
   "metadata": {},
   "outputs": [
    {
     "ename": "IndexError",
     "evalue": "index 10 is out of bounds for axis 1 with size 8",
     "output_type": "error",
     "traceback": [
      "\u001b[0;31m---------------------------------------------------------------------------\u001b[0m",
      "\u001b[0;31mIndexError\u001b[0m                                Traceback (most recent call last)",
      "Cell \u001b[0;32mIn[17], line 2\u001b[0m\n\u001b[1;32m      1\u001b[0m \u001b[38;5;66;03m# Out of bound error\u001b[39;00m\n\u001b[0;32m----> 2\u001b[0m \u001b[43mb\u001b[49m\u001b[43m[\u001b[49m\u001b[38;5;241;43m0\u001b[39;49m\u001b[43m,\u001b[49m\u001b[43m \u001b[49m\u001b[38;5;241;43m10\u001b[39;49m\u001b[43m]\u001b[49m\n",
      "\u001b[0;31mIndexError\u001b[0m: index 10 is out of bounds for axis 1 with size 8"
     ]
    }
   ],
   "source": [
    "# Out of bound error\n",
    "b[0, 10]"
   ]
  },
  {
   "cell_type": "code",
   "execution_count": 18,
   "id": "b9fa8fb9",
   "metadata": {},
   "outputs": [
    {
     "data": {
      "text/plain": [
       "np.int64(7)"
      ]
     },
     "execution_count": 18,
     "metadata": {},
     "output_type": "execute_result"
    }
   ],
   "source": [
    "# Negative indices work as well (the last element will be indexed as -1, and the second last as -2, ...)\n",
    "b[0, -2]"
   ]
  },
  {
   "cell_type": "code",
   "execution_count": 19,
   "id": "8d91b747",
   "metadata": {},
   "outputs": [
    {
     "data": {
      "text/plain": [
       "array([ 4,  3,  2,  1,  0, -1, -2, -3])"
      ]
     },
     "execution_count": 19,
     "metadata": {},
     "output_type": "execute_result"
    }
   ],
   "source": [
    "# Get the first layer ('row')\n",
    "b[1]"
   ]
  },
  {
   "cell_type": "code",
   "execution_count": 20,
   "id": "97f9acc0",
   "metadata": {},
   "outputs": [
    {
     "data": {
      "text/plain": [
       "array([2, 3, 4, 5])"
      ]
     },
     "execution_count": 20,
     "metadata": {},
     "output_type": "execute_result"
    }
   ],
   "source": [
    "# Slicing also works\n",
    "# https://www.w3schools.com/python/numpy/numpy_array_slicing.asp\n",
    "b[0, 1:5]"
   ]
  },
  {
   "cell_type": "code",
   "execution_count": 21,
   "id": "c319585c",
   "metadata": {},
   "outputs": [
    {
     "data": {
      "text/plain": [
       "array([[ 1,  2,  3,  4,  5,  6,  7,  8],\n",
       "       [ 4,  3,  2,  1,  0, -1, -2, -3]])"
      ]
     },
     "execution_count": 21,
     "metadata": {},
     "output_type": "execute_result"
    }
   ],
   "source": [
    "b[:, :]"
   ]
  },
  {
   "cell_type": "code",
   "execution_count": 22,
   "id": "097ac99d",
   "metadata": {},
   "outputs": [
    {
     "data": {
      "text/plain": [
       "array([[4, 5],\n",
       "       [1, 0]])"
      ]
     },
     "execution_count": 22,
     "metadata": {},
     "output_type": "execute_result"
    }
   ],
   "source": [
    "b[:, 3:5]"
   ]
  },
  {
   "cell_type": "code",
   "execution_count": 23,
   "id": "ed0f1e64",
   "metadata": {},
   "outputs": [
    {
     "data": {
      "text/plain": [
       "array([[ 1,  3,  5,  7],\n",
       "       [ 4,  2,  0, -2]])"
      ]
     },
     "execution_count": 23,
     "metadata": {},
     "output_type": "execute_result"
    }
   ],
   "source": [
    "b[:, ::2]"
   ]
  },
  {
   "cell_type": "code",
   "execution_count": 24,
   "id": "8f2363bb",
   "metadata": {},
   "outputs": [
    {
     "data": {
      "text/plain": [
       "array([[ 1,  2,  3,  4,  5,  6,  7,  8],\n",
       "       [ 4,  3,  2,  1,  0, -1, -2, -3]])"
      ]
     },
     "execution_count": 24,
     "metadata": {},
     "output_type": "execute_result"
    }
   ],
   "source": [
    "b"
   ]
  },
  {
   "cell_type": "code",
   "execution_count": 25,
   "id": "585a8885",
   "metadata": {},
   "outputs": [
    {
     "data": {
      "text/plain": [
       "array([[ 1,  2,  3,  4,  5,  6, 99,  8],\n",
       "       [ 4,  3,  2,  1,  0, -1, -2, -3]])"
      ]
     },
     "execution_count": 25,
     "metadata": {},
     "output_type": "execute_result"
    }
   ],
   "source": [
    "# Update an element\n",
    "b[0, -2] = 99\n",
    "b"
   ]
  },
  {
   "cell_type": "code",
   "execution_count": 26,
   "id": "bec7e85f",
   "metadata": {},
   "outputs": [
    {
     "data": {
      "text/plain": [
       "array([[0, 0, 0, 0, 0, 0, 0, 0],\n",
       "       [0, 0, 0, 0, 0, 0, 0, 0]])"
      ]
     },
     "execution_count": 26,
     "metadata": {},
     "output_type": "execute_result"
    }
   ],
   "source": [
    "# Update elements\n",
    "b[:, :] = 0\n",
    "b"
   ]
  },
  {
   "cell_type": "code",
   "execution_count": 27,
   "id": "29eea3ed",
   "metadata": {},
   "outputs": [
    {
     "data": {
      "text/plain": [
       "array([[[ 1,  2,  3],\n",
       "        [ 4,  5,  6]],\n",
       "\n",
       "       [[ 7,  8,  9],\n",
       "        [10, 11, 12]],\n",
       "\n",
       "       [[13, 14, 15],\n",
       "        [16, 17, 18]]])"
      ]
     },
     "execution_count": 27,
     "metadata": {},
     "output_type": "execute_result"
    }
   ],
   "source": [
    "# Create an 3 x 2 x 3 array\n",
    "c = np.array([[[1, 2, 3], [4, 5, 6]], [[7, 8, 9], [10, 11, 12]], [[13, 14, 15], [16, 17, 18]]])\n",
    "c"
   ]
  },
  {
   "cell_type": "code",
   "execution_count": 28,
   "id": "3e93e3a8",
   "metadata": {},
   "outputs": [
    {
     "data": {
      "text/plain": [
       "np.int64(8)"
      ]
     },
     "execution_count": 28,
     "metadata": {},
     "output_type": "execute_result"
    }
   ],
   "source": [
    "# Again, work outside-in\n",
    "c[1, 0, 1]"
   ]
  },
  {
   "cell_type": "code",
   "execution_count": 29,
   "id": "50605c26",
   "metadata": {},
   "outputs": [
    {
     "data": {
      "text/plain": [
       "array([[[ 0,  0,  0],\n",
       "        [ 4,  5,  6]],\n",
       "\n",
       "       [[ 0,  0,  0],\n",
       "        [10, 11, 12]],\n",
       "\n",
       "       [[ 0,  0,  0],\n",
       "        [16, 17, 18]]])"
      ]
     },
     "execution_count": 29,
     "metadata": {},
     "output_type": "execute_result"
    }
   ],
   "source": [
    "c[:, 0, :] = 0\n",
    "c"
   ]
  },
  {
   "cell_type": "markdown",
   "id": "626773b8",
   "metadata": {},
   "source": [
    "### Create (initialise) arrays"
   ]
  },
  {
   "cell_type": "code",
   "execution_count": 30,
   "id": "9167c040",
   "metadata": {},
   "outputs": [
    {
     "data": {
      "text/plain": [
       "array([0, 0])"
      ]
     },
     "execution_count": 30,
     "metadata": {},
     "output_type": "execute_result"
    }
   ],
   "source": [
    "np.zeros(2, dtype=int)"
   ]
  },
  {
   "cell_type": "code",
   "execution_count": 31,
   "id": "060c44bd",
   "metadata": {
    "scrolled": true
   },
   "outputs": [
    {
     "data": {
      "text/plain": [
       "array([[[1., 1.],\n",
       "        [1., 1.]],\n",
       "\n",
       "       [[1., 1.],\n",
       "        [1., 1.]]])"
      ]
     },
     "execution_count": 31,
     "metadata": {},
     "output_type": "execute_result"
    }
   ],
   "source": [
    "np.ones([2, 2, 2], dtype=float)"
   ]
  },
  {
   "cell_type": "code",
   "execution_count": 32,
   "id": "4b4b4527",
   "metadata": {
    "scrolled": true
   },
   "outputs": [
    {
     "data": {
      "text/plain": [
       "array([[19, 19],\n",
       "       [19, 19]])"
      ]
     },
     "execution_count": 32,
     "metadata": {},
     "output_type": "execute_result"
    }
   ],
   "source": [
    "np.full([2, 2], 19)"
   ]
  },
  {
   "cell_type": "code",
   "execution_count": 33,
   "id": "109f4926",
   "metadata": {},
   "outputs": [
    {
     "data": {
      "text/plain": [
       "array([[[0.34657214, 0.74499797],\n",
       "        [0.33754394, 0.6893097 ]],\n",
       "\n",
       "       [[0.88754531, 0.54387005],\n",
       "        [0.81984525, 0.44500488]],\n",
       "\n",
       "       [[0.25573905, 0.74072321],\n",
       "        [0.56662586, 0.00766652]],\n",
       "\n",
       "       [[0.2562143 , 0.04651129],\n",
       "        [0.20603697, 0.70626553]]])"
      ]
     },
     "execution_count": 33,
     "metadata": {},
     "output_type": "execute_result"
    }
   ],
   "source": [
    "np.random.random([4, 2, 2])"
   ]
  },
  {
   "cell_type": "code",
   "execution_count": 34,
   "id": "aa07025c",
   "metadata": {},
   "outputs": [
    {
     "data": {
      "text/plain": [
       "array([[1., 0., 0., 0.],\n",
       "       [0., 1., 0., 0.],\n",
       "       [0., 0., 1., 0.],\n",
       "       [0., 0., 0., 1.]])"
      ]
     },
     "execution_count": 34,
     "metadata": {},
     "output_type": "execute_result"
    }
   ],
   "source": [
    "np.identity(4)"
   ]
  },
  {
   "cell_type": "markdown",
   "id": "d54e3691-15e7-41fd-93ef-2eb890b9f45e",
   "metadata": {},
   "source": [
    "How to generate the following numpy array?"
   ]
  },
  {
   "cell_type": "code",
   "execution_count": 35,
   "id": "473942cc-9c73-4520-9602-629297e80624",
   "metadata": {},
   "outputs": [],
   "source": [
    "# array([[ 1,  1,  1,  1],\n",
    "#        [ 1,  9, -9,  1],\n",
    "#        [ 1, -9,  9,  1],\n",
    "#        [ 1,  1,  1,  1]])"
   ]
  },
  {
   "cell_type": "code",
   "execution_count": 36,
   "id": "f7234216",
   "metadata": {},
   "outputs": [
    {
     "data": {
      "text/plain": [
       "array([[ 1,  1,  1,  1],\n",
       "       [ 1,  9, -9,  1],\n",
       "       [ 1, -9,  9,  1],\n",
       "       [ 1,  1,  1,  1]])"
      ]
     },
     "execution_count": 36,
     "metadata": {},
     "output_type": "execute_result"
    }
   ],
   "source": [
    "# Answer\n",
    "\n",
    "d = np.ones([4, 4], dtype=int)\n",
    "d[1:3, 1:3] = 9\n",
    "d[1, 2] = -9\n",
    "d[2, 1] = -9\n",
    "d"
   ]
  },
  {
   "cell_type": "markdown",
   "id": "9d188ee9",
   "metadata": {},
   "source": [
    "### Arithmetic (element-wise)"
   ]
  },
  {
   "cell_type": "code",
   "execution_count": 37,
   "id": "b57e00da",
   "metadata": {},
   "outputs": [
    {
     "data": {
      "text/plain": [
       "array([1, 2, 3, 4])"
      ]
     },
     "execution_count": 37,
     "metadata": {},
     "output_type": "execute_result"
    }
   ],
   "source": [
    "a = np.array([1, 2, 3, 4])\n",
    "a"
   ]
  },
  {
   "cell_type": "code",
   "execution_count": 38,
   "id": "de7df51c",
   "metadata": {},
   "outputs": [
    {
     "data": {
      "text/plain": [
       "array([2, 3, 4, 5])"
      ]
     },
     "execution_count": 38,
     "metadata": {},
     "output_type": "execute_result"
    }
   ],
   "source": [
    "a + 1"
   ]
  },
  {
   "cell_type": "code",
   "execution_count": 39,
   "id": "1d7009c8",
   "metadata": {},
   "outputs": [
    {
     "data": {
      "text/plain": [
       "array([2, 4, 6, 8])"
      ]
     },
     "execution_count": 39,
     "metadata": {},
     "output_type": "execute_result"
    }
   ],
   "source": [
    "a * 2"
   ]
  },
  {
   "cell_type": "code",
   "execution_count": 40,
   "id": "a1598990",
   "metadata": {},
   "outputs": [
    {
     "data": {
      "text/plain": [
       "array([ 1,  4,  9, 16])"
      ]
     },
     "execution_count": 40,
     "metadata": {},
     "output_type": "execute_result"
    }
   ],
   "source": [
    "a ** 2"
   ]
  },
  {
   "cell_type": "code",
   "execution_count": 41,
   "id": "aaee2cc9",
   "metadata": {},
   "outputs": [
    {
     "data": {
      "text/plain": [
       "array([9, 6, 5, 5])"
      ]
     },
     "execution_count": 41,
     "metadata": {},
     "output_type": "execute_result"
    }
   ],
   "source": [
    "b = np.array([8, 4, 2, 1])\n",
    "a + b"
   ]
  },
  {
   "cell_type": "markdown",
   "id": "acd55a25",
   "metadata": {},
   "source": [
    "### Copies"
   ]
  },
  {
   "cell_type": "markdown",
   "id": "b85dd742-6dc1-4406-b4c1-9377856f70d6",
   "metadata": {},
   "source": [
    "Reference:\n",
    "\n",
    "https://stackoverflow.com/questions/66648023\n",
    "\n",
    "https://www.w3schools.com/python/numpy/numpy_copy_vs_view.asp"
   ]
  },
  {
   "cell_type": "code",
   "execution_count": 42,
   "id": "c505ce4e",
   "metadata": {},
   "outputs": [],
   "source": [
    "a = np.array([1, 2, 3, 4])"
   ]
  },
  {
   "cell_type": "code",
   "execution_count": 43,
   "id": "8b24dd0e",
   "metadata": {},
   "outputs": [
    {
     "data": {
      "text/plain": [
       "array([99,  2,  3,  4])"
      ]
     },
     "execution_count": 43,
     "metadata": {},
     "output_type": "execute_result"
    }
   ],
   "source": [
    "# View\n",
    "b = a\n",
    "b[0] = 99\n",
    "b"
   ]
  },
  {
   "cell_type": "code",
   "execution_count": 44,
   "id": "9a264db1",
   "metadata": {},
   "outputs": [
    {
     "data": {
      "text/plain": [
       "array([99,  2,  3,  4])"
      ]
     },
     "execution_count": 44,
     "metadata": {},
     "output_type": "execute_result"
    }
   ],
   "source": [
    "# The first element of 'a' will be updated to 99\n",
    "# Why?\n",
    "a"
   ]
  },
  {
   "cell_type": "code",
   "execution_count": 45,
   "id": "bd18ac7c",
   "metadata": {},
   "outputs": [
    {
     "data": {
      "text/plain": [
       "array([100,   2,   3,   4])"
      ]
     },
     "execution_count": 45,
     "metadata": {},
     "output_type": "execute_result"
    }
   ],
   "source": [
    "# A 'real' copy\n",
    "b = a.copy()\n",
    "b[0] = 100\n",
    "b"
   ]
  },
  {
   "cell_type": "code",
   "execution_count": 46,
   "id": "222aeb04",
   "metadata": {},
   "outputs": [
    {
     "data": {
      "text/plain": [
       "array([99,  2,  3,  4])"
      ]
     },
     "execution_count": 46,
     "metadata": {},
     "output_type": "execute_result"
    }
   ],
   "source": [
    "# 'a' is not affected\n",
    "a"
   ]
  },
  {
   "cell_type": "markdown",
   "id": "efc3583f",
   "metadata": {},
   "source": [
    "### Statistics"
   ]
  },
  {
   "cell_type": "code",
   "execution_count": 47,
   "id": "2275a027",
   "metadata": {},
   "outputs": [
    {
     "data": {
      "text/plain": [
       "array([[1, 2, 3, 4],\n",
       "       [4, 3, 2, 1]])"
      ]
     },
     "execution_count": 47,
     "metadata": {},
     "output_type": "execute_result"
    }
   ],
   "source": [
    "a = np.array([[1, 2, 3, 4], [4, 3, 2, 1]])\n",
    "a"
   ]
  },
  {
   "cell_type": "code",
   "execution_count": 48,
   "id": "83957197",
   "metadata": {},
   "outputs": [
    {
     "data": {
      "text/plain": [
       "np.int64(1)"
      ]
     },
     "execution_count": 48,
     "metadata": {},
     "output_type": "execute_result"
    }
   ],
   "source": [
    "np.min(a)"
   ]
  },
  {
   "cell_type": "code",
   "execution_count": 49,
   "id": "bc99bc11",
   "metadata": {},
   "outputs": [
    {
     "data": {
      "text/plain": [
       "np.int64(1)"
      ]
     },
     "execution_count": 49,
     "metadata": {},
     "output_type": "execute_result"
    }
   ],
   "source": [
    "a.min()"
   ]
  },
  {
   "cell_type": "code",
   "execution_count": 50,
   "id": "05b7ac9b",
   "metadata": {},
   "outputs": [
    {
     "data": {
      "text/plain": [
       "np.int64(4)"
      ]
     },
     "execution_count": 50,
     "metadata": {},
     "output_type": "execute_result"
    }
   ],
   "source": [
    "a.max()"
   ]
  },
  {
   "cell_type": "code",
   "execution_count": 51,
   "id": "de2b86cc",
   "metadata": {},
   "outputs": [
    {
     "data": {
      "text/plain": [
       "np.int64(20)"
      ]
     },
     "execution_count": 51,
     "metadata": {},
     "output_type": "execute_result"
    }
   ],
   "source": [
    "a.sum()"
   ]
  },
  {
   "cell_type": "markdown",
   "id": "f96ed816-bedf-403d-8d74-233ef5c15bf2",
   "metadata": {},
   "source": [
    "In world of NumPy/pandas, axis=0 (default) usually means 'by row' while axis=1 means 'by column'. Note that this is different from the xyz coordinate system we learned in school.\n",
    "\n",
    "See also:\n",
    "\"NumPy axes are the directions along the rows and columns\" on https://www.sharpsightlabs.com/blog/numpy-axes-explained"
   ]
  },
  {
   "cell_type": "code",
   "execution_count": 52,
   "id": "c5487b9f",
   "metadata": {},
   "outputs": [
    {
     "data": {
      "text/plain": [
       "array([5, 5, 5, 5])"
      ]
     },
     "execution_count": 52,
     "metadata": {},
     "output_type": "execute_result"
    }
   ],
   "source": [
    "a.sum(axis=0)"
   ]
  },
  {
   "cell_type": "code",
   "execution_count": 53,
   "id": "ee0b4200",
   "metadata": {},
   "outputs": [
    {
     "data": {
      "text/plain": [
       "array([10, 10])"
      ]
     },
     "execution_count": 53,
     "metadata": {},
     "output_type": "execute_result"
    }
   ],
   "source": [
    "a.sum(axis=1)"
   ]
  },
  {
   "cell_type": "code",
   "execution_count": 54,
   "id": "69256cb2",
   "metadata": {},
   "outputs": [
    {
     "data": {
      "text/plain": [
       "array([[1, 2, 3, 4],\n",
       "       [1, 2, 3, 4]])"
      ]
     },
     "execution_count": 54,
     "metadata": {},
     "output_type": "execute_result"
    }
   ],
   "source": [
    "# This implies axis=-1 (default, which means sorting alone the last axis, and in this case it's axis=1)\n",
    "np.sort(a)"
   ]
  },
  {
   "cell_type": "markdown",
   "id": "98410d85",
   "metadata": {},
   "source": [
    "### Reshape"
   ]
  },
  {
   "cell_type": "code",
   "execution_count": 55,
   "id": "f8f023e9",
   "metadata": {},
   "outputs": [
    {
     "data": {
      "text/plain": [
       "array([[1, 2, 3, 4],\n",
       "       [5, 6, 7, 8]])"
      ]
     },
     "execution_count": 55,
     "metadata": {},
     "output_type": "execute_result"
    }
   ],
   "source": [
    "a = np.array([[1, 2, 3, 4], [5, 6, 7, 8]])\n",
    "a"
   ]
  },
  {
   "cell_type": "code",
   "execution_count": 56,
   "id": "2dc9bcc0",
   "metadata": {},
   "outputs": [
    {
     "data": {
      "text/plain": [
       "array([[1, 2],\n",
       "       [3, 4],\n",
       "       [5, 6],\n",
       "       [7, 8]])"
      ]
     },
     "execution_count": 56,
     "metadata": {},
     "output_type": "execute_result"
    }
   ],
   "source": [
    "# Again, this is just creating a 'view' of the original array\n",
    "a.reshape([4, 2])"
   ]
  },
  {
   "cell_type": "markdown",
   "id": "5572f0bd",
   "metadata": {},
   "source": [
    "### Load from file"
   ]
  },
  {
   "cell_type": "code",
   "execution_count": 57,
   "id": "718ba650",
   "metadata": {},
   "outputs": [
    {
     "name": "stderr",
     "output_type": "stream",
     "text": [
      "/var/folders/95/q416n7fx77l3yfckm3670b740000gq/T/ipykernel_84205/3720697138.py:1: RuntimeWarning: invalid value encountered in cast\n",
      "  census = np.genfromtxt('./data/uk_countries.csv', delimiter=',').astype(int)\n"
     ]
    },
    {
     "data": {
      "text/plain": [
       "array([[   130278,  47055205,  49138831,  53012456,  56490048],\n",
       "       [    13562,   1577836,   1685267,   1810863,   1903175],\n",
       "       [    77925,   4998567,   5062011,   5295403,   5418400],\n",
       "       [    20735,   2835073,   2903085,   3063456,   3107494],\n",
       "       [        0, 112933362, 117578388, 126364356, 133838234],\n",
       "       [        0, 169400043, 176367582, 189546534, 200757351]])"
      ]
     },
     "execution_count": 57,
     "metadata": {},
     "output_type": "execute_result"
    }
   ],
   "source": [
    "census = np.genfromtxt('./data/uk_countries.csv', delimiter=',').astype(int)\n",
    "census\n",
    "census[1:, 2:]\n",
    "\n",
    "# You may see a warning because in this file we still have some text strings e.g. country names which NumPy doesn't know how to convert to numbers\n",
    "# Remember that a NumPy array can only store one type of data"
   ]
  },
  {
   "cell_type": "code",
   "execution_count": 58,
   "id": "be251dd0",
   "metadata": {},
   "outputs": [
    {
     "data": {
      "text/plain": [
       "array([169400043, 176367582, 189546534, 200757351])"
      ]
     },
     "execution_count": 58,
     "metadata": {},
     "output_type": "execute_result"
    }
   ],
   "source": [
    "# Only keep the area that contains population data\n",
    "population = census[1:-1, 3:]\n",
    "\n",
    "# Work out the sum of each column (direction of the 'add' operation: axis=0 i.e. by row)\n",
    "population_sum = population.sum(axis=0).astype(int)\n",
    "population_sum"
   ]
  },
  {
   "cell_type": "markdown",
   "id": "566e756a",
   "metadata": {},
   "source": [
    "### Condition-based masking and indexing"
   ]
  },
  {
   "cell_type": "code",
   "execution_count": 59,
   "id": "e081cb85",
   "metadata": {},
   "outputs": [
    {
     "data": {
      "text/plain": [
       "array([ True,  True,  True,  True])"
      ]
     },
     "execution_count": 59,
     "metadata": {},
     "output_type": "execute_result"
    }
   ],
   "source": [
    "# This will return an array of boolean, indicating whether each element on the relevant position meets the condition\n",
    "population_sum > 60000000"
   ]
  },
  {
   "cell_type": "code",
   "execution_count": 60,
   "id": "74d95d8a",
   "metadata": {},
   "outputs": [
    {
     "data": {
      "text/plain": [
       "array([169400043, 176367582, 189546534, 200757351])"
      ]
     },
     "execution_count": 60,
     "metadata": {},
     "output_type": "execute_result"
    }
   ],
   "source": [
    "# Passing the boolean array to filter out the elements that have met the condition i.e. True\n",
    "population_sum[population_sum > 60000000]"
   ]
  }
 ],
 "metadata": {
  "kernelspec": {
   "display_name": "Python 3 (ipykernel)",
   "language": "python",
   "name": "python3"
  },
  "language_info": {
   "codemirror_mode": {
    "name": "ipython",
    "version": 3
   },
   "file_extension": ".py",
   "mimetype": "text/x-python",
   "name": "python",
   "nbconvert_exporter": "python",
   "pygments_lexer": "ipython3",
   "version": "3.12.2"
  }
 },
 "nbformat": 4,
 "nbformat_minor": 5
}
