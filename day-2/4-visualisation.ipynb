{
 "cells": [
  {
   "cell_type": "markdown",
   "id": "f8c329b7",
   "metadata": {},
   "source": [
    "### Data\n",
    "COVID-19 cases, deaths, vaccinations:\n",
    "https://data.who.int/dashboards/covid19/data?n=o\n",
    "\n",
    "What you need:\n",
    "`./data/who_covid_cases.csv` and `./data/who_covid_vaccination.csv`"
   ]
  },
  {
   "cell_type": "markdown",
   "id": "a9f201b6",
   "metadata": {},
   "source": [
    "### Prep"
   ]
  },
  {
   "cell_type": "code",
   "execution_count": null,
   "id": "187077d2",
   "metadata": {},
   "outputs": [],
   "source": [
    "import numpy as np\n",
    "import pandas as pd\n",
    "import matplotlib.pyplot as plt\n",
    "\n",
    "pd.options.display.float_format = '{:.2f}'.format\n",
    "\n",
    "plt.style.use('seaborn')"
   ]
  },
  {
   "cell_type": "markdown",
   "id": "93c59282",
   "metadata": {},
   "source": [
    "### COVID-19 cases and deaths"
   ]
  },
  {
   "cell_type": "code",
   "execution_count": null,
   "id": "fab441d4",
   "metadata": {},
   "outputs": [],
   "source": []
  },
  {
   "cell_type": "code",
   "execution_count": null,
   "id": "f1dbc167",
   "metadata": {},
   "outputs": [],
   "source": []
  },
  {
   "cell_type": "markdown",
   "id": "22e658a7",
   "metadata": {},
   "source": [
    "### Line graph"
   ]
  },
  {
   "cell_type": "code",
   "execution_count": null,
   "id": "d8d12509",
   "metadata": {},
   "outputs": [],
   "source": [
    "plt.title('COVID-19 cases over time')\n",
    "\n",
    "plt.plot(dfc[dfc['Country_code'] == 'US']['Date_reported'], dfc[dfc['Country_code'] == 'US']['New_cases'], 'b.-')\n",
    "plt.plot(dfc[dfc['Country_code'] == 'GB']['Date_reported'], dfc[dfc['Country_code'] == 'GB']['New_cases'], 'g.-')\n",
    "\n",
    "plt.legend(['US', 'GB'])\n",
    "\n",
    "xticks = dfc['Date_reported'].unique()[::15]\n",
    "plt.xticks(xticks, rotation=60)\n",
    "\n",
    "plt.xlabel('date')\n",
    "plt.ylabel('number of cases')\n",
    "\n",
    "plt.ticklabel_format(axis='y', style='sci', scilimits=(0, 7))\n",
    "\n",
    "plt.show()"
   ]
  },
  {
   "cell_type": "code",
   "execution_count": null,
   "id": "4119c8b4",
   "metadata": {},
   "outputs": [],
   "source": []
  },
  {
   "cell_type": "markdown",
   "id": "3e00e4d2",
   "metadata": {},
   "source": [
    "### COVID-19 vaccination"
   ]
  },
  {
   "cell_type": "code",
   "execution_count": null,
   "id": "35da6c8d",
   "metadata": {},
   "outputs": [],
   "source": []
  },
  {
   "cell_type": "code",
   "execution_count": null,
   "id": "962701c3",
   "metadata": {},
   "outputs": [],
   "source": []
  },
  {
   "cell_type": "markdown",
   "id": "2c8a8969",
   "metadata": {},
   "source": [
    "### Pie chart"
   ]
  },
  {
   "cell_type": "code",
   "execution_count": null,
   "id": "d260e310",
   "metadata": {},
   "outputs": [],
   "source": [
    "who_regions_mapping = {\n",
    "    'AMRO': 'Americas',\n",
    "    'EMRO': 'Eastern Mediterranean',\n",
    "    'AFRO': 'African',\n",
    "    'EURO': 'European',\n",
    "    'WPRO': 'Western Pacific',\n",
    "    'SEARO': 'South-East Asian'\n",
    "}"
   ]
  },
  {
   "cell_type": "code",
   "execution_count": null,
   "id": "4c023feb",
   "metadata": {},
   "outputs": [],
   "source": []
  },
  {
   "cell_type": "markdown",
   "id": "4a40aeed",
   "metadata": {},
   "source": [
    "### Histogram and bar plot"
   ]
  },
  {
   "cell_type": "code",
   "execution_count": null,
   "id": "a12df17a",
   "metadata": {},
   "outputs": [],
   "source": [
    "plt.title('Distribution of PERSONS_LAST_DOSE_PER100, by WHO region')\n",
    "\n",
    "dfv_region_and_values = dfv[['WHO_REGION', 'PERSONS_LAST_DOSE_PER100']].dropna(subset=['WHO_REGION', 'PERSONS_LAST_DOSE_PER100'])\n",
    "\n",
    "for region in dfv_region_and_values['WHO_REGION'].unique():\n",
    "    plt.hist(dfv_region_and_values[dfv_region_and_values['WHO_REGION'] == region]['PERSONS_LAST_DOSE_PER100'], bins=10, stacked=True)\n",
    "\n",
    "r = plt.hist([dfv_region_and_values[dfv_region_and_values['WHO_REGION'] == region]['PERSONS_LAST_DOSE_PER100'] for region in who_regions_unique], bins=bins, stacked=True)    \n",
    "\n",
    "plt.legend([who_regions[region] for region in who_regions_unique])\n",
    "    \n",
    "plt.xticks(bins)\n",
    "\n",
    "plt.xlabel('PERSONS_LAST_DOSE_PER100')\n",
    "plt.ylabel('number of countries')\n",
    "\n",
    "plt.show()"
   ]
  },
  {
   "cell_type": "code",
   "execution_count": null,
   "id": "6978943e",
   "metadata": {},
   "outputs": [],
   "source": []
  },
  {
   "cell_type": "markdown",
   "id": "dcd8e56f",
   "metadata": {},
   "source": [
    "### Box plot"
   ]
  },
  {
   "cell_type": "code",
   "execution_count": null,
   "id": "e822639f",
   "metadata": {},
   "outputs": [],
   "source": [
    "plt.title('Distribution of PERSONS_LAST_DOSE_PER100, by WHO region')\n",
    "\n",
    "plt.boxplot([dfv_region_and_values[dfv_region_and_values['WHO_REGION'] == region]['PERSONS_LAST_DOSE_PER100'] for region in who_regions_unique], labels=[who_regions[region] for region in who_regions_unique])\n",
    "\n",
    "plt.xticks(rotation=15)\n",
    "\n",
    "plt.ylabel('PERSONS_LAST_DOSE_PER100')\n",
    "\n",
    "plt.show()"
   ]
  },
  {
   "cell_type": "code",
   "execution_count": null,
   "id": "001d5b9e",
   "metadata": {},
   "outputs": [],
   "source": []
  }
 ],
 "metadata": {
  "kernelspec": {
   "display_name": "Python 3 (ipykernel)",
   "language": "python",
   "name": "python3"
  },
  "language_info": {
   "codemirror_mode": {
    "name": "ipython",
    "version": 3
   },
   "file_extension": ".py",
   "mimetype": "text/x-python",
   "name": "python",
   "nbconvert_exporter": "python",
   "pygments_lexer": "ipython3",
   "version": "3.9.13"
  }
 },
 "nbformat": 4,
 "nbformat_minor": 5
}
