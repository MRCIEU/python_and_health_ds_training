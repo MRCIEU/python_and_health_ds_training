{
 "cells": [
  {
   "cell_type": "markdown",
   "id": "f8c329b7",
   "metadata": {},
   "source": [
    "### Data\n",
    "COVID-19 cases, deaths, vaccinations:\n",
    "https://data.who.int/dashboards/covid19/data?n=o\n",
    "\n",
    "What you need:\n",
    "`./data/who_covid_cases.csv` and `./data/who_covid_vaccination.csv`"
   ]
  },
  {
   "cell_type": "markdown",
   "id": "a9f201b6",
   "metadata": {},
   "source": [
    "### Prep"
   ]
  },
  {
   "cell_type": "code",
   "execution_count": null,
   "id": "187077d2",
   "metadata": {},
   "outputs": [],
   "source": [
    "import numpy as np\n",
    "import pandas as pd\n",
    "import matplotlib.pyplot as plt\n",
    "\n",
    "pd.options.display.float_format = '{:.2f}'.format\n",
    "\n",
    "plt.style.use('seaborn')"
   ]
  },
  {
   "cell_type": "markdown",
   "id": "93c59282",
   "metadata": {},
   "source": [
    "### COVID-19 cases and deaths"
   ]
  },
  {
   "cell_type": "code",
   "execution_count": null,
   "id": "fab441d4",
   "metadata": {},
   "outputs": [],
   "source": []
  },
  {
   "cell_type": "code",
   "execution_count": null,
   "id": "f1dbc167",
   "metadata": {},
   "outputs": [],
   "source": []
  },
  {
   "cell_type": "markdown",
   "id": "22e658a7",
   "metadata": {},
   "source": [
    "### Line graph"
   ]
  },
  {
   "cell_type": "code",
   "execution_count": null,
   "id": "d8d12509",
   "metadata": {},
   "outputs": [],
   "source": []
  },
  {
   "cell_type": "code",
   "execution_count": null,
   "id": "4119c8b4",
   "metadata": {},
   "outputs": [],
   "source": []
  },
  {
   "cell_type": "markdown",
   "id": "3e00e4d2",
   "metadata": {},
   "source": [
    "### COVID-19 vaccination"
   ]
  },
  {
   "cell_type": "code",
   "execution_count": null,
   "id": "35da6c8d",
   "metadata": {},
   "outputs": [],
   "source": []
  },
  {
   "cell_type": "code",
   "execution_count": null,
   "id": "962701c3",
   "metadata": {},
   "outputs": [],
   "source": []
  },
  {
   "cell_type": "markdown",
   "id": "2c8a8969",
   "metadata": {},
   "source": [
    "### Pie chart"
   ]
  },
  {
   "cell_type": "code",
   "execution_count": null,
   "id": "d260e310",
   "metadata": {},
   "outputs": [],
   "source": []
  },
  {
   "cell_type": "code",
   "execution_count": null,
   "id": "4c023feb",
   "metadata": {},
   "outputs": [],
   "source": []
  },
  {
   "cell_type": "markdown",
   "id": "4a40aeed",
   "metadata": {},
   "source": [
    "### Histogram and bar plot"
   ]
  },
  {
   "cell_type": "code",
   "execution_count": null,
   "id": "a12df17a",
   "metadata": {},
   "outputs": [],
   "source": []
  },
  {
   "cell_type": "code",
   "execution_count": null,
   "id": "6978943e",
   "metadata": {},
   "outputs": [],
   "source": []
  },
  {
   "cell_type": "markdown",
   "id": "dcd8e56f",
   "metadata": {},
   "source": [
    "### Box plot"
   ]
  },
  {
   "cell_type": "code",
   "execution_count": null,
   "id": "e822639f",
   "metadata": {},
   "outputs": [],
   "source": []
  },
  {
   "cell_type": "code",
   "execution_count": null,
   "id": "001d5b9e",
   "metadata": {},
   "outputs": [],
   "source": []
  }
 ],
 "metadata": {
  "kernelspec": {
   "display_name": "Python 3 (ipykernel)",
   "language": "python",
   "name": "python3"
  },
  "language_info": {
   "codemirror_mode": {
    "name": "ipython",
    "version": 3
   },
   "file_extension": ".py",
   "mimetype": "text/x-python",
   "name": "python",
   "nbconvert_exporter": "python",
   "pygments_lexer": "ipython3",
   "version": "3.9.13"
  }
 },
 "nbformat": 4,
 "nbformat_minor": 5
}
