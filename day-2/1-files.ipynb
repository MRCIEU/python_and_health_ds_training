{
 "cells": [
  {
   "cell_type": "markdown",
   "id": "73ae6043",
   "metadata": {},
   "source": [
    "### Data\n",
    "United Kingdom: Countries and Major Cities\n",
    "https://www.citypopulation.de/en/uk/cities/\n",
    "\n",
    "What you need:\n",
    "`./data/uk_countries.csv`"
   ]
  },
  {
   "cell_type": "markdown",
   "id": "1f9a7de5",
   "metadata": {},
   "source": [
    "### File open and close"
   ]
  },
  {
   "cell_type": "code",
   "execution_count": 1,
   "id": "e05508c8",
   "metadata": {},
   "outputs": [
    {
     "name": "stdout",
     "output_type": "stream",
     "text": [
      "name,capital,area_km2,population_1991,population_2001,population_2011,population_2021\n",
      "\n",
      "England,London,130278,47055205,49138831,53012456,56490048\n",
      "\n",
      "Northern Ireland,Belfast,13562,1577836,1685267,1810863,1903175\n",
      "\n",
      "Scotland,Edinburgh,77925,4998567,5062011,5295403,5418400\n",
      "\n",
      "Wales,Cardiff,20735,2835073,2903085,3063456,3107494\n",
      "\n"
     ]
    }
   ],
   "source": [
    "# CSV stands for Comma Separated Values, which is a file format\n",
    "\n",
    "f = open(file='./data/uk_countries.csv', mode='r', encoding='utf-8')\n",
    "\n",
    "for line in f:\n",
    "    print(line)\n",
    "\n",
    "# Always remember to close the file handler\n",
    "f.close()"
   ]
  },
  {
   "cell_type": "code",
   "execution_count": 2,
   "id": "21d9fdbc",
   "metadata": {
    "scrolled": true
   },
   "outputs": [
    {
     "name": "stdout",
     "output_type": "stream",
     "text": [
      "name,capital,area_km2,population_1991,population_2001,population_2011,population_2021\n",
      "\n",
      "England,London,130278,47055205,49138831,53012456,56490048\n",
      "\n",
      "Northern Ireland,Belfast,13562,1577836,1685267,1810863,1903175\n",
      "\n",
      "Scotland,Edinburgh,77925,4998567,5062011,5295403,5418400\n",
      "\n",
      "Wales,Cardiff,20735,2835073,2903085,3063456,3107494\n",
      "\n"
     ]
    }
   ],
   "source": [
    "# Alternatively, we can use the 'with' statement\n",
    "# 'f' will be active within this code block, and there is no need to do f.close()\n",
    "\n",
    "with open(file='./data/uk_countries.csv', mode='r', encoding='utf-8') as f:\n",
    "    for line in f:\n",
    "        print(line)\n",
    "\n",
    "# This won't work as 'f' does not exist anymore\n",
    "# for line in f:\n",
    "#     print(line)"
   ]
  },
  {
   "cell_type": "markdown",
   "id": "22691e80-46a2-4b41-805e-7efabb4d364a",
   "metadata": {},
   "source": [
    "#### Why use 'with'?\n",
    "- Make sure the file is properly closed\n",
    "- When writing to a file, data may not be written until you explicitly close the file"
   ]
  },
  {
   "cell_type": "markdown",
   "id": "90041e84-7a9b-4d44-99c2-377d4696b079",
   "metadata": {},
   "source": [
    "#### Why we have extra blank lines?\n",
    "\n",
    "Because each print() will generate a new line, while at the end of each line in the original file there is already a 'new line character' (\\n), so effectively each line of content will be followed by two 'new line characters'."
   ]
  },
  {
   "cell_type": "markdown",
   "id": "86706f08",
   "metadata": {},
   "source": [
    "### Working on a simple dataset (UK population)"
   ]
  },
  {
   "cell_type": "markdown",
   "id": "42bd6f3d-0b9e-457a-82fe-103be68c597e",
   "metadata": {},
   "source": [
    "#### Task: get the sum of UK population across the countries, by year"
   ]
  },
  {
   "cell_type": "code",
   "execution_count": 3,
   "id": "83434279",
   "metadata": {},
   "outputs": [
    {
     "name": "stdout",
     "output_type": "stream",
     "text": [
      "['UK', 'London', 0, 56466681, 58789194, 63182178, 66919117]\n"
     ]
    },
    {
     "data": {
      "text/plain": [
       "'UK,London,0,56466681,58789194,63182178,66919117'"
      ]
     },
     "execution_count": 3,
     "metadata": {},
     "output_type": "execute_result"
    }
   ],
   "source": [
    "# It's always a good practice to initilise something like this, so that you can have a concerte understanding of what you will achieve\n",
    "result = ['UK', 'London', 0, 0, 0, 0, 0]\n",
    "\n",
    "with open(\"./data/uk_countries.csv\", mode=\"r\", encoding=\"utf-8\") as f:\n",
    "    for line in f.readlines()[1:]:\n",
    "        row = line.strip().split(\",\")\n",
    "# We could do this, but if we have say 100+ columns then that would be a hassle, so we use a 'for' loop\n",
    "#         result[3] = result[3] + int(row[3])\n",
    "#         result[4] = result[4] + int(row[4])\n",
    "#         result[5] = result[5] + int(row[5])\n",
    "#         result[6] = result[6] + int(row[6])\n",
    "#         print(result)\n",
    "        for i in [3, 4, 5, 6]:\n",
    "            result[i] += int(row[i])\n",
    "\n",
    "print(result)\n",
    "\n",
    "result_str = \",\".join([str(r) for r in result])\n",
    "\n",
    "result_str"
   ]
  },
  {
   "cell_type": "code",
   "execution_count": 4,
   "id": "421c051a",
   "metadata": {},
   "outputs": [],
   "source": [
    "# To make a copy of the original file because we still need it (without the sum row) in the next section\n",
    "import shutil\n",
    "shutil.copyfile(\"./data/uk_countries.csv\", \"./data/uk_countries_sum.csv\")\n",
    "\n",
    "# Append the result to the data file\n",
    "# See now we specify the mode as 'a' (append), while previously we used 'r' (read)\n",
    "with open(file=\"./data/uk_countries_sum.csv\", mode=\"a\", encoding=\"utf-8\") as f:\n",
    "    f.write(result_str + \"\\n\")\n",
    "\n",
    "# NOTE: You should only do this once, otherwise you will have duplicate lines. To remove the line you just added, use any text editor. Just remember to leave a blank line at the end."
   ]
  },
  {
   "cell_type": "markdown",
   "id": "96040e9d",
   "metadata": {},
   "source": [
    "### Re-organise data"
   ]
  },
  {
   "cell_type": "markdown",
   "id": "0f6634ab-aaa0-4c12-a8f1-e77dad7164d9",
   "metadata": {},
   "source": [
    "We need to re-organise the data into the JSON format, which will be used later"
   ]
  },
  {
   "cell_type": "code",
   "execution_count": 5,
   "id": "baa7e3a4",
   "metadata": {},
   "outputs": [
    {
     "data": {
      "text/plain": [
       "{'country': ['England',\n",
       "  'England',\n",
       "  'England',\n",
       "  'England',\n",
       "  'Northern Ireland',\n",
       "  'Northern Ireland',\n",
       "  'Northern Ireland',\n",
       "  'Northern Ireland',\n",
       "  'Scotland',\n",
       "  'Scotland',\n",
       "  'Scotland',\n",
       "  'Scotland',\n",
       "  'Wales',\n",
       "  'Wales',\n",
       "  'Wales',\n",
       "  'Wales'],\n",
       " 'year': ['1991',\n",
       "  '2001',\n",
       "  '2011',\n",
       "  '2021',\n",
       "  '1991',\n",
       "  '2001',\n",
       "  '2011',\n",
       "  '2021',\n",
       "  '1991',\n",
       "  '2001',\n",
       "  '2011',\n",
       "  '2021',\n",
       "  '1991',\n",
       "  '2001',\n",
       "  '2011',\n",
       "  '2021'],\n",
       " 'population': ['47055205',\n",
       "  '49138831',\n",
       "  '53012456',\n",
       "  '56490048',\n",
       "  '1577836',\n",
       "  '1685267',\n",
       "  '1810863',\n",
       "  '1903175',\n",
       "  '4998567',\n",
       "  '5062011',\n",
       "  '5295403',\n",
       "  '5418400',\n",
       "  '2835073',\n",
       "  '2903085',\n",
       "  '3063456',\n",
       "  '3107494']}"
      ]
     },
     "execution_count": 5,
     "metadata": {},
     "output_type": "execute_result"
    }
   ],
   "source": [
    "output = {\n",
    "    'country': [],\n",
    "    'year': [],\n",
    "    'population': []\n",
    "}\n",
    "\n",
    "with open(\"./data/uk_countries.csv\", mode=\"r\", encoding=\"utf-8\") as f:\n",
    "    fields = f.readline().strip().split(\",\")\n",
    "    for line in f.readlines():\n",
    "        row = line.strip().split(\",\")\n",
    "        for i in [3, 4, 5, 6]:\n",
    "            output['country'].append(row[0])\n",
    "            year = fields[i].split(\"_\")[1]\n",
    "            output['year'].append(year)\n",
    "            output['population'].append(row[i])\n",
    "output"
   ]
  },
  {
   "cell_type": "markdown",
   "id": "93ecffd4",
   "metadata": {},
   "source": [
    "### Save file"
   ]
  },
  {
   "cell_type": "code",
   "execution_count": 6,
   "id": "181360f4",
   "metadata": {},
   "outputs": [],
   "source": [
    "import json\n",
    "\n",
    "with open('./data/uk_population.json', 'w') as f:\n",
    "    json.dump(output, f)"
   ]
  }
 ],
 "metadata": {
  "kernelspec": {
   "display_name": "Python 3 (ipykernel)",
   "language": "python",
   "name": "python3"
  },
  "language_info": {
   "codemirror_mode": {
    "name": "ipython",
    "version": 3
   },
   "file_extension": ".py",
   "mimetype": "text/x-python",
   "name": "python",
   "nbconvert_exporter": "python",
   "pygments_lexer": "ipython3",
   "version": "3.12.2"
  }
 },
 "nbformat": 4,
 "nbformat_minor": 5
}
