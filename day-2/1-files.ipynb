{
 "cells": [
  {
   "cell_type": "markdown",
   "id": "73ae6043",
   "metadata": {},
   "source": [
    "### Data\n",
    "United Kingdom: Countries and Major Cities\n",
    "https://www.citypopulation.de/en/uk/cities/\n",
    "\n",
    "What you need:\n",
    "`./data/uk_countries.csv`"
   ]
  },
  {
   "cell_type": "markdown",
   "id": "1f9a7de5",
   "metadata": {},
   "source": [
    "### File open and close"
   ]
  },
  {
   "cell_type": "code",
   "execution_count": null,
   "id": "e05508c8",
   "metadata": {},
   "outputs": [],
   "source": []
  },
  {
   "cell_type": "code",
   "execution_count": null,
   "id": "21d9fdbc",
   "metadata": {},
   "outputs": [],
   "source": []
  },
  {
   "cell_type": "markdown",
   "id": "86706f08",
   "metadata": {},
   "source": [
    "### Working on a simple dataset (UK population)"
   ]
  },
  {
   "cell_type": "code",
   "execution_count": null,
   "id": "83434279",
   "metadata": {},
   "outputs": [],
   "source": []
  },
  {
   "cell_type": "code",
   "execution_count": null,
   "id": "f85823c6",
   "metadata": {},
   "outputs": [],
   "source": []
  },
  {
   "cell_type": "markdown",
   "id": "96040e9d",
   "metadata": {},
   "source": [
    "### Re-organise data"
   ]
  },
  {
   "cell_type": "code",
   "execution_count": null,
   "id": "baa7e3a4",
   "metadata": {},
   "outputs": [],
   "source": []
  },
  {
   "cell_type": "code",
   "execution_count": null,
   "id": "5f8959ed",
   "metadata": {},
   "outputs": [],
   "source": []
  },
  {
   "cell_type": "markdown",
   "id": "93ecffd4",
   "metadata": {},
   "source": [
    "### Save file"
   ]
  },
  {
   "cell_type": "code",
   "execution_count": null,
   "id": "181360f4",
   "metadata": {},
   "outputs": [],
   "source": []
  },
  {
   "cell_type": "code",
   "execution_count": null,
   "id": "73e6a41f",
   "metadata": {},
   "outputs": [],
   "source": []
  }
 ],
 "metadata": {
  "kernelspec": {
   "display_name": "Python 3 (ipykernel)",
   "language": "python",
   "name": "python3"
  },
  "language_info": {
   "codemirror_mode": {
    "name": "ipython",
    "version": 3
   },
   "file_extension": ".py",
   "mimetype": "text/x-python",
   "name": "python",
   "nbconvert_exporter": "python",
   "pygments_lexer": "ipython3",
   "version": "3.9.13"
  }
 },
 "nbformat": 4,
 "nbformat_minor": 5
}
