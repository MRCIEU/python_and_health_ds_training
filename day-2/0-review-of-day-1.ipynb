{
 "cells": [
  {
   "cell_type": "markdown",
   "id": "bade6a01-9ba6-4878-87fb-daf2837eb482",
   "metadata": {},
   "source": [
    "Refer to:\n",
    "\n",
    "#### Python Cheat Sheet https://ehmatthes.github.io/pcc_3e/cheat_sheets/"
   ]
  },
  {
   "cell_type": "markdown",
   "id": "14eb6cb9-0e21-490b-b4c8-32b39857c67c",
   "metadata": {},
   "source": [
    "#### Two more things:"
   ]
  },
  {
   "cell_type": "markdown",
   "id": "a8842be0-3b6f-4f97-8581-6ec96a5889db",
   "metadata": {},
   "source": [
    "#### 1. Comprehensions: where to put 'if' - before or after 'for'?\n",
    "\n",
    "Answer: https://stackoverflow.com/a/4260304"
   ]
  },
  {
   "cell_type": "code",
   "execution_count": 1,
   "id": "45ec181f",
   "metadata": {},
   "outputs": [
    {
     "data": {
      "text/plain": [
       "{'color': 'yellow', 'length': 'blue', 'count': 0}"
      ]
     },
     "execution_count": 1,
     "metadata": {},
     "output_type": "execute_result"
    }
   ],
   "source": [
    "# Create a dict\n",
    "b = {\n",
    "    'color': 'yellow',\n",
    "    'length': 'blue',\n",
    "    'count': 0\n",
    "}\n",
    "b"
   ]
  },
  {
   "cell_type": "code",
   "execution_count": 2,
   "id": "952f728f",
   "metadata": {
    "scrolled": true
   },
   "outputs": [
    {
     "data": {
      "text/plain": [
       "['yellow', '', 0]"
      ]
     },
     "execution_count": 2,
     "metadata": {},
     "output_type": "execute_result"
    }
   ],
   "source": [
    "# By default we should use:\n",
    "# if ... for ...\n",
    "# if ... else ... for\n",
    "[value if index.startswith('c') else '' for index, value in b.items()]"
   ]
  },
  {
   "cell_type": "code",
   "execution_count": 3,
   "id": "54de7a20",
   "metadata": {},
   "outputs": [
    {
     "data": {
      "text/plain": [
       "['yellow', 0]"
      ]
     },
     "execution_count": 3,
     "metadata": {},
     "output_type": "execute_result"
    }
   ],
   "source": [
    "# Only if there is no 'else' we can also use:\n",
    "# for ... if ...\n",
    "[value for index, value in b.items() if index.startswith('c')]"
   ]
  },
  {
   "cell_type": "markdown",
   "id": "2a8cae89-54e5-4bd4-8d17-0b31f85c8bdf",
   "metadata": {},
   "source": [
    "#### 2. Keys (Indices) of dict: uniqueness\n",
    "\n",
    "In addition to Python set https://www.w3schools.com/python/python_sets.asp, we can just use the keys of Python dict to maintain a 'set' of unique elements."
   ]
  },
  {
   "cell_type": "code",
   "execution_count": 4,
   "id": "4345e3c6",
   "metadata": {},
   "outputs": [
    {
     "data": {
      "text/plain": [
       "['A', 'B', 'C']"
      ]
     },
     "execution_count": 4,
     "metadata": {},
     "output_type": "execute_result"
    }
   ],
   "source": [
    "# Imagine that we would like to get rid of the duplicate values\n",
    "# Expected output: ['A', 'B', 'C']\n",
    "surnames = ['A', 'B', 'C', 'B']\n",
    "\n",
    "unique = {}\n",
    "\n",
    "for surname in surnames:\n",
    "    unique[surname] = None # Can be any value as they are irrelevant in this case\n",
    "\n",
    "unique = list(unique.keys())\n",
    "unique"
   ]
  }
 ],
 "metadata": {
  "kernelspec": {
   "display_name": "Python 3 (ipykernel)",
   "language": "python",
   "name": "python3"
  },
  "language_info": {
   "codemirror_mode": {
    "name": "ipython",
    "version": 3
   },
   "file_extension": ".py",
   "mimetype": "text/x-python",
   "name": "python",
   "nbconvert_exporter": "python",
   "pygments_lexer": "ipython3",
   "version": "3.12.2"
  }
 },
 "nbformat": 4,
 "nbformat_minor": 5
}
