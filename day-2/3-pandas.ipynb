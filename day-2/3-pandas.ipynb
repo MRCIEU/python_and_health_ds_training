{
 "cells": [
  {
   "cell_type": "markdown",
   "id": "72d72616",
   "metadata": {},
   "source": [
    "What you need:\n",
    "`./data/uk_population.json`"
   ]
  },
  {
   "cell_type": "markdown",
   "id": "a4a24e66",
   "metadata": {},
   "source": [
    "### Load NumPy and Pandas"
   ]
  },
  {
   "cell_type": "code",
   "execution_count": null,
   "id": "1c0aecf4",
   "metadata": {},
   "outputs": [],
   "source": []
  },
  {
   "cell_type": "code",
   "execution_count": null,
   "id": "6a741f41",
   "metadata": {},
   "outputs": [],
   "source": []
  },
  {
   "cell_type": "markdown",
   "id": "def74cdf",
   "metadata": {},
   "source": [
    "### Series (1-dimensional)"
   ]
  },
  {
   "cell_type": "code",
   "execution_count": null,
   "id": "3656dab7",
   "metadata": {},
   "outputs": [],
   "source": []
  },
  {
   "cell_type": "code",
   "execution_count": null,
   "id": "ef564f99",
   "metadata": {},
   "outputs": [],
   "source": []
  },
  {
   "cell_type": "markdown",
   "id": "2211e6c5",
   "metadata": {},
   "source": [
    "### DataFrame (usually 2-dimensional or higher)"
   ]
  },
  {
   "cell_type": "code",
   "execution_count": null,
   "id": "46ad5a86",
   "metadata": {},
   "outputs": [],
   "source": []
  },
  {
   "cell_type": "code",
   "execution_count": null,
   "id": "3777b871",
   "metadata": {},
   "outputs": [],
   "source": []
  },
  {
   "cell_type": "markdown",
   "id": "67363ac7",
   "metadata": {},
   "source": [
    "### Sorting data & statistics"
   ]
  },
  {
   "cell_type": "code",
   "execution_count": null,
   "id": "d787c361",
   "metadata": {},
   "outputs": [],
   "source": []
  },
  {
   "cell_type": "code",
   "execution_count": null,
   "id": "5eef3d1a",
   "metadata": {},
   "outputs": [],
   "source": []
  },
  {
   "cell_type": "markdown",
   "id": "9982c895",
   "metadata": {},
   "source": [
    "### Missing values"
   ]
  },
  {
   "cell_type": "code",
   "execution_count": null,
   "id": "0ffefb15",
   "metadata": {},
   "outputs": [],
   "source": []
  },
  {
   "cell_type": "code",
   "execution_count": null,
   "id": "34eb1f44",
   "metadata": {},
   "outputs": [],
   "source": []
  },
  {
   "cell_type": "markdown",
   "id": "3781e94f",
   "metadata": {},
   "source": [
    "### Accessing and modifying elements"
   ]
  },
  {
   "cell_type": "code",
   "execution_count": null,
   "id": "c5414328",
   "metadata": {},
   "outputs": [],
   "source": []
  },
  {
   "cell_type": "code",
   "execution_count": null,
   "id": "2013e95f",
   "metadata": {},
   "outputs": [],
   "source": []
  },
  {
   "cell_type": "markdown",
   "id": "158ecd7b",
   "metadata": {},
   "source": [
    "### Saving data to files"
   ]
  },
  {
   "cell_type": "code",
   "execution_count": null,
   "id": "bab5dac8",
   "metadata": {},
   "outputs": [],
   "source": []
  },
  {
   "cell_type": "code",
   "execution_count": null,
   "id": "138a587a",
   "metadata": {},
   "outputs": [],
   "source": []
  }
 ],
 "metadata": {
  "kernelspec": {
   "display_name": "Python 3 (ipykernel)",
   "language": "python",
   "name": "python3"
  },
  "language_info": {
   "codemirror_mode": {
    "name": "ipython",
    "version": 3
   },
   "file_extension": ".py",
   "mimetype": "text/x-python",
   "name": "python",
   "nbconvert_exporter": "python",
   "pygments_lexer": "ipython3",
   "version": "3.9.13"
  }
 },
 "nbformat": 4,
 "nbformat_minor": 5
}
