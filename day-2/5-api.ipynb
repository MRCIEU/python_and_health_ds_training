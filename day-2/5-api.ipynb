{
 "cells": [
  {
   "cell_type": "markdown",
   "id": "4538ba6c",
   "metadata": {},
   "source": [
    "What you need: Internet connection"
   ]
  },
  {
   "cell_type": "markdown",
   "id": "3dd3334f",
   "metadata": {},
   "source": [
    "### What is \"API\"?"
   ]
  },
  {
   "cell_type": "markdown",
   "id": "eb8a6bba",
   "metadata": {},
   "source": [
    "### Prep"
   ]
  },
  {
   "cell_type": "code",
   "execution_count": null,
   "id": "7b5a1901",
   "metadata": {},
   "outputs": [],
   "source": [
    "import requests\n",
    "\n",
    "from PIL import Image\n",
    "from IPython.display import display\n",
    "\n",
    "cat_base_url = \"https://api.thecatapi.com/v1\"\n",
    "\n",
    "# IMPORTANT: In reality such key serves as your 'password' and should be only read from a separate file which is excluded from email attachments, file uploads and git commits etc.\n",
    "# It should never be 'hardcoded' in your code.\n",
    "cat_api_key = \"live_J53mvL4PgbDmZHQLhdbJqOfFbLTYyxTbQ3TfgUomPwf5jDpVmRuoO2SDZcySbnX2\"\n",
    "\n",
    "ensembl_base_url = \"https://rest.ensembl.org/\"\n",
    "\n",
    "def display_image(url):\n",
    "    img = Image.open(requests.get(response[0]['url'], stream=True).raw)\n",
    "    display(img)"
   ]
  },
  {
   "cell_type": "code",
   "execution_count": null,
   "id": "17691215",
   "metadata": {},
   "outputs": [],
   "source": []
  },
  {
   "cell_type": "markdown",
   "id": "57b246d9",
   "metadata": {},
   "source": [
    "### The Cat API"
   ]
  },
  {
   "cell_type": "code",
   "execution_count": null,
   "id": "f3a6f6a4",
   "metadata": {},
   "outputs": [],
   "source": [
    "# https://developers.thecatapi.com/view-account/ylX4blBYT9FaoVd6OhvR?report=aZyiLrsCh#tag/Images/paths/~1images~1search/get\n",
    "\n",
    "r = requests.get(cat_base_url + \"/images/search\")\n",
    "print('Request has been made to:', r.url)\n",
    "\n",
    "response = r.json()\n",
    "cat_url = response[0]['url']\n",
    "cat_id = response[0]['id']\n",
    "\n",
    "response"
   ]
  },
  {
   "cell_type": "code",
   "execution_count": null,
   "id": "7566b9c6",
   "metadata": {},
   "outputs": [],
   "source": []
  },
  {
   "cell_type": "code",
   "execution_count": null,
   "id": "a60468dd",
   "metadata": {},
   "outputs": [],
   "source": [
    "r = requests.get(cat_base_url + \"/images/\" + cat_id + \"/breeds\")\n",
    "print('Request has been made to:', r.url)\n",
    "response = r.json()\n",
    "\n",
    "response"
   ]
  },
  {
   "cell_type": "markdown",
   "id": "9c8d63b1",
   "metadata": {},
   "source": [
    "### The Ensembl API"
   ]
  },
  {
   "cell_type": "code",
   "execution_count": null,
   "id": "787275fb",
   "metadata": {},
   "outputs": [],
   "source": [
    "# https://rest.ensembl.org/documentation/info/lookup\n",
    "\n",
    "ensembl_id = 'ENSG00000157764'\n",
    "\n",
    "r = requests.get(ensembl_base_url + 'lookup/id/' + ensembl_id, headers={\n",
    "    \"Content-Type\" : \"application/json\"\n",
    "})\n",
    "\n",
    "r.json()\n",
    "\n",
    "# Can we include phenotypes in the response?"
   ]
  },
  {
   "cell_type": "code",
   "execution_count": null,
   "id": "7fffe4f0",
   "metadata": {},
   "outputs": [],
   "source": []
  }
 ],
 "metadata": {
  "kernelspec": {
   "display_name": "Python 3 (ipykernel)",
   "language": "python",
   "name": "python3"
  },
  "language_info": {
   "codemirror_mode": {
    "name": "ipython",
    "version": 3
   },
   "file_extension": ".py",
   "mimetype": "text/x-python",
   "name": "python",
   "nbconvert_exporter": "python",
   "pygments_lexer": "ipython3",
   "version": "3.9.13"
  }
 },
 "nbformat": 4,
 "nbformat_minor": 5
}
