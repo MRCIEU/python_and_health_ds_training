{
 "cells": [
  {
   "cell_type": "markdown",
   "id": "4538ba6c",
   "metadata": {},
   "source": [
    "What you need: Internet connection"
   ]
  },
  {
   "cell_type": "markdown",
   "id": "3dd3334f",
   "metadata": {},
   "source": [
    "### What is \"API\"?"
   ]
  },
  {
   "cell_type": "markdown",
   "id": "eb8a6bba",
   "metadata": {},
   "source": [
    "### Prep"
   ]
  },
  {
   "cell_type": "code",
   "execution_count": null,
   "id": "7b5a1901",
   "metadata": {},
   "outputs": [],
   "source": [
    "import requests\n",
    "\n",
    "from PIL import Image\n",
    "from IPython.display import display\n",
    "\n",
    "cat_base_url = \"https://api.thecatapi.com/v1\"\n",
    "\n",
    "# IMPORTANT: In reality such key serves as your 'password' and should be only read from a separate file which is excluded from email attachments, file uploads and git commits etc.\n",
    "# It should never be 'hardcoded' in your code.\n",
    "cat_api_key = \"live_J53mvL4PgbDmZHQLhdbJqOfFbLTYyxTbQ3TfgUomPwf5jDpVmRuoO2SDZcySbnX2\"\n",
    "\n",
    "ensembl_base_url = \"https://rest.ensembl.org/\"\n",
    "\n",
    "def display_image(url):\n",
    "    img = Image.open(requests.get(response[0]['url'], stream=True).raw)\n",
    "    display(img)"
   ]
  },
  {
   "cell_type": "code",
   "execution_count": null,
   "id": "17691215",
   "metadata": {},
   "outputs": [],
   "source": []
  },
  {
   "cell_type": "markdown",
   "id": "57b246d9",
   "metadata": {},
   "source": [
    "### The Cat API"
   ]
  },
  {
   "cell_type": "code",
   "execution_count": null,
   "id": "f3a6f6a4",
   "metadata": {},
   "outputs": [],
   "source": []
  },
  {
   "cell_type": "code",
   "execution_count": null,
   "id": "7566b9c6",
   "metadata": {},
   "outputs": [],
   "source": []
  },
  {
   "cell_type": "markdown",
   "id": "9c8d63b1",
   "metadata": {},
   "source": [
    "### The Ensembl API"
   ]
  },
  {
   "cell_type": "code",
   "execution_count": null,
   "id": "787275fb",
   "metadata": {},
   "outputs": [],
   "source": []
  },
  {
   "cell_type": "code",
   "execution_count": null,
   "id": "7fffe4f0",
   "metadata": {},
   "outputs": [],
   "source": []
  }
 ],
 "metadata": {
  "kernelspec": {
   "display_name": "Python 3 (ipykernel)",
   "language": "python",
   "name": "python3"
  },
  "language_info": {
   "codemirror_mode": {
    "name": "ipython",
    "version": 3
   },
   "file_extension": ".py",
   "mimetype": "text/x-python",
   "name": "python",
   "nbconvert_exporter": "python",
   "pygments_lexer": "ipython3",
   "version": "3.9.13"
  }
 },
 "nbformat": 4,
 "nbformat_minor": 5
}
